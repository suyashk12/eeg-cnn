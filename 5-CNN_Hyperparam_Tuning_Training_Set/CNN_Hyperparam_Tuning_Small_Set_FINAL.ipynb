{
 "cells": [
  {
   "cell_type": "markdown",
   "metadata": {},
   "source": [
    "### Imports"
   ]
  },
  {
   "cell_type": "code",
   "execution_count": 1,
   "metadata": {},
   "outputs": [],
   "source": [
    "import numpy as np\n",
    "import matplotlib.pyplot as plt\n",
    "import pandas as pd\n",
    "import h5py"
   ]
  },
  {
   "cell_type": "markdown",
   "metadata": {},
   "source": [
    "### Read in Data"
   ]
  },
  {
   "cell_type": "code",
   "execution_count": 2,
   "metadata": {},
   "outputs": [],
   "source": [
    "#Function to read in the data\n",
    "def readHF(filename):\n",
    "        \n",
    "    with h5py.File(filename, \"r\") as f:\n",
    "        \n",
    "        #data = np.zeros(len(f.keys()))\n",
    "        dataX = []\n",
    "        #dataY = []\n",
    "        \n",
    "        # List all groups\n",
    "#         print(\"Keys: %s\" % f.keys())\n",
    "        \n",
    "        for i in range(len(f.keys())):\n",
    "\n",
    "            a_group_key = list(f.keys())[i]\n",
    "            # Get the data\n",
    "            temp = list(f[a_group_key])\n",
    "            \n",
    "#             print(temp) #test\n",
    "#             print(np.shape(temp))\n",
    "            \n",
    "            dataX.append(temp)\n",
    "            \n",
    "    return dataX"
   ]
  },
  {
   "cell_type": "code",
   "execution_count": 3,
   "metadata": {},
   "outputs": [],
   "source": [
    "S1 = readHF(\"S1.h5\")"
   ]
  },
  {
   "cell_type": "code",
   "execution_count": 4,
   "metadata": {},
   "outputs": [
    {
     "data": {
      "text/plain": [
       "(200, 64, 256)"
      ]
     },
     "execution_count": 4,
     "metadata": {},
     "output_type": "execute_result"
    }
   ],
   "source": [
    "np.shape(S1)"
   ]
  },
  {
   "cell_type": "code",
   "execution_count": 5,
   "metadata": {},
   "outputs": [],
   "source": [
    "S2match = readHF(\"S2_match.h5\")"
   ]
  },
  {
   "cell_type": "code",
   "execution_count": 6,
   "metadata": {},
   "outputs": [
    {
     "data": {
      "text/plain": [
       "(200, 64, 256)"
      ]
     },
     "execution_count": 6,
     "metadata": {},
     "output_type": "execute_result"
    }
   ],
   "source": [
    "np.shape(S2match)"
   ]
  },
  {
   "cell_type": "code",
   "execution_count": 7,
   "metadata": {},
   "outputs": [],
   "source": [
    "S2nonmatch = readHF(\"S2_nonmatch.h5\")"
   ]
  },
  {
   "cell_type": "code",
   "execution_count": 8,
   "metadata": {},
   "outputs": [
    {
     "data": {
      "text/plain": [
       "(200, 64, 256)"
      ]
     },
     "execution_count": 8,
     "metadata": {},
     "output_type": "execute_result"
    }
   ],
   "source": [
    "np.shape(S2nonmatch)"
   ]
  },
  {
   "cell_type": "code",
   "execution_count": 9,
   "metadata": {},
   "outputs": [],
   "source": [
    "patient_info_S1 = pd.read_csv('S1_patient_summary.csv')"
   ]
  },
  {
   "cell_type": "code",
   "execution_count": 10,
   "metadata": {},
   "outputs": [
    {
     "data": {
      "text/html": [
       "<div>\n",
       "<style scoped>\n",
       "    .dataframe tbody tr th:only-of-type {\n",
       "        vertical-align: middle;\n",
       "    }\n",
       "\n",
       "    .dataframe tbody tr th {\n",
       "        vertical-align: top;\n",
       "    }\n",
       "\n",
       "    .dataframe thead th {\n",
       "        text-align: right;\n",
       "    }\n",
       "</style>\n",
       "<table border=\"1\" class=\"dataframe\">\n",
       "  <thead>\n",
       "    <tr style=\"text-align: right;\">\n",
       "      <th></th>\n",
       "      <th>Patient</th>\n",
       "      <th>Type</th>\n",
       "      <th>Trial</th>\n",
       "    </tr>\n",
       "  </thead>\n",
       "  <tbody>\n",
       "    <tr>\n",
       "      <th>0</th>\n",
       "      <td>co2c0000337</td>\n",
       "      <td>c</td>\n",
       "      <td>0</td>\n",
       "    </tr>\n",
       "    <tr>\n",
       "      <th>1</th>\n",
       "      <td>co2c0000337</td>\n",
       "      <td>c</td>\n",
       "      <td>2</td>\n",
       "    </tr>\n",
       "    <tr>\n",
       "      <th>2</th>\n",
       "      <td>co2c0000337</td>\n",
       "      <td>c</td>\n",
       "      <td>16</td>\n",
       "    </tr>\n",
       "    <tr>\n",
       "      <th>3</th>\n",
       "      <td>co2c0000337</td>\n",
       "      <td>c</td>\n",
       "      <td>24</td>\n",
       "    </tr>\n",
       "    <tr>\n",
       "      <th>4</th>\n",
       "      <td>co2c0000337</td>\n",
       "      <td>c</td>\n",
       "      <td>26</td>\n",
       "    </tr>\n",
       "    <tr>\n",
       "      <th>...</th>\n",
       "      <td>...</td>\n",
       "      <td>...</td>\n",
       "      <td>...</td>\n",
       "    </tr>\n",
       "    <tr>\n",
       "      <th>195</th>\n",
       "      <td>co2a0000378</td>\n",
       "      <td>a</td>\n",
       "      <td>10</td>\n",
       "    </tr>\n",
       "    <tr>\n",
       "      <th>196</th>\n",
       "      <td>co2a0000378</td>\n",
       "      <td>a</td>\n",
       "      <td>12</td>\n",
       "    </tr>\n",
       "    <tr>\n",
       "      <th>197</th>\n",
       "      <td>co2a0000378</td>\n",
       "      <td>a</td>\n",
       "      <td>14</td>\n",
       "    </tr>\n",
       "    <tr>\n",
       "      <th>198</th>\n",
       "      <td>co2a0000378</td>\n",
       "      <td>a</td>\n",
       "      <td>16</td>\n",
       "    </tr>\n",
       "    <tr>\n",
       "      <th>199</th>\n",
       "      <td>co2a0000378</td>\n",
       "      <td>a</td>\n",
       "      <td>18</td>\n",
       "    </tr>\n",
       "  </tbody>\n",
       "</table>\n",
       "<p>200 rows × 3 columns</p>\n",
       "</div>"
      ],
      "text/plain": [
       "         Patient Type  Trial\n",
       "0    co2c0000337    c      0\n",
       "1    co2c0000337    c      2\n",
       "2    co2c0000337    c     16\n",
       "3    co2c0000337    c     24\n",
       "4    co2c0000337    c     26\n",
       "..           ...  ...    ...\n",
       "195  co2a0000378    a     10\n",
       "196  co2a0000378    a     12\n",
       "197  co2a0000378    a     14\n",
       "198  co2a0000378    a     16\n",
       "199  co2a0000378    a     18\n",
       "\n",
       "[200 rows x 3 columns]"
      ]
     },
     "execution_count": 10,
     "metadata": {},
     "output_type": "execute_result"
    }
   ],
   "source": [
    "patient_info_S1"
   ]
  },
  {
   "cell_type": "code",
   "execution_count": 11,
   "metadata": {},
   "outputs": [],
   "source": [
    "S1LabelTemp = patient_info_S1.iloc[:,1].to_numpy()"
   ]
  },
  {
   "cell_type": "code",
   "execution_count": 12,
   "metadata": {},
   "outputs": [
    {
     "data": {
      "text/plain": [
       "array(['c', 'c', 'c', 'c', 'c', 'c', 'c', 'c', 'c', 'c', 'c', 'c', 'c',\n",
       "       'c', 'c', 'c', 'c', 'c', 'c', 'c', 'c', 'c', 'c', 'c', 'c', 'c',\n",
       "       'c', 'c', 'c', 'c', 'c', 'c', 'c', 'c', 'c', 'c', 'c', 'c', 'c',\n",
       "       'c', 'c', 'c', 'c', 'c', 'c', 'c', 'c', 'c', 'c', 'c', 'c', 'c',\n",
       "       'c', 'c', 'c', 'c', 'c', 'c', 'c', 'c', 'c', 'c', 'c', 'c', 'c',\n",
       "       'c', 'c', 'c', 'c', 'c', 'c', 'c', 'c', 'c', 'c', 'c', 'c', 'c',\n",
       "       'c', 'c', 'c', 'c', 'c', 'c', 'c', 'c', 'c', 'c', 'c', 'c', 'c',\n",
       "       'c', 'c', 'c', 'c', 'c', 'c', 'c', 'c', 'c', 'a', 'a', 'a', 'a',\n",
       "       'a', 'a', 'a', 'a', 'a', 'a', 'a', 'a', 'a', 'a', 'a', 'a', 'a',\n",
       "       'a', 'a', 'a', 'a', 'a', 'a', 'a', 'a', 'a', 'a', 'a', 'a', 'a',\n",
       "       'a', 'a', 'a', 'a', 'a', 'a', 'a', 'a', 'a', 'a', 'a', 'a', 'a',\n",
       "       'a', 'a', 'a', 'a', 'a', 'a', 'a', 'a', 'a', 'a', 'a', 'a', 'a',\n",
       "       'a', 'a', 'a', 'a', 'a', 'a', 'a', 'a', 'a', 'a', 'a', 'a', 'a',\n",
       "       'a', 'a', 'a', 'a', 'a', 'a', 'a', 'a', 'a', 'a', 'a', 'a', 'a',\n",
       "       'a', 'a', 'a', 'a', 'a', 'a', 'a', 'a', 'a', 'a', 'a', 'a', 'a',\n",
       "       'a', 'a', 'a', 'a', 'a'], dtype=object)"
      ]
     },
     "execution_count": 12,
     "metadata": {},
     "output_type": "execute_result"
    }
   ],
   "source": [
    "S1LabelTemp"
   ]
  },
  {
   "cell_type": "code",
   "execution_count": 13,
   "metadata": {},
   "outputs": [
    {
     "data": {
      "text/plain": [
       "(200,)"
      ]
     },
     "execution_count": 13,
     "metadata": {},
     "output_type": "execute_result"
    }
   ],
   "source": [
    "np.shape(S1LabelTemp)"
   ]
  },
  {
   "cell_type": "code",
   "execution_count": 14,
   "metadata": {},
   "outputs": [],
   "source": [
    "S1Label = np.zeros(len(S1LabelTemp)) #Control is 0, alcoholic is 1\n",
    "for i in np.where(S1LabelTemp == 'a'):\n",
    "    S1Label[i] = 1"
   ]
  },
  {
   "cell_type": "code",
   "execution_count": 15,
   "metadata": {},
   "outputs": [
    {
     "name": "stdout",
     "output_type": "stream",
     "text": [
      "[0. 0. 0. 0. 0. 0. 0. 0. 0. 0. 0. 0. 0. 0. 0. 0. 0. 0. 0. 0. 0. 0. 0. 0.\n",
      " 0. 0. 0. 0. 0. 0. 0. 0. 0. 0. 0. 0. 0. 0. 0. 0. 0. 0. 0. 0. 0. 0. 0. 0.\n",
      " 0. 0. 0. 0. 0. 0. 0. 0. 0. 0. 0. 0. 0. 0. 0. 0. 0. 0. 0. 0. 0. 0. 0. 0.\n",
      " 0. 0. 0. 0. 0. 0. 0. 0. 0. 0. 0. 0. 0. 0. 0. 0. 0. 0. 0. 0. 0. 0. 0. 0.\n",
      " 0. 0. 0. 0. 1. 1. 1. 1. 1. 1. 1. 1. 1. 1. 1. 1. 1. 1. 1. 1. 1. 1. 1. 1.\n",
      " 1. 1. 1. 1. 1. 1. 1. 1. 1. 1. 1. 1. 1. 1. 1. 1. 1. 1. 1. 1. 1. 1. 1. 1.\n",
      " 1. 1. 1. 1. 1. 1. 1. 1. 1. 1. 1. 1. 1. 1. 1. 1. 1. 1. 1. 1. 1. 1. 1. 1.\n",
      " 1. 1. 1. 1. 1. 1. 1. 1. 1. 1. 1. 1. 1. 1. 1. 1. 1. 1. 1. 1. 1. 1. 1. 1.\n",
      " 1. 1. 1. 1. 1. 1. 1. 1.]\n"
     ]
    }
   ],
   "source": [
    "print(S1Label)"
   ]
  },
  {
   "cell_type": "code",
   "execution_count": 16,
   "metadata": {},
   "outputs": [],
   "source": [
    "patient_info_S2match = pd.read_csv('S2_match_patient_summary.csv')"
   ]
  },
  {
   "cell_type": "code",
   "execution_count": 17,
   "metadata": {},
   "outputs": [
    {
     "data": {
      "text/html": [
       "<div>\n",
       "<style scoped>\n",
       "    .dataframe tbody tr th:only-of-type {\n",
       "        vertical-align: middle;\n",
       "    }\n",
       "\n",
       "    .dataframe tbody tr th {\n",
       "        vertical-align: top;\n",
       "    }\n",
       "\n",
       "    .dataframe thead th {\n",
       "        text-align: right;\n",
       "    }\n",
       "</style>\n",
       "<table border=\"1\" class=\"dataframe\">\n",
       "  <thead>\n",
       "    <tr style=\"text-align: right;\">\n",
       "      <th></th>\n",
       "      <th>Patient</th>\n",
       "      <th>Type</th>\n",
       "      <th>Trial</th>\n",
       "    </tr>\n",
       "  </thead>\n",
       "  <tbody>\n",
       "    <tr>\n",
       "      <th>0</th>\n",
       "      <td>co2c0000337</td>\n",
       "      <td>c</td>\n",
       "      <td>17</td>\n",
       "    </tr>\n",
       "    <tr>\n",
       "      <th>1</th>\n",
       "      <td>co2c0000337</td>\n",
       "      <td>c</td>\n",
       "      <td>23</td>\n",
       "    </tr>\n",
       "    <tr>\n",
       "      <th>2</th>\n",
       "      <td>co2c0000337</td>\n",
       "      <td>c</td>\n",
       "      <td>25</td>\n",
       "    </tr>\n",
       "    <tr>\n",
       "      <th>3</th>\n",
       "      <td>co2c0000337</td>\n",
       "      <td>c</td>\n",
       "      <td>27</td>\n",
       "    </tr>\n",
       "    <tr>\n",
       "      <th>4</th>\n",
       "      <td>co2c0000337</td>\n",
       "      <td>c</td>\n",
       "      <td>41</td>\n",
       "    </tr>\n",
       "    <tr>\n",
       "      <th>...</th>\n",
       "      <td>...</td>\n",
       "      <td>...</td>\n",
       "      <td>...</td>\n",
       "    </tr>\n",
       "    <tr>\n",
       "      <th>195</th>\n",
       "      <td>co2a0000378</td>\n",
       "      <td>a</td>\n",
       "      <td>27</td>\n",
       "    </tr>\n",
       "    <tr>\n",
       "      <th>196</th>\n",
       "      <td>co2a0000378</td>\n",
       "      <td>a</td>\n",
       "      <td>37</td>\n",
       "    </tr>\n",
       "    <tr>\n",
       "      <th>197</th>\n",
       "      <td>co2a0000378</td>\n",
       "      <td>a</td>\n",
       "      <td>41</td>\n",
       "    </tr>\n",
       "    <tr>\n",
       "      <th>198</th>\n",
       "      <td>co2a0000378</td>\n",
       "      <td>a</td>\n",
       "      <td>47</td>\n",
       "    </tr>\n",
       "    <tr>\n",
       "      <th>199</th>\n",
       "      <td>co2a0000378</td>\n",
       "      <td>a</td>\n",
       "      <td>51</td>\n",
       "    </tr>\n",
       "  </tbody>\n",
       "</table>\n",
       "<p>200 rows × 3 columns</p>\n",
       "</div>"
      ],
      "text/plain": [
       "         Patient Type  Trial\n",
       "0    co2c0000337    c     17\n",
       "1    co2c0000337    c     23\n",
       "2    co2c0000337    c     25\n",
       "3    co2c0000337    c     27\n",
       "4    co2c0000337    c     41\n",
       "..           ...  ...    ...\n",
       "195  co2a0000378    a     27\n",
       "196  co2a0000378    a     37\n",
       "197  co2a0000378    a     41\n",
       "198  co2a0000378    a     47\n",
       "199  co2a0000378    a     51\n",
       "\n",
       "[200 rows x 3 columns]"
      ]
     },
     "execution_count": 17,
     "metadata": {},
     "output_type": "execute_result"
    }
   ],
   "source": [
    "patient_info_S2match"
   ]
  },
  {
   "cell_type": "code",
   "execution_count": 18,
   "metadata": {},
   "outputs": [],
   "source": [
    "S2matchLabelTemp = patient_info_S2match.iloc[:,1].to_numpy()"
   ]
  },
  {
   "cell_type": "code",
   "execution_count": 19,
   "metadata": {},
   "outputs": [],
   "source": [
    "S2matchLabel = np.zeros(len(S2matchLabelTemp)) #Control is 0, alcoholic is 1\n",
    "for i in np.where(S2matchLabelTemp == 'a'):\n",
    "    S2matchLabel[i] = 1"
   ]
  },
  {
   "cell_type": "code",
   "execution_count": 20,
   "metadata": {},
   "outputs": [
    {
     "name": "stdout",
     "output_type": "stream",
     "text": [
      "[0. 0. 0. 0. 0. 0. 0. 0. 0. 0. 0. 0. 0. 0. 0. 0. 0. 0. 0. 0. 0. 0. 0. 0.\n",
      " 0. 0. 0. 0. 0. 0. 0. 0. 0. 0. 0. 0. 0. 0. 0. 0. 0. 0. 0. 0. 0. 0. 0. 0.\n",
      " 0. 0. 0. 0. 0. 0. 0. 0. 0. 0. 0. 0. 0. 0. 0. 0. 0. 0. 0. 0. 0. 0. 0. 0.\n",
      " 0. 0. 0. 0. 0. 0. 0. 0. 0. 0. 0. 0. 0. 0. 0. 0. 0. 0. 0. 0. 0. 0. 0. 0.\n",
      " 0. 0. 0. 0. 1. 1. 1. 1. 1. 1. 1. 1. 1. 1. 1. 1. 1. 1. 1. 1. 1. 1. 1. 1.\n",
      " 1. 1. 1. 1. 1. 1. 1. 1. 1. 1. 1. 1. 1. 1. 1. 1. 1. 1. 1. 1. 1. 1. 1. 1.\n",
      " 1. 1. 1. 1. 1. 1. 1. 1. 1. 1. 1. 1. 1. 1. 1. 1. 1. 1. 1. 1. 1. 1. 1. 1.\n",
      " 1. 1. 1. 1. 1. 1. 1. 1. 1. 1. 1. 1. 1. 1. 1. 1. 1. 1. 1. 1. 1. 1. 1. 1.\n",
      " 1. 1. 1. 1. 1. 1. 1. 1.]\n"
     ]
    }
   ],
   "source": [
    "print(S2matchLabel)"
   ]
  },
  {
   "cell_type": "code",
   "execution_count": 21,
   "metadata": {},
   "outputs": [],
   "source": [
    "patient_info_S2nonmatch = pd.read_csv('S2_nonmatch_patient_summary.csv')"
   ]
  },
  {
   "cell_type": "code",
   "execution_count": 22,
   "metadata": {},
   "outputs": [
    {
     "data": {
      "text/html": [
       "<div>\n",
       "<style scoped>\n",
       "    .dataframe tbody tr th:only-of-type {\n",
       "        vertical-align: middle;\n",
       "    }\n",
       "\n",
       "    .dataframe tbody tr th {\n",
       "        vertical-align: top;\n",
       "    }\n",
       "\n",
       "    .dataframe thead th {\n",
       "        text-align: right;\n",
       "    }\n",
       "</style>\n",
       "<table border=\"1\" class=\"dataframe\">\n",
       "  <thead>\n",
       "    <tr style=\"text-align: right;\">\n",
       "      <th></th>\n",
       "      <th>Patient</th>\n",
       "      <th>Type</th>\n",
       "      <th>Trial</th>\n",
       "    </tr>\n",
       "  </thead>\n",
       "  <tbody>\n",
       "    <tr>\n",
       "      <th>0</th>\n",
       "      <td>co2c0000337</td>\n",
       "      <td>c</td>\n",
       "      <td>21</td>\n",
       "    </tr>\n",
       "    <tr>\n",
       "      <th>1</th>\n",
       "      <td>co2c0000337</td>\n",
       "      <td>c</td>\n",
       "      <td>29</td>\n",
       "    </tr>\n",
       "    <tr>\n",
       "      <th>2</th>\n",
       "      <td>co2c0000337</td>\n",
       "      <td>c</td>\n",
       "      <td>33</td>\n",
       "    </tr>\n",
       "    <tr>\n",
       "      <th>3</th>\n",
       "      <td>co2c0000337</td>\n",
       "      <td>c</td>\n",
       "      <td>43</td>\n",
       "    </tr>\n",
       "    <tr>\n",
       "      <th>4</th>\n",
       "      <td>co2c0000337</td>\n",
       "      <td>c</td>\n",
       "      <td>53</td>\n",
       "    </tr>\n",
       "    <tr>\n",
       "      <th>...</th>\n",
       "      <td>...</td>\n",
       "      <td>...</td>\n",
       "      <td>...</td>\n",
       "    </tr>\n",
       "    <tr>\n",
       "      <th>195</th>\n",
       "      <td>co2a0000378</td>\n",
       "      <td>a</td>\n",
       "      <td>21</td>\n",
       "    </tr>\n",
       "    <tr>\n",
       "      <th>196</th>\n",
       "      <td>co2a0000378</td>\n",
       "      <td>a</td>\n",
       "      <td>29</td>\n",
       "    </tr>\n",
       "    <tr>\n",
       "      <th>197</th>\n",
       "      <td>co2a0000378</td>\n",
       "      <td>a</td>\n",
       "      <td>31</td>\n",
       "    </tr>\n",
       "    <tr>\n",
       "      <th>198</th>\n",
       "      <td>co2a0000378</td>\n",
       "      <td>a</td>\n",
       "      <td>33</td>\n",
       "    </tr>\n",
       "    <tr>\n",
       "      <th>199</th>\n",
       "      <td>co2a0000378</td>\n",
       "      <td>a</td>\n",
       "      <td>35</td>\n",
       "    </tr>\n",
       "  </tbody>\n",
       "</table>\n",
       "<p>200 rows × 3 columns</p>\n",
       "</div>"
      ],
      "text/plain": [
       "         Patient Type  Trial\n",
       "0    co2c0000337    c     21\n",
       "1    co2c0000337    c     29\n",
       "2    co2c0000337    c     33\n",
       "3    co2c0000337    c     43\n",
       "4    co2c0000337    c     53\n",
       "..           ...  ...    ...\n",
       "195  co2a0000378    a     21\n",
       "196  co2a0000378    a     29\n",
       "197  co2a0000378    a     31\n",
       "198  co2a0000378    a     33\n",
       "199  co2a0000378    a     35\n",
       "\n",
       "[200 rows x 3 columns]"
      ]
     },
     "execution_count": 22,
     "metadata": {},
     "output_type": "execute_result"
    }
   ],
   "source": [
    "patient_info_S2nonmatch"
   ]
  },
  {
   "cell_type": "code",
   "execution_count": 23,
   "metadata": {},
   "outputs": [],
   "source": [
    "S2nonmatchLabelTemp = patient_info_S2nonmatch.iloc[:,1].to_numpy()"
   ]
  },
  {
   "cell_type": "code",
   "execution_count": 24,
   "metadata": {},
   "outputs": [],
   "source": [
    "S2nonmatchLabel = np.zeros(len(S2nonmatchLabelTemp)) #Control is 0, alcoholic is 1\n",
    "for i in np.where(S2nonmatchLabelTemp == 'a'):\n",
    "    S2nonmatchLabel[i] = 1"
   ]
  },
  {
   "cell_type": "code",
   "execution_count": 25,
   "metadata": {},
   "outputs": [
    {
     "name": "stdout",
     "output_type": "stream",
     "text": [
      "[0. 0. 0. 0. 0. 0. 0. 0. 0. 0. 0. 0. 0. 0. 0. 0. 0. 0. 0. 0. 0. 0. 0. 0.\n",
      " 0. 0. 0. 0. 0. 0. 0. 0. 0. 0. 0. 0. 0. 0. 0. 0. 0. 0. 0. 0. 0. 0. 0. 0.\n",
      " 0. 0. 0. 0. 0. 0. 0. 0. 0. 0. 0. 0. 0. 0. 0. 0. 0. 0. 0. 0. 0. 0. 0. 0.\n",
      " 0. 0. 0. 0. 0. 0. 0. 0. 0. 0. 0. 0. 0. 0. 0. 0. 0. 0. 0. 0. 0. 0. 0. 0.\n",
      " 0. 0. 0. 0. 1. 1. 1. 1. 1. 1. 1. 1. 1. 1. 1. 1. 1. 1. 1. 1. 1. 1. 1. 1.\n",
      " 1. 1. 1. 1. 1. 1. 1. 1. 1. 1. 1. 1. 1. 1. 1. 1. 1. 1. 1. 1. 1. 1. 1. 1.\n",
      " 1. 1. 1. 1. 1. 1. 1. 1. 1. 1. 1. 1. 1. 1. 1. 1. 1. 1. 1. 1. 1. 1. 1. 1.\n",
      " 1. 1. 1. 1. 1. 1. 1. 1. 1. 1. 1. 1. 1. 1. 1. 1. 1. 1. 1. 1. 1. 1. 1. 1.\n",
      " 1. 1. 1. 1. 1. 1. 1. 1.]\n"
     ]
    }
   ],
   "source": [
    "print(S2nonmatchLabel)"
   ]
  },
  {
   "cell_type": "markdown",
   "metadata": {},
   "source": [
    "TEST DATA SET"
   ]
  },
  {
   "cell_type": "code",
   "execution_count": 26,
   "metadata": {},
   "outputs": [],
   "source": [
    "S2nonmatch_TEST = readHF(\"S2_nonmatch_TEST.h5\")"
   ]
  },
  {
   "cell_type": "code",
   "execution_count": 27,
   "metadata": {},
   "outputs": [
    {
     "data": {
      "text/plain": [
       "(200, 64, 256)"
      ]
     },
     "execution_count": 27,
     "metadata": {},
     "output_type": "execute_result"
    }
   ],
   "source": [
    "np.shape(S2nonmatch_TEST)"
   ]
  },
  {
   "cell_type": "code",
   "execution_count": 28,
   "metadata": {},
   "outputs": [],
   "source": [
    "patient_info_S2nonmatch_TEST = pd.read_csv('S2_nonmatch_patient_summary_TEST.csv')"
   ]
  },
  {
   "cell_type": "code",
   "execution_count": 29,
   "metadata": {},
   "outputs": [
    {
     "data": {
      "text/html": [
       "<div>\n",
       "<style scoped>\n",
       "    .dataframe tbody tr th:only-of-type {\n",
       "        vertical-align: middle;\n",
       "    }\n",
       "\n",
       "    .dataframe tbody tr th {\n",
       "        vertical-align: top;\n",
       "    }\n",
       "\n",
       "    .dataframe thead th {\n",
       "        text-align: right;\n",
       "    }\n",
       "</style>\n",
       "<table border=\"1\" class=\"dataframe\">\n",
       "  <thead>\n",
       "    <tr style=\"text-align: right;\">\n",
       "      <th></th>\n",
       "      <th>Patient</th>\n",
       "      <th>Type</th>\n",
       "      <th>Trial</th>\n",
       "    </tr>\n",
       "  </thead>\n",
       "  <tbody>\n",
       "    <tr>\n",
       "      <th>0</th>\n",
       "      <td>co2c0000337</td>\n",
       "      <td>c</td>\n",
       "      <td>67</td>\n",
       "    </tr>\n",
       "    <tr>\n",
       "      <th>1</th>\n",
       "      <td>co2c0000337</td>\n",
       "      <td>c</td>\n",
       "      <td>73</td>\n",
       "    </tr>\n",
       "    <tr>\n",
       "      <th>2</th>\n",
       "      <td>co2c0000337</td>\n",
       "      <td>c</td>\n",
       "      <td>83</td>\n",
       "    </tr>\n",
       "    <tr>\n",
       "      <th>3</th>\n",
       "      <td>co2c0000337</td>\n",
       "      <td>c</td>\n",
       "      <td>87</td>\n",
       "    </tr>\n",
       "    <tr>\n",
       "      <th>4</th>\n",
       "      <td>co2c0000337</td>\n",
       "      <td>c</td>\n",
       "      <td>89</td>\n",
       "    </tr>\n",
       "    <tr>\n",
       "      <th>...</th>\n",
       "      <td>...</td>\n",
       "      <td>...</td>\n",
       "      <td>...</td>\n",
       "    </tr>\n",
       "    <tr>\n",
       "      <th>195</th>\n",
       "      <td>co2a0000378</td>\n",
       "      <td>a</td>\n",
       "      <td>57</td>\n",
       "    </tr>\n",
       "    <tr>\n",
       "      <th>196</th>\n",
       "      <td>co2a0000378</td>\n",
       "      <td>a</td>\n",
       "      <td>59</td>\n",
       "    </tr>\n",
       "    <tr>\n",
       "      <th>197</th>\n",
       "      <td>co2a0000378</td>\n",
       "      <td>a</td>\n",
       "      <td>63</td>\n",
       "    </tr>\n",
       "    <tr>\n",
       "      <th>198</th>\n",
       "      <td>co2a0000378</td>\n",
       "      <td>a</td>\n",
       "      <td>67</td>\n",
       "    </tr>\n",
       "    <tr>\n",
       "      <th>199</th>\n",
       "      <td>co2a0000378</td>\n",
       "      <td>a</td>\n",
       "      <td>69</td>\n",
       "    </tr>\n",
       "  </tbody>\n",
       "</table>\n",
       "<p>200 rows × 3 columns</p>\n",
       "</div>"
      ],
      "text/plain": [
       "         Patient Type  Trial\n",
       "0    co2c0000337    c     67\n",
       "1    co2c0000337    c     73\n",
       "2    co2c0000337    c     83\n",
       "3    co2c0000337    c     87\n",
       "4    co2c0000337    c     89\n",
       "..           ...  ...    ...\n",
       "195  co2a0000378    a     57\n",
       "196  co2a0000378    a     59\n",
       "197  co2a0000378    a     63\n",
       "198  co2a0000378    a     67\n",
       "199  co2a0000378    a     69\n",
       "\n",
       "[200 rows x 3 columns]"
      ]
     },
     "execution_count": 29,
     "metadata": {},
     "output_type": "execute_result"
    }
   ],
   "source": [
    "patient_info_S2nonmatch_TEST"
   ]
  },
  {
   "cell_type": "code",
   "execution_count": 30,
   "metadata": {},
   "outputs": [],
   "source": [
    "S2nonmatchLabelTemp_TEST = patient_info_S2nonmatch_TEST.iloc[:,1].to_numpy()"
   ]
  },
  {
   "cell_type": "code",
   "execution_count": 31,
   "metadata": {},
   "outputs": [],
   "source": [
    "S2nonmatchLabel_TEST = np.zeros(len(S2nonmatchLabelTemp_TEST)) #Control is 0, alcoholic is 1\n",
    "for i in np.where(S2nonmatchLabelTemp_TEST == 'a'):\n",
    "    S2nonmatchLabel_TEST[i] = 1"
   ]
  },
  {
   "cell_type": "code",
   "execution_count": 32,
   "metadata": {},
   "outputs": [
    {
     "name": "stdout",
     "output_type": "stream",
     "text": [
      "[0. 0. 0. 0. 0. 0. 0. 0. 0. 0. 0. 0. 0. 0. 0. 0. 0. 0. 0. 0. 0. 0. 0. 0.\n",
      " 0. 0. 0. 0. 0. 0. 0. 0. 0. 0. 0. 0. 0. 0. 0. 0. 0. 0. 0. 0. 0. 0. 0. 0.\n",
      " 0. 0. 0. 0. 0. 0. 0. 0. 0. 0. 0. 0. 0. 0. 0. 0. 0. 0. 0. 0. 0. 0. 0. 0.\n",
      " 0. 0. 0. 0. 0. 0. 0. 0. 0. 0. 0. 0. 0. 0. 0. 0. 0. 0. 0. 0. 0. 0. 0. 0.\n",
      " 0. 0. 0. 0. 1. 1. 1. 1. 1. 1. 1. 1. 1. 1. 1. 1. 1. 1. 1. 1. 1. 1. 1. 1.\n",
      " 1. 1. 1. 1. 1. 1. 1. 1. 1. 1. 1. 1. 1. 1. 1. 1. 1. 1. 1. 1. 1. 1. 1. 1.\n",
      " 1. 1. 1. 1. 1. 1. 1. 1. 1. 1. 1. 1. 1. 1. 1. 1. 1. 1. 1. 1. 1. 1. 1. 1.\n",
      " 1. 1. 1. 1. 1. 1. 1. 1. 1. 1. 1. 1. 1. 1. 1. 1. 1. 1. 1. 1. 1. 1. 1. 1.\n",
      " 1. 1. 1. 1. 1. 1. 1. 1.]\n"
     ]
    }
   ],
   "source": [
    "print(S2nonmatchLabel_TEST)"
   ]
  },
  {
   "cell_type": "markdown",
   "metadata": {},
   "source": [
    "FULL DATA SET"
   ]
  },
  {
   "cell_type": "code",
   "execution_count": 33,
   "metadata": {},
   "outputs": [],
   "source": [
    "S2nonmatch_FULL = readHF(\"S2_nonmatch_FULL.h5\")"
   ]
  },
  {
   "cell_type": "code",
   "execution_count": 34,
   "metadata": {},
   "outputs": [
    {
     "data": {
      "text/plain": [
       "(2763, 64, 256)"
      ]
     },
     "execution_count": 34,
     "metadata": {},
     "output_type": "execute_result"
    }
   ],
   "source": [
    "np.shape(S2nonmatch_FULL)"
   ]
  },
  {
   "cell_type": "code",
   "execution_count": 35,
   "metadata": {},
   "outputs": [],
   "source": [
    "patient_info_S2nonmatch_FULL = pd.read_csv('S2_nonmatch_patient_summary_FULL.csv')"
   ]
  },
  {
   "cell_type": "code",
   "execution_count": 36,
   "metadata": {},
   "outputs": [
    {
     "data": {
      "text/html": [
       "<div>\n",
       "<style scoped>\n",
       "    .dataframe tbody tr th:only-of-type {\n",
       "        vertical-align: middle;\n",
       "    }\n",
       "\n",
       "    .dataframe tbody tr th {\n",
       "        vertical-align: top;\n",
       "    }\n",
       "\n",
       "    .dataframe thead th {\n",
       "        text-align: right;\n",
       "    }\n",
       "</style>\n",
       "<table border=\"1\" class=\"dataframe\">\n",
       "  <thead>\n",
       "    <tr style=\"text-align: right;\">\n",
       "      <th></th>\n",
       "      <th>Patient</th>\n",
       "      <th>Type</th>\n",
       "      <th>Trial</th>\n",
       "    </tr>\n",
       "  </thead>\n",
       "  <tbody>\n",
       "    <tr>\n",
       "      <th>0</th>\n",
       "      <td>co2c0000337</td>\n",
       "      <td>c</td>\n",
       "      <td>21</td>\n",
       "    </tr>\n",
       "    <tr>\n",
       "      <th>1</th>\n",
       "      <td>co2c0000337</td>\n",
       "      <td>c</td>\n",
       "      <td>29</td>\n",
       "    </tr>\n",
       "    <tr>\n",
       "      <th>2</th>\n",
       "      <td>co2c0000337</td>\n",
       "      <td>c</td>\n",
       "      <td>33</td>\n",
       "    </tr>\n",
       "    <tr>\n",
       "      <th>3</th>\n",
       "      <td>co2c0000337</td>\n",
       "      <td>c</td>\n",
       "      <td>43</td>\n",
       "    </tr>\n",
       "    <tr>\n",
       "      <th>4</th>\n",
       "      <td>co2c0000337</td>\n",
       "      <td>c</td>\n",
       "      <td>53</td>\n",
       "    </tr>\n",
       "    <tr>\n",
       "      <th>...</th>\n",
       "      <td>...</td>\n",
       "      <td>...</td>\n",
       "      <td>...</td>\n",
       "    </tr>\n",
       "    <tr>\n",
       "      <th>2758</th>\n",
       "      <td>co2c1000367</td>\n",
       "      <td>c</td>\n",
       "      <td>93</td>\n",
       "    </tr>\n",
       "    <tr>\n",
       "      <th>2759</th>\n",
       "      <td>co2c1000367</td>\n",
       "      <td>c</td>\n",
       "      <td>95</td>\n",
       "    </tr>\n",
       "    <tr>\n",
       "      <th>2760</th>\n",
       "      <td>co2c1000367</td>\n",
       "      <td>c</td>\n",
       "      <td>103</td>\n",
       "    </tr>\n",
       "    <tr>\n",
       "      <th>2761</th>\n",
       "      <td>co2c1000367</td>\n",
       "      <td>c</td>\n",
       "      <td>111</td>\n",
       "    </tr>\n",
       "    <tr>\n",
       "      <th>2762</th>\n",
       "      <td>co2c1000367</td>\n",
       "      <td>c</td>\n",
       "      <td>115</td>\n",
       "    </tr>\n",
       "  </tbody>\n",
       "</table>\n",
       "<p>2763 rows × 3 columns</p>\n",
       "</div>"
      ],
      "text/plain": [
       "          Patient Type  Trial\n",
       "0     co2c0000337    c     21\n",
       "1     co2c0000337    c     29\n",
       "2     co2c0000337    c     33\n",
       "3     co2c0000337    c     43\n",
       "4     co2c0000337    c     53\n",
       "...           ...  ...    ...\n",
       "2758  co2c1000367    c     93\n",
       "2759  co2c1000367    c     95\n",
       "2760  co2c1000367    c    103\n",
       "2761  co2c1000367    c    111\n",
       "2762  co2c1000367    c    115\n",
       "\n",
       "[2763 rows x 3 columns]"
      ]
     },
     "execution_count": 36,
     "metadata": {},
     "output_type": "execute_result"
    }
   ],
   "source": [
    "patient_info_S2nonmatch_FULL"
   ]
  },
  {
   "cell_type": "code",
   "execution_count": 37,
   "metadata": {},
   "outputs": [],
   "source": [
    "S2nonmatchLabelTemp_FULL = patient_info_S2nonmatch_FULL.iloc[:,1].to_numpy()"
   ]
  },
  {
   "cell_type": "code",
   "execution_count": 38,
   "metadata": {},
   "outputs": [],
   "source": [
    "S2nonmatchLabel_FULL = np.zeros(len(S2nonmatchLabelTemp_FULL)) #Control is 0, alcoholic is 1\n",
    "for i in np.where(S2nonmatchLabelTemp_FULL == 'a'):\n",
    "    S2nonmatchLabel_FULL[i] = 1"
   ]
  },
  {
   "cell_type": "code",
   "execution_count": 39,
   "metadata": {},
   "outputs": [
    {
     "name": "stdout",
     "output_type": "stream",
     "text": [
      "[0. 0. 0. ... 0. 0. 0.]\n"
     ]
    }
   ],
   "source": [
    "print(S2nonmatchLabel_FULL)"
   ]
  },
  {
   "cell_type": "markdown",
   "metadata": {},
   "source": [
    "###  Analyze Data"
   ]
  },
  {
   "cell_type": "code",
   "execution_count": 40,
   "metadata": {},
   "outputs": [],
   "source": [
    "import tensorflow\n",
    "import keras"
   ]
  },
  {
   "cell_type": "code",
   "execution_count": 41,
   "metadata": {},
   "outputs": [],
   "source": [
    "from tensorflow.keras.utils import to_categorical"
   ]
  },
  {
   "cell_type": "markdown",
   "metadata": {},
   "source": [
    "Reshape to be able to put into CNN"
   ]
  },
  {
   "cell_type": "markdown",
   "metadata": {},
   "source": [
    "S1:"
   ]
  },
  {
   "cell_type": "code",
   "execution_count": 42,
   "metadata": {},
   "outputs": [
    {
     "data": {
      "text/plain": [
       "(200, 64, 256)"
      ]
     },
     "execution_count": 42,
     "metadata": {},
     "output_type": "execute_result"
    }
   ],
   "source": [
    "np.shape(S1)"
   ]
  },
  {
   "cell_type": "code",
   "execution_count": 43,
   "metadata": {},
   "outputs": [
    {
     "data": {
      "text/plain": [
       "(200, 64, 256)"
      ]
     },
     "execution_count": 43,
     "metadata": {},
     "output_type": "execute_result"
    }
   ],
   "source": [
    "S1NP = np.array(S1)\n",
    "np.shape(S1NP)"
   ]
  },
  {
   "cell_type": "code",
   "execution_count": 44,
   "metadata": {},
   "outputs": [
    {
     "data": {
      "text/plain": [
       "(200, 64, 256, 1)"
      ]
     },
     "execution_count": 44,
     "metadata": {},
     "output_type": "execute_result"
    }
   ],
   "source": [
    "S1Reshape = S1NP.reshape(-1, 64,256, 1)\n",
    "np.shape(S1Reshape)"
   ]
  },
  {
   "cell_type": "markdown",
   "metadata": {},
   "source": [
    "S2match:"
   ]
  },
  {
   "cell_type": "code",
   "execution_count": 45,
   "metadata": {},
   "outputs": [
    {
     "data": {
      "text/plain": [
       "(200, 64, 256)"
      ]
     },
     "execution_count": 45,
     "metadata": {},
     "output_type": "execute_result"
    }
   ],
   "source": [
    "np.shape(S2match)"
   ]
  },
  {
   "cell_type": "code",
   "execution_count": 46,
   "metadata": {},
   "outputs": [
    {
     "data": {
      "text/plain": [
       "(200, 64, 256)"
      ]
     },
     "execution_count": 46,
     "metadata": {},
     "output_type": "execute_result"
    }
   ],
   "source": [
    "S2matchNP = np.array(S2match)\n",
    "np.shape(S2matchNP)"
   ]
  },
  {
   "cell_type": "code",
   "execution_count": 47,
   "metadata": {},
   "outputs": [
    {
     "data": {
      "text/plain": [
       "(200, 64, 256, 1)"
      ]
     },
     "execution_count": 47,
     "metadata": {},
     "output_type": "execute_result"
    }
   ],
   "source": [
    "S2matchReshape = S2matchNP.reshape(-1, 64,256, 1)\n",
    "np.shape(S2matchReshape)"
   ]
  },
  {
   "cell_type": "markdown",
   "metadata": {},
   "source": [
    "S2nonmatch:"
   ]
  },
  {
   "cell_type": "code",
   "execution_count": 48,
   "metadata": {},
   "outputs": [
    {
     "data": {
      "text/plain": [
       "(200, 64, 256)"
      ]
     },
     "execution_count": 48,
     "metadata": {},
     "output_type": "execute_result"
    }
   ],
   "source": [
    "np.shape(S2nonmatch)"
   ]
  },
  {
   "cell_type": "code",
   "execution_count": 49,
   "metadata": {},
   "outputs": [
    {
     "data": {
      "text/plain": [
       "(200, 64, 256)"
      ]
     },
     "execution_count": 49,
     "metadata": {},
     "output_type": "execute_result"
    }
   ],
   "source": [
    "S2nonmatchNP = np.array(S2nonmatch)\n",
    "np.shape(S2nonmatchNP)"
   ]
  },
  {
   "cell_type": "code",
   "execution_count": 50,
   "metadata": {},
   "outputs": [
    {
     "data": {
      "text/plain": [
       "(200, 64, 256, 1)"
      ]
     },
     "execution_count": 50,
     "metadata": {},
     "output_type": "execute_result"
    }
   ],
   "source": [
    "S2nonmatchReshape = S2nonmatchNP.reshape(-1, 64,256, 1)\n",
    "np.shape(S2nonmatchReshape)"
   ]
  },
  {
   "cell_type": "code",
   "execution_count": 51,
   "metadata": {},
   "outputs": [
    {
     "data": {
      "text/plain": [
       "numpy.float64"
      ]
     },
     "execution_count": 51,
     "metadata": {},
     "output_type": "execute_result"
    }
   ],
   "source": [
    "type(S2nonmatchReshape[0,0,0,0])"
   ]
  },
  {
   "cell_type": "markdown",
   "metadata": {},
   "source": [
    "One Hot Encoding"
   ]
  },
  {
   "cell_type": "markdown",
   "metadata": {},
   "source": [
    "(got rid of this)"
   ]
  },
  {
   "cell_type": "markdown",
   "metadata": {},
   "source": [
    "S1:"
   ]
  },
  {
   "cell_type": "code",
   "execution_count": 52,
   "metadata": {},
   "outputs": [],
   "source": [
    "S1Label_one_hot = to_categorical(S1Label)"
   ]
  },
  {
   "cell_type": "code",
   "execution_count": 53,
   "metadata": {},
   "outputs": [
    {
     "data": {
      "text/plain": [
       "(200, 2)"
      ]
     },
     "execution_count": 53,
     "metadata": {},
     "output_type": "execute_result"
    }
   ],
   "source": [
    "np.shape(S1Label_one_hot)"
   ]
  },
  {
   "cell_type": "markdown",
   "metadata": {},
   "source": [
    "S2match:"
   ]
  },
  {
   "cell_type": "code",
   "execution_count": 54,
   "metadata": {},
   "outputs": [],
   "source": [
    "S2matchLabel_one_hot = to_categorical(S2matchLabel)"
   ]
  },
  {
   "cell_type": "code",
   "execution_count": 55,
   "metadata": {},
   "outputs": [
    {
     "data": {
      "text/plain": [
       "(200, 2)"
      ]
     },
     "execution_count": 55,
     "metadata": {},
     "output_type": "execute_result"
    }
   ],
   "source": [
    "np.shape(S2matchLabel_one_hot)"
   ]
  },
  {
   "cell_type": "markdown",
   "metadata": {},
   "source": [
    "S2nonmatch:"
   ]
  },
  {
   "cell_type": "code",
   "execution_count": 56,
   "metadata": {},
   "outputs": [],
   "source": [
    "S2nonmatchLabel_one_hot = to_categorical(S2nonmatchLabel)"
   ]
  },
  {
   "cell_type": "code",
   "execution_count": 57,
   "metadata": {},
   "outputs": [
    {
     "data": {
      "text/plain": [
       "(200, 2)"
      ]
     },
     "execution_count": 57,
     "metadata": {},
     "output_type": "execute_result"
    }
   ],
   "source": [
    "np.shape(S2nonmatchLabel_one_hot)"
   ]
  },
  {
   "cell_type": "markdown",
   "metadata": {},
   "source": [
    "Normalize 0-1"
   ]
  },
  {
   "cell_type": "markdown",
   "metadata": {},
   "source": [
    "S1:"
   ]
  },
  {
   "cell_type": "code",
   "execution_count": 58,
   "metadata": {},
   "outputs": [
    {
     "name": "stdout",
     "output_type": "stream",
     "text": [
      "453.847 -153.29\n"
     ]
    }
   ],
   "source": [
    "print(np.max(S1Reshape),np.min(S1Reshape))"
   ]
  },
  {
   "cell_type": "code",
   "execution_count": 59,
   "metadata": {},
   "outputs": [],
   "source": [
    "S1Norm = S1Reshape / np.max(S1Reshape)"
   ]
  },
  {
   "cell_type": "markdown",
   "metadata": {},
   "source": [
    "S2match:"
   ]
  },
  {
   "cell_type": "code",
   "execution_count": 60,
   "metadata": {},
   "outputs": [
    {
     "name": "stdout",
     "output_type": "stream",
     "text": [
      "290.283 -159.526\n"
     ]
    }
   ],
   "source": [
    "print(np.max(S2matchReshape),np.min(S2matchReshape))"
   ]
  },
  {
   "cell_type": "code",
   "execution_count": 61,
   "metadata": {},
   "outputs": [],
   "source": [
    "S2matchNorm = S2matchReshape / np.max(S2matchReshape)"
   ]
  },
  {
   "cell_type": "markdown",
   "metadata": {},
   "source": [
    "S2nonmatch:"
   ]
  },
  {
   "cell_type": "code",
   "execution_count": 62,
   "metadata": {},
   "outputs": [
    {
     "name": "stdout",
     "output_type": "stream",
     "text": [
      "346.12 -161.296\n"
     ]
    }
   ],
   "source": [
    "print(np.max(S2nonmatchReshape),np.min(S2nonmatchReshape))"
   ]
  },
  {
   "cell_type": "code",
   "execution_count": 63,
   "metadata": {},
   "outputs": [],
   "source": [
    "S2nonmatchNorm = S2nonmatchReshape / np.max(S2nonmatchReshape)"
   ]
  },
  {
   "cell_type": "markdown",
   "metadata": {},
   "source": [
    "TEST SET for S2 nonmatch"
   ]
  },
  {
   "cell_type": "code",
   "execution_count": 64,
   "metadata": {},
   "outputs": [
    {
     "data": {
      "text/plain": [
       "(200, 64, 256)"
      ]
     },
     "execution_count": 64,
     "metadata": {},
     "output_type": "execute_result"
    }
   ],
   "source": [
    "np.shape(S2nonmatch_TEST)"
   ]
  },
  {
   "cell_type": "code",
   "execution_count": 65,
   "metadata": {},
   "outputs": [
    {
     "data": {
      "text/plain": [
       "(200, 64, 256)"
      ]
     },
     "execution_count": 65,
     "metadata": {},
     "output_type": "execute_result"
    }
   ],
   "source": [
    "S2nonmatchNP_TEST = np.array(S2nonmatch_TEST)\n",
    "np.shape(S2nonmatchNP_TEST)"
   ]
  },
  {
   "cell_type": "code",
   "execution_count": 66,
   "metadata": {},
   "outputs": [
    {
     "data": {
      "text/plain": [
       "(200, 64, 256, 1)"
      ]
     },
     "execution_count": 66,
     "metadata": {},
     "output_type": "execute_result"
    }
   ],
   "source": [
    "S2nonmatchReshape_TEST = S2nonmatchNP_TEST.reshape(-1, 64,256, 1)\n",
    "np.shape(S2nonmatchReshape_TEST)"
   ]
  },
  {
   "cell_type": "code",
   "execution_count": 67,
   "metadata": {},
   "outputs": [
    {
     "name": "stdout",
     "output_type": "stream",
     "text": [
      "217.519 -143.656\n"
     ]
    }
   ],
   "source": [
    "print(np.max(S2nonmatchReshape_TEST),np.min(S2nonmatchReshape_TEST))"
   ]
  },
  {
   "cell_type": "code",
   "execution_count": 68,
   "metadata": {},
   "outputs": [],
   "source": [
    "S2nonmatchNorm_TEST = S2nonmatchReshape_TEST / np.max(S2nonmatchReshape_TEST)"
   ]
  },
  {
   "cell_type": "code",
   "execution_count": 69,
   "metadata": {},
   "outputs": [],
   "source": [
    "S2nonmatchLabel_one_hot_TEST = to_categorical(S2nonmatchLabel_TEST)"
   ]
  },
  {
   "cell_type": "code",
   "execution_count": 70,
   "metadata": {},
   "outputs": [
    {
     "data": {
      "text/plain": [
       "(200, 2)"
      ]
     },
     "execution_count": 70,
     "metadata": {},
     "output_type": "execute_result"
    }
   ],
   "source": [
    "np.shape(S2nonmatchLabel_one_hot_TEST)"
   ]
  },
  {
   "cell_type": "code",
   "execution_count": 71,
   "metadata": {},
   "outputs": [
    {
     "data": {
      "text/plain": [
       "array([0., 0., 0., 0., 0., 0., 0., 0., 0., 0., 0., 0., 0., 0., 0., 0., 0.,\n",
       "       0., 0., 0., 0., 0., 0., 0., 0., 0., 0., 0., 0., 0., 0., 0., 0., 0.,\n",
       "       0., 0., 0., 0., 0., 0., 0., 0., 0., 0., 0., 0., 0., 0., 0., 0., 0.,\n",
       "       0., 0., 0., 0., 0., 0., 0., 0., 0., 0., 0., 0., 0., 0., 0., 0., 0.,\n",
       "       0., 0., 0., 0., 0., 0., 0., 0., 0., 0., 0., 0., 0., 0., 0., 0., 0.,\n",
       "       0., 0., 0., 0., 0., 0., 0., 0., 0., 0., 0., 0., 0., 0., 0., 1., 1.,\n",
       "       1., 1., 1., 1., 1., 1., 1., 1., 1., 1., 1., 1., 1., 1., 1., 1., 1.,\n",
       "       1., 1., 1., 1., 1., 1., 1., 1., 1., 1., 1., 1., 1., 1., 1., 1., 1.,\n",
       "       1., 1., 1., 1., 1., 1., 1., 1., 1., 1., 1., 1., 1., 1., 1., 1., 1.,\n",
       "       1., 1., 1., 1., 1., 1., 1., 1., 1., 1., 1., 1., 1., 1., 1., 1., 1.,\n",
       "       1., 1., 1., 1., 1., 1., 1., 1., 1., 1., 1., 1., 1., 1., 1., 1., 1.,\n",
       "       1., 1., 1., 1., 1., 1., 1., 1., 1., 1., 1., 1., 1.])"
      ]
     },
     "execution_count": 71,
     "metadata": {},
     "output_type": "execute_result"
    }
   ],
   "source": [
    "S2nonmatchLabel_TEST"
   ]
  },
  {
   "cell_type": "code",
   "execution_count": 72,
   "metadata": {},
   "outputs": [
    {
     "data": {
      "text/plain": [
       "array([[1., 0.],\n",
       "       [1., 0.],\n",
       "       [1., 0.],\n",
       "       [1., 0.],\n",
       "       [1., 0.],\n",
       "       [1., 0.],\n",
       "       [1., 0.],\n",
       "       [1., 0.],\n",
       "       [1., 0.],\n",
       "       [1., 0.],\n",
       "       [1., 0.],\n",
       "       [1., 0.],\n",
       "       [1., 0.],\n",
       "       [1., 0.],\n",
       "       [1., 0.],\n",
       "       [1., 0.],\n",
       "       [1., 0.],\n",
       "       [1., 0.],\n",
       "       [1., 0.],\n",
       "       [1., 0.],\n",
       "       [1., 0.],\n",
       "       [1., 0.],\n",
       "       [1., 0.],\n",
       "       [1., 0.],\n",
       "       [1., 0.],\n",
       "       [1., 0.],\n",
       "       [1., 0.],\n",
       "       [1., 0.],\n",
       "       [1., 0.],\n",
       "       [1., 0.],\n",
       "       [1., 0.],\n",
       "       [1., 0.],\n",
       "       [1., 0.],\n",
       "       [1., 0.],\n",
       "       [1., 0.],\n",
       "       [1., 0.],\n",
       "       [1., 0.],\n",
       "       [1., 0.],\n",
       "       [1., 0.],\n",
       "       [1., 0.],\n",
       "       [1., 0.],\n",
       "       [1., 0.],\n",
       "       [1., 0.],\n",
       "       [1., 0.],\n",
       "       [1., 0.],\n",
       "       [1., 0.],\n",
       "       [1., 0.],\n",
       "       [1., 0.],\n",
       "       [1., 0.],\n",
       "       [1., 0.],\n",
       "       [1., 0.],\n",
       "       [1., 0.],\n",
       "       [1., 0.],\n",
       "       [1., 0.],\n",
       "       [1., 0.],\n",
       "       [1., 0.],\n",
       "       [1., 0.],\n",
       "       [1., 0.],\n",
       "       [1., 0.],\n",
       "       [1., 0.],\n",
       "       [1., 0.],\n",
       "       [1., 0.],\n",
       "       [1., 0.],\n",
       "       [1., 0.],\n",
       "       [1., 0.],\n",
       "       [1., 0.],\n",
       "       [1., 0.],\n",
       "       [1., 0.],\n",
       "       [1., 0.],\n",
       "       [1., 0.],\n",
       "       [1., 0.],\n",
       "       [1., 0.],\n",
       "       [1., 0.],\n",
       "       [1., 0.],\n",
       "       [1., 0.],\n",
       "       [1., 0.],\n",
       "       [1., 0.],\n",
       "       [1., 0.],\n",
       "       [1., 0.],\n",
       "       [1., 0.],\n",
       "       [1., 0.],\n",
       "       [1., 0.],\n",
       "       [1., 0.],\n",
       "       [1., 0.],\n",
       "       [1., 0.],\n",
       "       [1., 0.],\n",
       "       [1., 0.],\n",
       "       [1., 0.],\n",
       "       [1., 0.],\n",
       "       [1., 0.],\n",
       "       [1., 0.],\n",
       "       [1., 0.],\n",
       "       [1., 0.],\n",
       "       [1., 0.],\n",
       "       [1., 0.],\n",
       "       [1., 0.],\n",
       "       [1., 0.],\n",
       "       [1., 0.],\n",
       "       [1., 0.],\n",
       "       [1., 0.],\n",
       "       [0., 1.],\n",
       "       [0., 1.],\n",
       "       [0., 1.],\n",
       "       [0., 1.],\n",
       "       [0., 1.],\n",
       "       [0., 1.],\n",
       "       [0., 1.],\n",
       "       [0., 1.],\n",
       "       [0., 1.],\n",
       "       [0., 1.],\n",
       "       [0., 1.],\n",
       "       [0., 1.],\n",
       "       [0., 1.],\n",
       "       [0., 1.],\n",
       "       [0., 1.],\n",
       "       [0., 1.],\n",
       "       [0., 1.],\n",
       "       [0., 1.],\n",
       "       [0., 1.],\n",
       "       [0., 1.],\n",
       "       [0., 1.],\n",
       "       [0., 1.],\n",
       "       [0., 1.],\n",
       "       [0., 1.],\n",
       "       [0., 1.],\n",
       "       [0., 1.],\n",
       "       [0., 1.],\n",
       "       [0., 1.],\n",
       "       [0., 1.],\n",
       "       [0., 1.],\n",
       "       [0., 1.],\n",
       "       [0., 1.],\n",
       "       [0., 1.],\n",
       "       [0., 1.],\n",
       "       [0., 1.],\n",
       "       [0., 1.],\n",
       "       [0., 1.],\n",
       "       [0., 1.],\n",
       "       [0., 1.],\n",
       "       [0., 1.],\n",
       "       [0., 1.],\n",
       "       [0., 1.],\n",
       "       [0., 1.],\n",
       "       [0., 1.],\n",
       "       [0., 1.],\n",
       "       [0., 1.],\n",
       "       [0., 1.],\n",
       "       [0., 1.],\n",
       "       [0., 1.],\n",
       "       [0., 1.],\n",
       "       [0., 1.],\n",
       "       [0., 1.],\n",
       "       [0., 1.],\n",
       "       [0., 1.],\n",
       "       [0., 1.],\n",
       "       [0., 1.],\n",
       "       [0., 1.],\n",
       "       [0., 1.],\n",
       "       [0., 1.],\n",
       "       [0., 1.],\n",
       "       [0., 1.],\n",
       "       [0., 1.],\n",
       "       [0., 1.],\n",
       "       [0., 1.],\n",
       "       [0., 1.],\n",
       "       [0., 1.],\n",
       "       [0., 1.],\n",
       "       [0., 1.],\n",
       "       [0., 1.],\n",
       "       [0., 1.],\n",
       "       [0., 1.],\n",
       "       [0., 1.],\n",
       "       [0., 1.],\n",
       "       [0., 1.],\n",
       "       [0., 1.],\n",
       "       [0., 1.],\n",
       "       [0., 1.],\n",
       "       [0., 1.],\n",
       "       [0., 1.],\n",
       "       [0., 1.],\n",
       "       [0., 1.],\n",
       "       [0., 1.],\n",
       "       [0., 1.],\n",
       "       [0., 1.],\n",
       "       [0., 1.],\n",
       "       [0., 1.],\n",
       "       [0., 1.],\n",
       "       [0., 1.],\n",
       "       [0., 1.],\n",
       "       [0., 1.],\n",
       "       [0., 1.],\n",
       "       [0., 1.],\n",
       "       [0., 1.],\n",
       "       [0., 1.],\n",
       "       [0., 1.],\n",
       "       [0., 1.],\n",
       "       [0., 1.],\n",
       "       [0., 1.],\n",
       "       [0., 1.],\n",
       "       [0., 1.]], dtype=float32)"
      ]
     },
     "execution_count": 72,
     "metadata": {},
     "output_type": "execute_result"
    }
   ],
   "source": [
    "S2nonmatchLabel_one_hot_TEST"
   ]
  },
  {
   "cell_type": "markdown",
   "metadata": {},
   "source": [
    "FULL Data Set"
   ]
  },
  {
   "cell_type": "code",
   "execution_count": 73,
   "metadata": {},
   "outputs": [
    {
     "data": {
      "text/plain": [
       "(2763, 64, 256)"
      ]
     },
     "execution_count": 73,
     "metadata": {},
     "output_type": "execute_result"
    }
   ],
   "source": [
    "np.shape(S2nonmatch_FULL)"
   ]
  },
  {
   "cell_type": "code",
   "execution_count": 74,
   "metadata": {},
   "outputs": [
    {
     "data": {
      "text/plain": [
       "(2763, 64, 256)"
      ]
     },
     "execution_count": 74,
     "metadata": {},
     "output_type": "execute_result"
    }
   ],
   "source": [
    "S2nonmatchNP_FULL = np.array(S2nonmatch_FULL)\n",
    "np.shape(S2nonmatchNP_FULL)"
   ]
  },
  {
   "cell_type": "code",
   "execution_count": 75,
   "metadata": {},
   "outputs": [
    {
     "data": {
      "text/plain": [
       "(2763, 64, 256, 1)"
      ]
     },
     "execution_count": 75,
     "metadata": {},
     "output_type": "execute_result"
    }
   ],
   "source": [
    "S2nonmatchReshape_FULL = S2nonmatchNP_FULL.reshape(-1, 64,256, 1)\n",
    "np.shape(S2nonmatchReshape_FULL)"
   ]
  },
  {
   "cell_type": "code",
   "execution_count": 76,
   "metadata": {},
   "outputs": [
    {
     "name": "stdout",
     "output_type": "stream",
     "text": [
      "680.125 -700.114\n"
     ]
    }
   ],
   "source": [
    "print(np.max(S2nonmatchReshape_FULL),np.min(S2nonmatchReshape_FULL))"
   ]
  },
  {
   "cell_type": "code",
   "execution_count": 77,
   "metadata": {},
   "outputs": [],
   "source": [
    "S2nonmatchNorm_FULL = S2nonmatchReshape_FULL / np.abs(np.min(S2nonmatchReshape_FULL))"
   ]
  },
  {
   "cell_type": "code",
   "execution_count": 78,
   "metadata": {},
   "outputs": [
    {
     "data": {
      "text/plain": [
       "array([0., 0., 0., ..., 0., 0., 0.])"
      ]
     },
     "execution_count": 78,
     "metadata": {},
     "output_type": "execute_result"
    }
   ],
   "source": [
    "S2nonmatchLabel_FULL"
   ]
  },
  {
   "cell_type": "code",
   "execution_count": 79,
   "metadata": {},
   "outputs": [],
   "source": [
    "S2nonmatchLabel_one_hot_FULL = to_categorical(S2nonmatchLabel_FULL)"
   ]
  },
  {
   "cell_type": "code",
   "execution_count": 80,
   "metadata": {},
   "outputs": [
    {
     "data": {
      "text/plain": [
       "(2763, 2)"
      ]
     },
     "execution_count": 80,
     "metadata": {},
     "output_type": "execute_result"
    }
   ],
   "source": [
    "np.shape(S2nonmatchLabel_one_hot_FULL)"
   ]
  },
  {
   "cell_type": "code",
   "execution_count": 81,
   "metadata": {},
   "outputs": [
    {
     "data": {
      "text/plain": [
       "array([0., 0., 0., ..., 0., 0., 0.])"
      ]
     },
     "execution_count": 81,
     "metadata": {},
     "output_type": "execute_result"
    }
   ],
   "source": [
    "S2nonmatchLabel_FULL"
   ]
  },
  {
   "cell_type": "code",
   "execution_count": 82,
   "metadata": {},
   "outputs": [
    {
     "data": {
      "text/plain": [
       "array([[1., 0.],\n",
       "       [1., 0.],\n",
       "       [1., 0.],\n",
       "       ...,\n",
       "       [1., 0.],\n",
       "       [1., 0.],\n",
       "       [1., 0.]], dtype=float32)"
      ]
     },
     "execution_count": 82,
     "metadata": {},
     "output_type": "execute_result"
    }
   ],
   "source": [
    "S2nonmatchLabel_one_hot_FULL"
   ]
  },
  {
   "cell_type": "code",
   "execution_count": null,
   "metadata": {},
   "outputs": [],
   "source": []
  },
  {
   "cell_type": "markdown",
   "metadata": {},
   "source": [
    "Split into Training and Testing"
   ]
  },
  {
   "cell_type": "code",
   "execution_count": 83,
   "metadata": {},
   "outputs": [],
   "source": [
    "import sklearn as sk\n",
    "from sklearn.metrics import accuracy_score\n",
    "from sklearn import datasets, model_selection"
   ]
  },
  {
   "cell_type": "markdown",
   "metadata": {},
   "source": [
    "S1:"
   ]
  },
  {
   "cell_type": "code",
   "execution_count": 84,
   "metadata": {},
   "outputs": [],
   "source": [
    "x_train_all_S1, x_validate_S1, y_train_all_S1, y_validate_S1 = model_selection.train_test_split(S1Norm, S1Label_one_hot, test_size=0.1,random_state = 40)\n",
    "\n",
    "x_train_S1, x_test_S1, y_train_S1, y_test_S1 = model_selection.train_test_split(x_train_all_S1, y_train_all_S1, test_size=0.2, random_state = 40)"
   ]
  },
  {
   "cell_type": "code",
   "execution_count": 85,
   "metadata": {},
   "outputs": [
    {
     "data": {
      "text/plain": [
       "((144, 64, 256, 1), (144, 2))"
      ]
     },
     "execution_count": 85,
     "metadata": {},
     "output_type": "execute_result"
    }
   ],
   "source": [
    "np.shape(x_train_S1), np.shape(y_train_S1)"
   ]
  },
  {
   "cell_type": "markdown",
   "metadata": {},
   "source": [
    "S2match:"
   ]
  },
  {
   "cell_type": "code",
   "execution_count": 86,
   "metadata": {},
   "outputs": [],
   "source": [
    "x_train_all_S2match, x_validate_S2match, y_train_all_S2match, y_validate_S2match = model_selection.train_test_split(S2matchNorm, S2matchLabel_one_hot, test_size=0.1,random_state = 40)\n",
    "\n",
    "x_train_S2match, x_test_S2match, y_train_S2match, y_test_S2match = model_selection.train_test_split(x_train_all_S2match, y_train_all_S2match, test_size=0.2, random_state = 40)"
   ]
  },
  {
   "cell_type": "code",
   "execution_count": 87,
   "metadata": {},
   "outputs": [
    {
     "data": {
      "text/plain": [
       "((144, 64, 256, 1), (144, 2))"
      ]
     },
     "execution_count": 87,
     "metadata": {},
     "output_type": "execute_result"
    }
   ],
   "source": [
    "np.shape(x_train_S2match), np.shape(y_train_S2match)"
   ]
  },
  {
   "cell_type": "markdown",
   "metadata": {},
   "source": [
    "S2nonmatch:"
   ]
  },
  {
   "cell_type": "code",
   "execution_count": 88,
   "metadata": {},
   "outputs": [],
   "source": [
    "x_train_all_S2nonmatch, x_validate_S2nonmatch, y_train_all_S2nonmatch, y_validate_S2nonmatch = model_selection.train_test_split(S2nonmatchNorm, S2nonmatchLabel_one_hot, test_size=0.1,random_state = 40)\n",
    "\n",
    "x_train_S2nonmatch, x_test_S2nonmatch, y_train_S2nonmatch, y_test_S2nonmatch = model_selection.train_test_split(x_train_all_S2nonmatch, y_train_all_S2nonmatch, test_size=0.2, random_state = 40)"
   ]
  },
  {
   "cell_type": "code",
   "execution_count": 89,
   "metadata": {},
   "outputs": [
    {
     "data": {
      "text/plain": [
       "((144, 64, 256, 1), (144, 2))"
      ]
     },
     "execution_count": 89,
     "metadata": {},
     "output_type": "execute_result"
    }
   ],
   "source": [
    "np.shape(x_train_S2nonmatch), np.shape(y_train_S2nonmatch)"
   ]
  },
  {
   "cell_type": "markdown",
   "metadata": {},
   "source": [
    "FULL Data Set"
   ]
  },
  {
   "cell_type": "code",
   "execution_count": 90,
   "metadata": {},
   "outputs": [],
   "source": [
    "x_train_all_S2nonmatch_FULL, x_validate_S2nonmatch_FULL, y_train_all_S2nonmatch_FULL, y_validate_S2nonmatch_FULL = model_selection.train_test_split(S2nonmatchNorm_FULL, S2nonmatchLabel_one_hot_FULL, test_size=0.1,random_state = 40)\n",
    "\n",
    "x_train_S2nonmatch_FULL, x_test_S2nonmatch_FULL, y_train_S2nonmatch_FULL, y_test_S2nonmatch_FULL = model_selection.train_test_split(x_train_all_S2nonmatch_FULL, y_train_all_S2nonmatch_FULL, test_size=0.2, random_state = 40)"
   ]
  },
  {
   "cell_type": "code",
   "execution_count": 91,
   "metadata": {},
   "outputs": [
    {
     "data": {
      "text/plain": [
       "((1988, 64, 256, 1), (1988, 2))"
      ]
     },
     "execution_count": 91,
     "metadata": {},
     "output_type": "execute_result"
    }
   ],
   "source": [
    "np.shape(x_train_S2nonmatch_FULL), np.shape(y_train_S2nonmatch_FULL)"
   ]
  },
  {
   "cell_type": "markdown",
   "metadata": {},
   "source": [
    "### CNN"
   ]
  },
  {
   "cell_type": "code",
   "execution_count": 92,
   "metadata": {},
   "outputs": [],
   "source": [
    "import keras\n",
    "from keras.models import Sequential,Input,Model\n",
    "from keras.layers import Dense, Dropout, Flatten\n",
    "from keras.layers import Conv2D, MaxPooling2D\n",
    "from tensorflow.keras.layers import BatchNormalization\n",
    "from keras.layers.advanced_activations import LeakyReLU"
   ]
  },
  {
   "cell_type": "code",
   "execution_count": 93,
   "metadata": {},
   "outputs": [],
   "source": [
    "batch_size = 64\n",
    "epochs = 20\n",
    "num_classes = 2"
   ]
  },
  {
   "cell_type": "code",
   "execution_count": 94,
   "metadata": {},
   "outputs": [],
   "source": [
    "CNN = Sequential()\n",
    "CNN.add(Conv2D(32, kernel_size=(3, 3),activation='linear',input_shape=(64,256,1),padding='same'))\n",
    "CNN.add(LeakyReLU(alpha=0.1))\n",
    "CNN.add(MaxPooling2D((2, 2),padding='same'))\n",
    "\n",
    "CNN.add(Conv2D(64, (3, 3), activation='linear',padding='same'))\n",
    "CNN.add(LeakyReLU(alpha=0.1))\n",
    "CNN.add(MaxPooling2D(pool_size=(2, 2),padding='same'))\n",
    "\n",
    "CNN.add(Conv2D(128, (3, 3), activation='linear',padding='same'))\n",
    "CNN.add(LeakyReLU(alpha=0.1))                  \n",
    "CNN.add(MaxPooling2D(pool_size=(2, 2),padding='same'))\n",
    "\n",
    "CNN.add(Flatten())\n",
    "CNN.add(Dense(128, activation='linear'))\n",
    "CNN.add(LeakyReLU(alpha=0.1))\n",
    "\n",
    "CNN.add(Dense(num_classes, activation='softmax'))"
   ]
  },
  {
   "cell_type": "code",
   "execution_count": 95,
   "metadata": {},
   "outputs": [],
   "source": [
    "# CNN = Sequential()\n",
    "# CNN.add(Conv2D(32, kernel_size=(3, 3),activation='linear',input_shape=(64,256,1),padding='same'))\n",
    "# CNN.add(LeakyReLU(alpha=0.1))\n",
    "# CNN.add(MaxPooling2D((2, 2),padding='same'))\n",
    "# CNN.add(Dropout(0.25)) #Dropout\n",
    "\n",
    "# CNN.add(Conv2D(64, (3, 3), activation='linear',padding='same'))\n",
    "# CNN.add(LeakyReLU(alpha=0.1))\n",
    "# CNN.add(MaxPooling2D(pool_size=(2, 2),padding='same'))\n",
    "# CNN.add(Dropout(0.25)) #Dropout\n",
    "\n",
    "# CNN.add(Conv2D(128, (3, 3), activation='linear',padding='same'))\n",
    "# CNN.add(LeakyReLU(alpha=0.1))                  \n",
    "# CNN.add(MaxPooling2D(pool_size=(2, 2),padding='same'))\n",
    "# CNN.add(Dropout(0.4)) #Dropout\n",
    "\n",
    "# CNN.add(Flatten())\n",
    "# CNN.add(Dense(128, activation='linear'))\n",
    "# CNN.add(LeakyReLU(alpha=0.1))\n",
    "# CNN.add(Dropout(0.3)) #Dropout\n",
    "\n",
    "# CNN.add(Dense(num_classes, activation='softmax'))"
   ]
  },
  {
   "cell_type": "code",
   "execution_count": 96,
   "metadata": {},
   "outputs": [],
   "source": [
    "CNN.compile(loss=keras.losses.categorical_crossentropy, optimizer=tensorflow.keras.optimizers.Adam(),metrics=['accuracy'])"
   ]
  },
  {
   "cell_type": "code",
   "execution_count": 97,
   "metadata": {},
   "outputs": [
    {
     "name": "stdout",
     "output_type": "stream",
     "text": [
      "Model: \"sequential\"\n",
      "_________________________________________________________________\n",
      " Layer (type)                Output Shape              Param #   \n",
      "=================================================================\n",
      " conv2d (Conv2D)             (None, 64, 256, 32)       320       \n",
      "                                                                 \n",
      " leaky_re_lu (LeakyReLU)     (None, 64, 256, 32)       0         \n",
      "                                                                 \n",
      " max_pooling2d (MaxPooling2D  (None, 32, 128, 32)      0         \n",
      " )                                                               \n",
      "                                                                 \n",
      " conv2d_1 (Conv2D)           (None, 32, 128, 64)       18496     \n",
      "                                                                 \n",
      " leaky_re_lu_1 (LeakyReLU)   (None, 32, 128, 64)       0         \n",
      "                                                                 \n",
      " max_pooling2d_1 (MaxPooling  (None, 16, 64, 64)       0         \n",
      " 2D)                                                             \n",
      "                                                                 \n",
      " conv2d_2 (Conv2D)           (None, 16, 64, 128)       73856     \n",
      "                                                                 \n",
      " leaky_re_lu_2 (LeakyReLU)   (None, 16, 64, 128)       0         \n",
      "                                                                 \n",
      " max_pooling2d_2 (MaxPooling  (None, 8, 32, 128)       0         \n",
      " 2D)                                                             \n",
      "                                                                 \n",
      " flatten (Flatten)           (None, 32768)             0         \n",
      "                                                                 \n",
      " dense (Dense)               (None, 128)               4194432   \n",
      "                                                                 \n",
      " leaky_re_lu_3 (LeakyReLU)   (None, 128)               0         \n",
      "                                                                 \n",
      " dense_1 (Dense)             (None, 2)                 258       \n",
      "                                                                 \n",
      "=================================================================\n",
      "Total params: 4,287,362\n",
      "Trainable params: 4,287,362\n",
      "Non-trainable params: 0\n",
      "_________________________________________________________________\n"
     ]
    }
   ],
   "source": [
    "CNN.summary()"
   ]
  },
  {
   "cell_type": "markdown",
   "metadata": {},
   "source": [
    "### Training"
   ]
  },
  {
   "cell_type": "markdown",
   "metadata": {},
   "source": [
    "S1:"
   ]
  },
  {
   "cell_type": "code",
   "execution_count": 84,
   "metadata": {},
   "outputs": [
    {
     "name": "stdout",
     "output_type": "stream",
     "text": [
      "Epoch 1/20\n",
      "3/3 [==============================] - 2s 611ms/step - loss: 0.6967 - accuracy: 0.5486 - val_loss: 0.6792 - val_accuracy: 0.7222\n",
      "Epoch 2/20\n",
      "3/3 [==============================] - 2s 508ms/step - loss: 0.6810 - accuracy: 0.5278 - val_loss: 0.6601 - val_accuracy: 0.6944\n",
      "Epoch 3/20\n",
      "3/3 [==============================] - 2s 531ms/step - loss: 0.6250 - accuracy: 0.7431 - val_loss: 0.6772 - val_accuracy: 0.5000\n",
      "Epoch 4/20\n",
      "3/3 [==============================] - 2s 549ms/step - loss: 0.5806 - accuracy: 0.7153 - val_loss: 0.9467 - val_accuracy: 0.4722\n",
      "Epoch 5/20\n",
      "3/3 [==============================] - 2s 614ms/step - loss: 0.5546 - accuracy: 0.6944 - val_loss: 0.5479 - val_accuracy: 0.6944\n",
      "Epoch 6/20\n",
      "3/3 [==============================] - 2s 564ms/step - loss: 0.5399 - accuracy: 0.6667 - val_loss: 0.6332 - val_accuracy: 0.5278\n",
      "Epoch 7/20\n",
      "3/3 [==============================] - 2s 597ms/step - loss: 0.4889 - accuracy: 0.8264 - val_loss: 0.6170 - val_accuracy: 0.6389\n",
      "Epoch 8/20\n",
      "3/3 [==============================] - 2s 577ms/step - loss: 0.4283 - accuracy: 0.8611 - val_loss: 0.6351 - val_accuracy: 0.6944\n",
      "Epoch 9/20\n",
      "3/3 [==============================] - 2s 625ms/step - loss: 0.3769 - accuracy: 0.8681 - val_loss: 0.6674 - val_accuracy: 0.6389\n",
      "Epoch 10/20\n",
      "3/3 [==============================] - 2s 621ms/step - loss: 0.3155 - accuracy: 0.8819 - val_loss: 0.6984 - val_accuracy: 0.6667\n",
      "Epoch 11/20\n",
      "3/3 [==============================] - 2s 592ms/step - loss: 0.2563 - accuracy: 0.9097 - val_loss: 0.7277 - val_accuracy: 0.6667\n",
      "Epoch 12/20\n",
      "3/3 [==============================] - 2s 576ms/step - loss: 0.2372 - accuracy: 0.9097 - val_loss: 0.7019 - val_accuracy: 0.5833\n",
      "Epoch 13/20\n",
      "3/3 [==============================] - 2s 644ms/step - loss: 0.1943 - accuracy: 0.9444 - val_loss: 0.7893 - val_accuracy: 0.6667\n",
      "Epoch 14/20\n",
      "3/3 [==============================] - 3s 864ms/step - loss: 0.1724 - accuracy: 0.9028 - val_loss: 1.1792 - val_accuracy: 0.5833\n",
      "Epoch 15/20\n",
      "3/3 [==============================] - 3s 784ms/step - loss: 0.2596 - accuracy: 0.8681 - val_loss: 0.7738 - val_accuracy: 0.6111\n",
      "Epoch 16/20\n",
      "3/3 [==============================] - 2s 684ms/step - loss: 0.2202 - accuracy: 0.9097 - val_loss: 0.8573 - val_accuracy: 0.6667\n",
      "Epoch 17/20\n",
      "3/3 [==============================] - 2s 634ms/step - loss: 0.1420 - accuracy: 0.9444 - val_loss: 0.7147 - val_accuracy: 0.6667\n",
      "Epoch 18/20\n",
      "3/3 [==============================] - 2s 647ms/step - loss: 0.1662 - accuracy: 0.9444 - val_loss: 0.9750 - val_accuracy: 0.5833\n",
      "Epoch 19/20\n",
      "3/3 [==============================] - 2s 682ms/step - loss: 0.1153 - accuracy: 0.9653 - val_loss: 0.8828 - val_accuracy: 0.6389\n",
      "Epoch 20/20\n",
      "3/3 [==============================] - 2s 714ms/step - loss: 0.1235 - accuracy: 0.9583 - val_loss: 0.8863 - val_accuracy: 0.6389\n",
      "Wall time: 42.5 s\n"
     ]
    }
   ],
   "source": [
    "%%time\n",
    "CNN_train_S1 = CNN.fit(x_train_S1, y_train_S1, batch_size=batch_size,epochs=epochs,verbose=1,validation_data=(x_test_S1, y_test_S1))"
   ]
  },
  {
   "cell_type": "code",
   "execution_count": 85,
   "metadata": {},
   "outputs": [],
   "source": [
    "test_eval_S1 = CNN.evaluate(x_test_S1, y_test_S1, verbose=0)"
   ]
  },
  {
   "cell_type": "code",
   "execution_count": 86,
   "metadata": {},
   "outputs": [
    {
     "data": {
      "text/plain": [
       "[0.8862846493721008, 0.6388888955116272]"
      ]
     },
     "execution_count": 86,
     "metadata": {},
     "output_type": "execute_result"
    }
   ],
   "source": [
    "test_eval_S1"
   ]
  },
  {
   "cell_type": "code",
   "execution_count": 87,
   "metadata": {},
   "outputs": [
    {
     "data": {
      "image/png": "[encoded data removed]",
      "text/plain": [
       "<Figure size 432x288 with 1 Axes>"
      ]
     },
     "metadata": {
      "needs_background": "light"
     },
     "output_type": "display_data"
    },
    {
     "data": {
      "image/png": "[encoded data removed]",
      "text/plain": [
       "<Figure size 432x288 with 1 Axes>"
      ]
     },
     "metadata": {
      "needs_background": "light"
     },
     "output_type": "display_data"
    }
   ],
   "source": [
    "accuracy = CNN_train_S1.history['accuracy']\n",
    "test_accuracy = CNN_train_S1.history['val_accuracy']\n",
    "loss = CNN_train_S1.history['loss']\n",
    "test_loss = CNN_train_S1.history['val_loss']\n",
    "epochsRange = range(len(accuracy))\n",
    "plt.plot(epochsRange, accuracy, 'bo', label='Training accuracy')\n",
    "plt.plot(epochsRange, test_accuracy, 'b', label='Testing accuracy')\n",
    "plt.title('Training and Testing accuracy (S1)')\n",
    "plt.xlabel('Epochs')\n",
    "plt.ylabel('Accuracy')\n",
    "plt.legend()\n",
    "plt.savefig('Baseline_CNN_s1_accuracy', bbox_inches='tight')\n",
    "plt.figure()\n",
    "plt.plot(epochsRange, loss, 'bo', label='Training loss')\n",
    "plt.plot(epochsRange, test_loss, 'b', label='Testing loss')\n",
    "plt.title('Training and Testing loss (S1)')\n",
    "plt.xlabel('Epochs')\n",
    "plt.ylabel('Loss')\n",
    "plt.legend()\n",
    "plt.savefig('Baseline_CNN_s1_loss', bbox_inches='tight')\n",
    "plt.show()"
   ]
  },
  {
   "cell_type": "code",
   "execution_count": null,
   "metadata": {},
   "outputs": [],
   "source": []
  },
  {
   "cell_type": "markdown",
   "metadata": {},
   "source": [
    "S2match:"
   ]
  },
  {
   "cell_type": "code",
   "execution_count": 88,
   "metadata": {},
   "outputs": [
    {
     "name": "stdout",
     "output_type": "stream",
     "text": [
      "Epoch 1/20\n",
      "3/3 [==============================] - 2s 701ms/step - loss: 0.9898 - accuracy: 0.6528 - val_loss: 0.8734 - val_accuracy: 0.6389\n",
      "Epoch 2/20\n",
      "3/3 [==============================] - 2s 630ms/step - loss: 0.6734 - accuracy: 0.7014 - val_loss: 0.7337 - val_accuracy: 0.7222\n",
      "Epoch 3/20\n",
      "3/3 [==============================] - 2s 683ms/step - loss: 0.4647 - accuracy: 0.7708 - val_loss: 0.6284 - val_accuracy: 0.6667\n",
      "Epoch 4/20\n",
      "3/3 [==============================] - 2s 683ms/step - loss: 0.4125 - accuracy: 0.8611 - val_loss: 0.6334 - val_accuracy: 0.7222\n",
      "Epoch 5/20\n",
      "3/3 [==============================] - 2s 650ms/step - loss: 0.3458 - accuracy: 0.8681 - val_loss: 0.6825 - val_accuracy: 0.7500\n",
      "Epoch 6/20\n",
      "3/3 [==============================] - 2s 621ms/step - loss: 0.3517 - accuracy: 0.8264 - val_loss: 0.7301 - val_accuracy: 0.6944\n",
      "Epoch 7/20\n",
      "3/3 [==============================] - 2s 650ms/step - loss: 0.3113 - accuracy: 0.8681 - val_loss: 0.7591 - val_accuracy: 0.6944\n",
      "Epoch 8/20\n",
      "3/3 [==============================] - 2s 631ms/step - loss: 0.2772 - accuracy: 0.8542 - val_loss: 0.7652 - val_accuracy: 0.7222\n",
      "Epoch 9/20\n",
      "3/3 [==============================] - 2s 641ms/step - loss: 0.2676 - accuracy: 0.9028 - val_loss: 0.7362 - val_accuracy: 0.7222\n",
      "Epoch 10/20\n",
      "3/3 [==============================] - 2s 621ms/step - loss: 0.2374 - accuracy: 0.9236 - val_loss: 0.7231 - val_accuracy: 0.7778\n",
      "Epoch 11/20\n",
      "3/3 [==============================] - 2s 631ms/step - loss: 0.2073 - accuracy: 0.9236 - val_loss: 0.7203 - val_accuracy: 0.8056\n",
      "Epoch 12/20\n",
      "3/3 [==============================] - 2s 627ms/step - loss: 0.1750 - accuracy: 0.9167 - val_loss: 0.7727 - val_accuracy: 0.8333\n",
      "Epoch 13/20\n",
      "3/3 [==============================] - 2s 630ms/step - loss: 0.1500 - accuracy: 0.9375 - val_loss: 0.8798 - val_accuracy: 0.7500\n",
      "Epoch 14/20\n",
      "3/3 [==============================] - 2s 636ms/step - loss: 0.1465 - accuracy: 0.9375 - val_loss: 0.8736 - val_accuracy: 0.8056\n",
      "Epoch 15/20\n",
      "3/3 [==============================] - 2s 650ms/step - loss: 0.1591 - accuracy: 0.9514 - val_loss: 0.8562 - val_accuracy: 0.7778\n",
      "Epoch 16/20\n",
      "3/3 [==============================] - 2s 589ms/step - loss: 0.1569 - accuracy: 0.9306 - val_loss: 0.8629 - val_accuracy: 0.7778\n",
      "Epoch 17/20\n",
      "3/3 [==============================] - 2s 572ms/step - loss: 0.0887 - accuracy: 0.9792 - val_loss: 1.2183 - val_accuracy: 0.7778\n",
      "Epoch 18/20\n",
      "3/3 [==============================] - 2s 599ms/step - loss: 0.1899 - accuracy: 0.9375 - val_loss: 0.9781 - val_accuracy: 0.7500\n",
      "Epoch 19/20\n",
      "3/3 [==============================] - 2s 577ms/step - loss: 0.0791 - accuracy: 0.9722 - val_loss: 0.8255 - val_accuracy: 0.7500\n",
      "Epoch 20/20\n",
      "3/3 [==============================] - 2s 575ms/step - loss: 0.0713 - accuracy: 0.9792 - val_loss: 0.7740 - val_accuracy: 0.7500\n",
      "Wall time: 42.4 s\n"
     ]
    }
   ],
   "source": [
    "%%time\n",
    "CNN_train_S2match = CNN.fit(x_train_S2match, y_train_S2match, batch_size=batch_size,epochs=epochs,verbose=1,validation_data=(x_test_S2match, y_test_S2match))"
   ]
  },
  {
   "cell_type": "code",
   "execution_count": 89,
   "metadata": {},
   "outputs": [],
   "source": [
    "test_eval_S2match = CNN.evaluate(x_test_S2match, y_test_S2match, verbose=0)"
   ]
  },
  {
   "cell_type": "code",
   "execution_count": 90,
   "metadata": {},
   "outputs": [
    {
     "data": {
      "text/plain": [
       "[0.7739989757537842, 0.75]"
      ]
     },
     "execution_count": 90,
     "metadata": {},
     "output_type": "execute_result"
    }
   ],
   "source": [
    "test_eval_S2match"
   ]
  },
  {
   "cell_type": "code",
   "execution_count": 91,
   "metadata": {},
   "outputs": [
    {
     "data": {
      "image/png": "[encoded data removed]",
      "text/plain": [
       "<Figure size 432x288 with 1 Axes>"
      ]
     },
     "metadata": {
      "needs_background": "light"
     },
     "output_type": "display_data"
    },
    {
     "data": {
      "image/png": "[encoded data removed]",
      "text/plain": [
       "<Figure size 432x288 with 1 Axes>"
      ]
     },
     "metadata": {
      "needs_background": "light"
     },
     "output_type": "display_data"
    }
   ],
   "source": [
    "accuracy_S2match = CNN_train_S2match.history['accuracy']\n",
    "test_accuracy_S2match = CNN_train_S2match.history['val_accuracy']\n",
    "loss_S2match = CNN_train_S2match.history['loss']\n",
    "test_loss_S2match = CNN_train_S2match.history['val_loss']\n",
    "epochsRange = range(len(accuracy_S2match))\n",
    "plt.plot(epochsRange, accuracy_S2match, 'bo', label='Training accuracy')\n",
    "plt.plot(epochsRange, test_accuracy_S2match, 'b', label='Testing accuracy')\n",
    "plt.title('Training and Testing Accuracy (S2 match)')\n",
    "plt.xlabel('Epochs')\n",
    "plt.ylabel('Accuracy')\n",
    "plt.legend()\n",
    "plt.savefig('Baseline_CNN_s2match_accuracy', bbox_inches='tight')\n",
    "plt.figure()\n",
    "plt.plot(epochsRange, loss_S2match, 'bo', label='Training loss')\n",
    "plt.plot(epochsRange, test_loss_S2match, 'b', label='Testing loss')\n",
    "plt.title('Training and Testing Loss (S2 match)')\n",
    "plt.xlabel('Epochs')\n",
    "plt.ylabel('Loss')\n",
    "plt.legend()\n",
    "plt.savefig('Baseline_CNN_s2match_loss', bbox_inches='tight')\n",
    "plt.show()"
   ]
  },
  {
   "cell_type": "markdown",
   "metadata": {},
   "source": [
    "S2nonmatch:"
   ]
  },
  {
   "cell_type": "code",
   "execution_count": 92,
   "metadata": {},
   "outputs": [
    {
     "name": "stdout",
     "output_type": "stream",
     "text": [
      "Epoch 1/20\n",
      "3/3 [==============================] - 2s 585ms/step - loss: 0.5338 - accuracy: 0.7500 - val_loss: 0.6341 - val_accuracy: 0.7500\n",
      "Epoch 2/20\n",
      "3/3 [==============================] - 2s 575ms/step - loss: 0.4601 - accuracy: 0.8403 - val_loss: 0.5801 - val_accuracy: 0.8056\n",
      "Epoch 3/20\n",
      "3/3 [==============================] - 2s 579ms/step - loss: 0.4168 - accuracy: 0.8403 - val_loss: 0.8445 - val_accuracy: 0.7222\n",
      "Epoch 4/20\n",
      "3/3 [==============================] - 2s 633ms/step - loss: 0.3293 - accuracy: 0.8403 - val_loss: 0.6274 - val_accuracy: 0.7500\n",
      "Epoch 5/20\n",
      "3/3 [==============================] - 2s 651ms/step - loss: 0.2219 - accuracy: 0.9097 - val_loss: 0.6203 - val_accuracy: 0.7222\n",
      "Epoch 6/20\n",
      "3/3 [==============================] - 2s 592ms/step - loss: 0.1867 - accuracy: 0.9444 - val_loss: 0.9408 - val_accuracy: 0.6944\n",
      "Epoch 7/20\n",
      "3/3 [==============================] - 2s 689ms/step - loss: 0.2030 - accuracy: 0.9028 - val_loss: 0.7548 - val_accuracy: 0.7222\n",
      "Epoch 8/20\n",
      "3/3 [==============================] - 2s 576ms/step - loss: 0.1516 - accuracy: 0.9444 - val_loss: 0.7384 - val_accuracy: 0.7500\n",
      "Epoch 9/20\n",
      "3/3 [==============================] - 2s 598ms/step - loss: 0.1433 - accuracy: 0.9444 - val_loss: 0.9977 - val_accuracy: 0.7222\n",
      "Epoch 10/20\n",
      "3/3 [==============================] - 2s 585ms/step - loss: 0.1123 - accuracy: 0.9583 - val_loss: 0.8744 - val_accuracy: 0.6944\n",
      "Epoch 11/20\n",
      "3/3 [==============================] - 2s 618ms/step - loss: 0.1053 - accuracy: 0.9653 - val_loss: 0.9275 - val_accuracy: 0.7222\n",
      "Epoch 12/20\n",
      "3/3 [==============================] - 2s 635ms/step - loss: 0.0677 - accuracy: 0.9861 - val_loss: 1.0990 - val_accuracy: 0.7222\n",
      "Epoch 13/20\n",
      "3/3 [==============================] - 2s 657ms/step - loss: 0.0626 - accuracy: 0.9792 - val_loss: 0.8936 - val_accuracy: 0.7778\n",
      "Epoch 14/20\n",
      "3/3 [==============================] - 2s 612ms/step - loss: 0.0513 - accuracy: 0.9931 - val_loss: 0.9865 - val_accuracy: 0.7500\n",
      "Epoch 15/20\n",
      "3/3 [==============================] - 2s 652ms/step - loss: 0.0299 - accuracy: 0.9931 - val_loss: 1.1903 - val_accuracy: 0.7500\n",
      "Epoch 16/20\n",
      "3/3 [==============================] - 2s 675ms/step - loss: 0.0375 - accuracy: 0.9931 - val_loss: 0.9376 - val_accuracy: 0.8056\n",
      "Epoch 17/20\n",
      "3/3 [==============================] - 2s 602ms/step - loss: 0.0262 - accuracy: 1.0000 - val_loss: 0.9920 - val_accuracy: 0.7778\n",
      "Epoch 18/20\n",
      "3/3 [==============================] - 2s 609ms/step - loss: 0.0147 - accuracy: 1.0000 - val_loss: 1.1532 - val_accuracy: 0.7500\n",
      "Epoch 19/20\n",
      "3/3 [==============================] - 2s 605ms/step - loss: 0.0150 - accuracy: 1.0000 - val_loss: 1.1044 - val_accuracy: 0.8056\n",
      "Epoch 20/20\n",
      "3/3 [==============================] - 2s 600ms/step - loss: 0.0154 - accuracy: 1.0000 - val_loss: 0.9961 - val_accuracy: 0.7778\n",
      "Wall time: 41.9 s\n"
     ]
    }
   ],
   "source": [
    "%%time\n",
    "CNN_train_S2nonmatch = CNN.fit(x_train_S2nonmatch, y_train_S2nonmatch, batch_size=batch_size,epochs=epochs,verbose=1,validation_data=(x_test_S2nonmatch, y_test_S2nonmatch))"
   ]
  },
  {
   "cell_type": "code",
   "execution_count": 93,
   "metadata": {},
   "outputs": [],
   "source": [
    "test_eval_S2nonmatch = CNN.evaluate(x_test_S2nonmatch, y_test_S2nonmatch, verbose=0)"
   ]
  },
  {
   "cell_type": "code",
   "execution_count": 94,
   "metadata": {},
   "outputs": [
    {
     "data": {
      "text/plain": [
       "[0.9961051940917969, 0.7777777910232544]"
      ]
     },
     "execution_count": 94,
     "metadata": {},
     "output_type": "execute_result"
    }
   ],
   "source": [
    "test_eval_S2nonmatch"
   ]
  },
  {
   "cell_type": "code",
   "execution_count": 95,
   "metadata": {},
   "outputs": [
    {
     "data": {
      "image/png": "[encoded data removed]",
      "text/plain": [
       "<Figure size 432x288 with 1 Axes>"
      ]
     },
     "metadata": {
      "needs_background": "light"
     },
     "output_type": "display_data"
    },
    {
     "data": {
      "image/png": "[encoded data removed]",
      "text/plain": [
       "<Figure size 432x288 with 1 Axes>"
      ]
     },
     "metadata": {
      "needs_background": "light"
     },
     "output_type": "display_data"
    }
   ],
   "source": [
    "accuracy_S2nonmatch = CNN_train_S2nonmatch.history['accuracy']\n",
    "test_accuracy_S2nonmatch = CNN_train_S2nonmatch.history['val_accuracy']\n",
    "loss_S2nonmatch = CNN_train_S2nonmatch.history['loss']\n",
    "test_loss_S2nonmatch = CNN_train_S2nonmatch.history['val_loss']\n",
    "epochsRange = range(len(accuracy_S2nonmatch))\n",
    "plt.plot(epochsRange, accuracy_S2nonmatch, 'bo', label='Training accuracy')\n",
    "plt.plot(epochsRange, test_accuracy_S2nonmatch, 'b', label='Testing accuracy')\n",
    "plt.title('Training and Testing Accuracy (S2 nonmatch)')\n",
    "plt.xlabel('Epochs')\n",
    "plt.ylabel('Accuracy')\n",
    "plt.legend()\n",
    "plt.savefig('Baseline_CNN_s2nonmatch_accuracy', bbox_inches='tight')\n",
    "plt.figure()\n",
    "plt.plot(epochsRange, loss_S2nonmatch, 'bo', label='Training loss')\n",
    "plt.plot(epochsRange, test_loss_S2nonmatch, 'b', label='Testing loss')\n",
    "plt.title('Training and Testing Loss (S2 nonmatch)')\n",
    "plt.xlabel('Epochs')\n",
    "plt.ylabel('Loss')\n",
    "plt.legend()\n",
    "plt.savefig('Baseline_CNN_s2nonmatch_loss', bbox_inches='tight')\n",
    "plt.show()"
   ]
  },
  {
   "cell_type": "markdown",
   "metadata": {},
   "source": [
    "S2nonmatch WITH FULL TRAIN AND TEST SETS"
   ]
  },
  {
   "cell_type": "code",
   "execution_count": 96,
   "metadata": {},
   "outputs": [
    {
     "name": "stdout",
     "output_type": "stream",
     "text": [
      "Epoch 1/20\n",
      "4/4 [==============================] - 3s 822ms/step - loss: 0.8668 - accuracy: 0.5000 - val_loss: 0.6761 - val_accuracy: 0.5700\n",
      "Epoch 2/20\n",
      "4/4 [==============================] - 3s 757ms/step - loss: 0.6780 - accuracy: 0.6550 - val_loss: 0.6603 - val_accuracy: 0.5950\n",
      "Epoch 3/20\n",
      "4/4 [==============================] - 3s 772ms/step - loss: 0.6733 - accuracy: 0.5900 - val_loss: 0.6423 - val_accuracy: 0.6250\n",
      "Epoch 4/20\n",
      "4/4 [==============================] - 3s 831ms/step - loss: 0.6360 - accuracy: 0.6750 - val_loss: 0.5979 - val_accuracy: 0.7350\n",
      "Epoch 5/20\n",
      "4/4 [==============================] - 3s 839ms/step - loss: 0.5955 - accuracy: 0.6650 - val_loss: 0.6450 - val_accuracy: 0.5950\n",
      "Epoch 6/20\n",
      "4/4 [==============================] - 4s 1s/step - loss: 0.5512 - accuracy: 0.7200 - val_loss: 0.7464 - val_accuracy: 0.5950\n",
      "Epoch 7/20\n",
      "4/4 [==============================] - 4s 902ms/step - loss: 0.5363 - accuracy: 0.7550 - val_loss: 0.8120 - val_accuracy: 0.6100\n",
      "Epoch 8/20\n",
      "4/4 [==============================] - 4s 868ms/step - loss: 0.4868 - accuracy: 0.7750 - val_loss: 0.8745 - val_accuracy: 0.6150\n",
      "Epoch 9/20\n",
      "4/4 [==============================] - 4s 1s/step - loss: 0.4255 - accuracy: 0.8250 - val_loss: 0.7863 - val_accuracy: 0.6700\n",
      "Epoch 10/20\n",
      "4/4 [==============================] - 4s 984ms/step - loss: 0.3929 - accuracy: 0.8200 - val_loss: 1.5569 - val_accuracy: 0.5850\n",
      "Epoch 11/20\n",
      "4/4 [==============================] - 4s 914ms/step - loss: 0.4303 - accuracy: 0.8100 - val_loss: 0.5734 - val_accuracy: 0.7750\n",
      "Epoch 12/20\n",
      "4/4 [==============================] - 4s 906ms/step - loss: 0.3534 - accuracy: 0.8400 - val_loss: 0.6986 - val_accuracy: 0.7350\n",
      "Epoch 13/20\n",
      "4/4 [==============================] - 4s 897ms/step - loss: 0.3447 - accuracy: 0.8600 - val_loss: 0.6345 - val_accuracy: 0.7500\n",
      "Epoch 14/20\n",
      "4/4 [==============================] - 4s 887ms/step - loss: 0.2785 - accuracy: 0.8650 - val_loss: 0.9731 - val_accuracy: 0.7450\n",
      "Epoch 15/20\n",
      "4/4 [==============================] - 4s 1s/step - loss: 0.2337 - accuracy: 0.9200 - val_loss: 0.7215 - val_accuracy: 0.7650\n",
      "Epoch 16/20\n",
      "4/4 [==============================] - 4s 1s/step - loss: 0.2345 - accuracy: 0.8850 - val_loss: 1.3105 - val_accuracy: 0.7200\n",
      "Epoch 17/20\n",
      "4/4 [==============================] - 4s 953ms/step - loss: 0.1991 - accuracy: 0.9150 - val_loss: 0.7369 - val_accuracy: 0.7550\n",
      "Epoch 18/20\n",
      "4/4 [==============================] - 4s 922ms/step - loss: 0.1548 - accuracy: 0.9200 - val_loss: 1.4908 - val_accuracy: 0.6650\n",
      "Epoch 19/20\n",
      "4/4 [==============================] - 4s 958ms/step - loss: 0.2123 - accuracy: 0.9000 - val_loss: 0.7275 - val_accuracy: 0.7750\n",
      "Epoch 20/20\n",
      "4/4 [==============================] - 4s 927ms/step - loss: 0.1481 - accuracy: 0.9400 - val_loss: 1.1222 - val_accuracy: 0.7150\n",
      "Wall time: 1min 12s\n"
     ]
    }
   ],
   "source": [
    "%%time\n",
    "CNN_train_S2nonmatch = CNN.fit(S2nonmatchNorm, S2nonmatchLabel_one_hot, batch_size=batch_size,epochs=epochs,verbose=1,validation_data=(S2nonmatchNorm_TEST, S2nonmatchLabel_one_hot_TEST))"
   ]
  },
  {
   "cell_type": "code",
   "execution_count": 97,
   "metadata": {},
   "outputs": [],
   "source": [
    "test_eval_S2nonmatch = CNN.evaluate(S2nonmatchNorm_TEST, S2nonmatchLabel_one_hot_TEST, verbose=0)"
   ]
  },
  {
   "cell_type": "code",
   "execution_count": 98,
   "metadata": {},
   "outputs": [
    {
     "data": {
      "text/plain": [
       "[1.1222459077835083, 0.7149999737739563]"
      ]
     },
     "execution_count": 98,
     "metadata": {},
     "output_type": "execute_result"
    }
   ],
   "source": [
    "test_eval_S2nonmatch"
   ]
  },
  {
   "cell_type": "code",
   "execution_count": 99,
   "metadata": {},
   "outputs": [],
   "source": [
    "y_pred_S2nonmatch_one_hot = CNN.predict(S2nonmatchNorm_TEST)"
   ]
  },
  {
   "cell_type": "code",
   "execution_count": 100,
   "metadata": {},
   "outputs": [
    {
     "data": {
      "text/plain": [
       "array([[1., 0.],\n",
       "       [1., 0.],\n",
       "       [1., 0.],\n",
       "       [1., 0.],\n",
       "       [1., 0.],\n",
       "       [1., 0.],\n",
       "       [1., 0.],\n",
       "       [1., 0.],\n",
       "       [1., 0.],\n",
       "       [1., 0.],\n",
       "       [1., 0.],\n",
       "       [1., 0.],\n",
       "       [1., 0.],\n",
       "       [1., 0.],\n",
       "       [1., 0.],\n",
       "       [1., 0.],\n",
       "       [1., 0.],\n",
       "       [1., 0.],\n",
       "       [1., 0.],\n",
       "       [1., 0.],\n",
       "       [1., 0.],\n",
       "       [1., 0.],\n",
       "       [1., 0.],\n",
       "       [1., 0.],\n",
       "       [1., 0.],\n",
       "       [1., 0.],\n",
       "       [1., 0.],\n",
       "       [1., 0.],\n",
       "       [1., 0.],\n",
       "       [1., 0.],\n",
       "       [1., 0.],\n",
       "       [1., 0.],\n",
       "       [1., 0.],\n",
       "       [1., 0.],\n",
       "       [1., 0.],\n",
       "       [1., 0.],\n",
       "       [1., 0.],\n",
       "       [1., 0.],\n",
       "       [1., 0.],\n",
       "       [1., 0.],\n",
       "       [1., 0.],\n",
       "       [1., 0.],\n",
       "       [1., 0.],\n",
       "       [1., 0.],\n",
       "       [1., 0.],\n",
       "       [1., 0.],\n",
       "       [1., 0.],\n",
       "       [1., 0.],\n",
       "       [1., 0.],\n",
       "       [1., 0.],\n",
       "       [1., 0.],\n",
       "       [1., 0.],\n",
       "       [1., 0.],\n",
       "       [1., 0.],\n",
       "       [1., 0.],\n",
       "       [1., 0.],\n",
       "       [1., 0.],\n",
       "       [1., 0.],\n",
       "       [1., 0.],\n",
       "       [1., 0.],\n",
       "       [1., 0.],\n",
       "       [1., 0.],\n",
       "       [1., 0.],\n",
       "       [1., 0.],\n",
       "       [1., 0.],\n",
       "       [1., 0.],\n",
       "       [1., 0.],\n",
       "       [1., 0.],\n",
       "       [1., 0.],\n",
       "       [1., 0.],\n",
       "       [1., 0.],\n",
       "       [1., 0.],\n",
       "       [1., 0.],\n",
       "       [1., 0.],\n",
       "       [1., 0.],\n",
       "       [1., 0.],\n",
       "       [1., 0.],\n",
       "       [1., 0.],\n",
       "       [1., 0.],\n",
       "       [1., 0.],\n",
       "       [1., 0.],\n",
       "       [1., 0.],\n",
       "       [1., 0.],\n",
       "       [1., 0.],\n",
       "       [1., 0.],\n",
       "       [1., 0.],\n",
       "       [1., 0.],\n",
       "       [1., 0.],\n",
       "       [1., 0.],\n",
       "       [1., 0.],\n",
       "       [1., 0.],\n",
       "       [1., 0.],\n",
       "       [1., 0.],\n",
       "       [1., 0.],\n",
       "       [1., 0.],\n",
       "       [1., 0.],\n",
       "       [1., 0.],\n",
       "       [1., 0.],\n",
       "       [1., 0.],\n",
       "       [1., 0.],\n",
       "       [0., 1.],\n",
       "       [0., 1.],\n",
       "       [0., 1.],\n",
       "       [0., 1.],\n",
       "       [0., 1.],\n",
       "       [0., 1.],\n",
       "       [0., 1.],\n",
       "       [0., 1.],\n",
       "       [0., 1.],\n",
       "       [0., 1.],\n",
       "       [0., 1.],\n",
       "       [0., 1.],\n",
       "       [0., 1.],\n",
       "       [0., 1.],\n",
       "       [0., 1.],\n",
       "       [0., 1.],\n",
       "       [0., 1.],\n",
       "       [0., 1.],\n",
       "       [0., 1.],\n",
       "       [0., 1.],\n",
       "       [0., 1.],\n",
       "       [0., 1.],\n",
       "       [0., 1.],\n",
       "       [0., 1.],\n",
       "       [0., 1.],\n",
       "       [0., 1.],\n",
       "       [0., 1.],\n",
       "       [0., 1.],\n",
       "       [0., 1.],\n",
       "       [0., 1.],\n",
       "       [0., 1.],\n",
       "       [0., 1.],\n",
       "       [0., 1.],\n",
       "       [0., 1.],\n",
       "       [0., 1.],\n",
       "       [0., 1.],\n",
       "       [0., 1.],\n",
       "       [0., 1.],\n",
       "       [0., 1.],\n",
       "       [0., 1.],\n",
       "       [0., 1.],\n",
       "       [0., 1.],\n",
       "       [0., 1.],\n",
       "       [0., 1.],\n",
       "       [0., 1.],\n",
       "       [0., 1.],\n",
       "       [0., 1.],\n",
       "       [0., 1.],\n",
       "       [0., 1.],\n",
       "       [0., 1.],\n",
       "       [0., 1.],\n",
       "       [0., 1.],\n",
       "       [0., 1.],\n",
       "       [0., 1.],\n",
       "       [0., 1.],\n",
       "       [0., 1.],\n",
       "       [0., 1.],\n",
       "       [0., 1.],\n",
       "       [0., 1.],\n",
       "       [0., 1.],\n",
       "       [0., 1.],\n",
       "       [0., 1.],\n",
       "       [0., 1.],\n",
       "       [0., 1.],\n",
       "       [0., 1.],\n",
       "       [0., 1.],\n",
       "       [0., 1.],\n",
       "       [0., 1.],\n",
       "       [0., 1.],\n",
       "       [0., 1.],\n",
       "       [0., 1.],\n",
       "       [0., 1.],\n",
       "       [0., 1.],\n",
       "       [0., 1.],\n",
       "       [0., 1.],\n",
       "       [0., 1.],\n",
       "       [0., 1.],\n",
       "       [0., 1.],\n",
       "       [0., 1.],\n",
       "       [0., 1.],\n",
       "       [0., 1.],\n",
       "       [0., 1.],\n",
       "       [0., 1.],\n",
       "       [0., 1.],\n",
       "       [0., 1.],\n",
       "       [0., 1.],\n",
       "       [0., 1.],\n",
       "       [0., 1.],\n",
       "       [0., 1.],\n",
       "       [0., 1.],\n",
       "       [0., 1.],\n",
       "       [0., 1.],\n",
       "       [0., 1.],\n",
       "       [0., 1.],\n",
       "       [0., 1.],\n",
       "       [0., 1.],\n",
       "       [0., 1.],\n",
       "       [0., 1.],\n",
       "       [0., 1.],\n",
       "       [0., 1.]], dtype=float32)"
      ]
     },
     "execution_count": 100,
     "metadata": {},
     "output_type": "execute_result"
    }
   ],
   "source": [
    "S2nonmatchLabel_one_hot_TEST"
   ]
  },
  {
   "cell_type": "code",
   "execution_count": 101,
   "metadata": {},
   "outputs": [
    {
     "data": {
      "text/plain": [
       "array([[1.00000000e+00, 3.11705399e-08],\n",
       "       [4.84536499e-01, 5.15463471e-01],\n",
       "       [5.50142705e-01, 4.49857354e-01],\n",
       "       [9.99999285e-01, 7.49431308e-07],\n",
       "       [1.77885201e-02, 9.82211530e-01],\n",
       "       [5.27876973e-01, 4.72122967e-01],\n",
       "       [9.68338609e-01, 3.16613764e-02],\n",
       "       [9.96710062e-01, 3.28987720e-03],\n",
       "       [1.07764062e-02, 9.89223599e-01],\n",
       "       [9.99996185e-01, 3.84492068e-06],\n",
       "       [4.84654129e-01, 5.15345931e-01],\n",
       "       [3.64365661e-07, 9.99999642e-01],\n",
       "       [1.65224704e-03, 9.98347759e-01],\n",
       "       [9.71553326e-01, 2.84467340e-02],\n",
       "       [1.41568452e-01, 8.58431578e-01],\n",
       "       [4.92451847e-01, 5.07548094e-01],\n",
       "       [2.99897611e-01, 7.00102389e-01],\n",
       "       [5.63597423e-05, 9.99943614e-01],\n",
       "       [9.99052107e-01, 9.47906228e-04],\n",
       "       [4.11349116e-03, 9.95886505e-01],\n",
       "       [1.81072652e-02, 9.81892705e-01],\n",
       "       [8.12736392e-01, 1.87263668e-01],\n",
       "       [1.42245039e-01, 8.57754886e-01],\n",
       "       [4.46810620e-03, 9.95531917e-01],\n",
       "       [6.27715409e-01, 3.72284561e-01],\n",
       "       [1.15130730e-01, 8.84869337e-01],\n",
       "       [9.98058975e-01, 1.94099080e-03],\n",
       "       [8.78035426e-01, 1.21964656e-01],\n",
       "       [9.99967456e-01, 3.24966168e-05],\n",
       "       [4.61285323e-01, 5.38714707e-01],\n",
       "       [2.61776242e-02, 9.73822355e-01],\n",
       "       [9.99997735e-01, 2.31084778e-06],\n",
       "       [5.95696449e-01, 4.04303521e-01],\n",
       "       [8.24051052e-02, 9.17594850e-01],\n",
       "       [3.16611747e-03, 9.96833861e-01],\n",
       "       [9.90140975e-01, 9.85908322e-03],\n",
       "       [9.98978496e-01, 1.02155283e-03],\n",
       "       [3.61443758e-01, 6.38556242e-01],\n",
       "       [8.15847940e-08, 9.99999881e-01],\n",
       "       [3.64920066e-04, 9.99635100e-01],\n",
       "       [7.72952259e-01, 2.27047756e-01],\n",
       "       [9.68332887e-01, 3.16670686e-02],\n",
       "       [7.85264000e-02, 9.21473563e-01],\n",
       "       [8.85471702e-01, 1.14528358e-01],\n",
       "       [9.99673486e-01, 3.26485897e-04],\n",
       "       [3.17593038e-01, 6.82406962e-01],\n",
       "       [3.55319351e-01, 6.44680679e-01],\n",
       "       [8.70979369e-01, 1.29020587e-01],\n",
       "       [9.12540257e-02, 9.08746004e-01],\n",
       "       [4.85455394e-01, 5.14544606e-01],\n",
       "       [1.00000000e+00, 9.90899124e-21],\n",
       "       [1.00000000e+00, 3.36742029e-20],\n",
       "       [1.00000000e+00, 1.64340573e-19],\n",
       "       [1.00000000e+00, 1.55931947e-20],\n",
       "       [1.00000000e+00, 2.26921409e-18],\n",
       "       [1.00000000e+00, 6.07471546e-21],\n",
       "       [1.00000000e+00, 4.18625686e-18],\n",
       "       [1.00000000e+00, 2.37873960e-20],\n",
       "       [1.00000000e+00, 9.67676909e-18],\n",
       "       [1.00000000e+00, 1.60607133e-19],\n",
       "       [9.99281347e-01, 7.18692492e-04],\n",
       "       [7.83540428e-01, 2.16459557e-01],\n",
       "       [9.99724805e-01, 2.75231374e-04],\n",
       "       [7.50281688e-05, 9.99925017e-01],\n",
       "       [1.28470331e-01, 8.71529639e-01],\n",
       "       [3.56163114e-01, 6.43836915e-01],\n",
       "       [2.30036303e-01, 7.69963682e-01],\n",
       "       [9.98586297e-01, 1.41373789e-03],\n",
       "       [9.99979496e-01, 2.04861299e-05],\n",
       "       [3.59525457e-02, 9.64047492e-01],\n",
       "       [2.52534688e-01, 7.47465312e-01],\n",
       "       [9.88068998e-01, 1.19310264e-02],\n",
       "       [5.56509435e-01, 4.43490654e-01],\n",
       "       [4.18526906e-04, 9.99581516e-01],\n",
       "       [9.50398207e-01, 4.96017672e-02],\n",
       "       [6.78965647e-04, 9.99321103e-01],\n",
       "       [9.99746978e-01, 2.53023434e-04],\n",
       "       [2.98598073e-02, 9.70140159e-01],\n",
       "       [9.99980807e-01, 1.92501939e-05],\n",
       "       [2.14946032e-01, 7.85053968e-01],\n",
       "       [9.98916388e-01, 1.08362595e-03],\n",
       "       [4.59113531e-02, 9.54088688e-01],\n",
       "       [7.53961280e-02, 9.24603820e-01],\n",
       "       [5.69884013e-03, 9.94301200e-01],\n",
       "       [9.92177069e-01, 7.82299228e-03],\n",
       "       [2.85145026e-02, 9.71485496e-01],\n",
       "       [6.48050129e-01, 3.51949841e-01],\n",
       "       [3.65085691e-01, 6.34914398e-01],\n",
       "       [2.42194217e-02, 9.75780547e-01],\n",
       "       [8.86811614e-01, 1.13188386e-01],\n",
       "       [2.78394204e-02, 9.72160518e-01],\n",
       "       [9.99561369e-01, 4.38668445e-04],\n",
       "       [5.61278239e-02, 9.43872154e-01],\n",
       "       [1.17582257e-03, 9.98824179e-01],\n",
       "       [1.59767233e-02, 9.84023333e-01],\n",
       "       [3.96975409e-03, 9.96030271e-01],\n",
       "       [3.03297620e-02, 9.69670296e-01],\n",
       "       [1.83715075e-02, 9.81628478e-01],\n",
       "       [5.76322265e-02, 9.42367733e-01],\n",
       "       [3.18944425e-04, 9.99681115e-01],\n",
       "       [7.06111197e-04, 9.99293923e-01],\n",
       "       [2.34899181e-03, 9.97651041e-01],\n",
       "       [2.62066344e-04, 9.99737918e-01],\n",
       "       [1.86726229e-05, 9.99981284e-01],\n",
       "       [1.06163470e-05, 9.99989390e-01],\n",
       "       [5.46363415e-04, 9.99453604e-01],\n",
       "       [2.40292633e-03, 9.97597039e-01],\n",
       "       [3.73303950e-01, 6.26696110e-01],\n",
       "       [1.92889042e-04, 9.99807179e-01],\n",
       "       [1.54067273e-03, 9.98459339e-01],\n",
       "       [3.71553632e-03, 9.96284485e-01],\n",
       "       [6.62357509e-02, 9.33764338e-01],\n",
       "       [5.08767515e-02, 9.49123323e-01],\n",
       "       [2.56899568e-09, 1.00000000e+00],\n",
       "       [3.52534557e-09, 1.00000000e+00],\n",
       "       [3.03003266e-02, 9.69699681e-01],\n",
       "       [1.87021044e-07, 9.99999762e-01],\n",
       "       [1.53764686e-05, 9.99984622e-01],\n",
       "       [2.08259765e-02, 9.79173958e-01],\n",
       "       [6.03423081e-02, 9.39657688e-01],\n",
       "       [1.90751161e-04, 9.99809325e-01],\n",
       "       [4.79325579e-10, 1.00000000e+00],\n",
       "       [1.10976936e-04, 9.99889016e-01],\n",
       "       [2.81449277e-02, 9.71855104e-01],\n",
       "       [2.26695602e-06, 9.99997735e-01],\n",
       "       [3.96389840e-03, 9.96036112e-01],\n",
       "       [2.51829733e-05, 9.99974847e-01],\n",
       "       [5.09178042e-01, 4.90822047e-01],\n",
       "       [3.59440492e-05, 9.99963999e-01],\n",
       "       [1.60077047e-02, 9.83992279e-01],\n",
       "       [4.88298356e-05, 9.99951124e-01],\n",
       "       [3.52532929e-03, 9.96474683e-01],\n",
       "       [1.15048955e-04, 9.99884963e-01],\n",
       "       [4.46889246e-08, 1.00000000e+00],\n",
       "       [1.86658133e-09, 1.00000000e+00],\n",
       "       [1.00106114e-07, 9.99999881e-01],\n",
       "       [4.98074479e-03, 9.95019197e-01],\n",
       "       [1.60874456e-01, 8.39125574e-01],\n",
       "       [2.07858335e-04, 9.99792159e-01],\n",
       "       [7.37700902e-05, 9.99926209e-01],\n",
       "       [4.88777727e-01, 5.11222303e-01],\n",
       "       [1.20982481e-03, 9.98790205e-01],\n",
       "       [1.22374773e-03, 9.98776257e-01],\n",
       "       [6.11102674e-04, 9.99388933e-01],\n",
       "       [7.36561415e-05, 9.99926329e-01],\n",
       "       [1.09540031e-03, 9.98904586e-01],\n",
       "       [9.55142200e-01, 4.48578000e-02],\n",
       "       [1.24931194e-06, 9.99998808e-01],\n",
       "       [1.09461398e-04, 9.99890566e-01],\n",
       "       [1.71858579e-01, 8.28141391e-01],\n",
       "       [6.46249428e-02, 9.35375035e-01],\n",
       "       [8.18162691e-03, 9.91818309e-01],\n",
       "       [4.91134473e-04, 9.99508858e-01],\n",
       "       [8.20159074e-03, 9.91798401e-01],\n",
       "       [4.69628116e-03, 9.95303750e-01],\n",
       "       [1.50684223e-01, 8.49315822e-01],\n",
       "       [2.37682201e-02, 9.76231754e-01],\n",
       "       [1.21564781e-02, 9.87843513e-01],\n",
       "       [2.50162072e-02, 9.74983752e-01],\n",
       "       [8.73625398e-01, 1.26374602e-01],\n",
       "       [7.31826818e-04, 9.99268115e-01],\n",
       "       [4.26047081e-05, 9.99957442e-01],\n",
       "       [2.46145519e-05, 9.99975443e-01],\n",
       "       [3.60134174e-04, 9.99639869e-01],\n",
       "       [1.90931663e-04, 9.99809086e-01],\n",
       "       [6.23574742e-05, 9.99937654e-01],\n",
       "       [1.99575697e-05, 9.99980092e-01],\n",
       "       [3.84662021e-03, 9.96153414e-01],\n",
       "       [2.39302797e-04, 9.99760687e-01],\n",
       "       [3.63621339e-02, 9.63637829e-01],\n",
       "       [8.27982947e-02, 9.17201638e-01],\n",
       "       [2.33466947e-03, 9.97665405e-01],\n",
       "       [2.80688959e-03, 9.97193158e-01],\n",
       "       [4.07296029e-04, 9.99592721e-01],\n",
       "       [1.16247378e-01, 8.83752584e-01],\n",
       "       [3.73405055e-04, 9.99626517e-01],\n",
       "       [2.72199886e-05, 9.99972820e-01],\n",
       "       [4.06845845e-03, 9.95931566e-01],\n",
       "       [1.77505089e-03, 9.98224914e-01],\n",
       "       [6.19417142e-06, 9.99993801e-01],\n",
       "       [8.50894430e-04, 9.99149084e-01],\n",
       "       [2.11959742e-02, 9.78804052e-01],\n",
       "       [2.13104598e-02, 9.78689492e-01],\n",
       "       [1.72909331e-05, 9.99982715e-01],\n",
       "       [2.00711400e-03, 9.97992873e-01],\n",
       "       [7.84238160e-01, 2.15761855e-01],\n",
       "       [4.03274898e-04, 9.99596775e-01],\n",
       "       [1.88388178e-04, 9.99811590e-01],\n",
       "       [7.88484118e-04, 9.99211431e-01],\n",
       "       [1.11940179e-04, 9.99888062e-01],\n",
       "       [2.49853954e-02, 9.75014567e-01],\n",
       "       [5.51766716e-02, 9.44823325e-01],\n",
       "       [4.64175828e-03, 9.95358288e-01],\n",
       "       [5.25949756e-03, 9.94740546e-01],\n",
       "       [5.30218065e-01, 4.69781876e-01],\n",
       "       [5.37715096e-06, 9.99994636e-01],\n",
       "       [5.19983132e-07, 9.99999523e-01],\n",
       "       [2.61883433e-05, 9.99973774e-01],\n",
       "       [1.43143252e-01, 8.56856763e-01],\n",
       "       [2.86323530e-06, 9.99997139e-01]], dtype=float32)"
      ]
     },
     "execution_count": 101,
     "metadata": {},
     "output_type": "execute_result"
    }
   ],
   "source": [
    "y_pred_S2nonmatch_one_hot"
   ]
  },
  {
   "cell_type": "code",
   "execution_count": 102,
   "metadata": {},
   "outputs": [],
   "source": [
    "y_pred_S2nonmatch = y_pred_S2nonmatch_one_hot[:,1]"
   ]
  },
  {
   "cell_type": "code",
   "execution_count": 103,
   "metadata": {},
   "outputs": [
    {
     "data": {
      "text/plain": [
       "array([3.11705399e-08, 5.15463471e-01, 4.49857354e-01, 7.49431308e-07,\n",
       "       9.82211530e-01, 4.72122967e-01, 3.16613764e-02, 3.28987720e-03,\n",
       "       9.89223599e-01, 3.84492068e-06, 5.15345931e-01, 9.99999642e-01,\n",
       "       9.98347759e-01, 2.84467340e-02, 8.58431578e-01, 5.07548094e-01,\n",
       "       7.00102389e-01, 9.99943614e-01, 9.47906228e-04, 9.95886505e-01,\n",
       "       9.81892705e-01, 1.87263668e-01, 8.57754886e-01, 9.95531917e-01,\n",
       "       3.72284561e-01, 8.84869337e-01, 1.94099080e-03, 1.21964656e-01,\n",
       "       3.24966168e-05, 5.38714707e-01, 9.73822355e-01, 2.31084778e-06,\n",
       "       4.04303521e-01, 9.17594850e-01, 9.96833861e-01, 9.85908322e-03,\n",
       "       1.02155283e-03, 6.38556242e-01, 9.99999881e-01, 9.99635100e-01,\n",
       "       2.27047756e-01, 3.16670686e-02, 9.21473563e-01, 1.14528358e-01,\n",
       "       3.26485897e-04, 6.82406962e-01, 6.44680679e-01, 1.29020587e-01,\n",
       "       9.08746004e-01, 5.14544606e-01, 9.90899124e-21, 3.36742029e-20,\n",
       "       1.64340573e-19, 1.55931947e-20, 2.26921409e-18, 6.07471546e-21,\n",
       "       4.18625686e-18, 2.37873960e-20, 9.67676909e-18, 1.60607133e-19,\n",
       "       7.18692492e-04, 2.16459557e-01, 2.75231374e-04, 9.99925017e-01,\n",
       "       8.71529639e-01, 6.43836915e-01, 7.69963682e-01, 1.41373789e-03,\n",
       "       2.04861299e-05, 9.64047492e-01, 7.47465312e-01, 1.19310264e-02,\n",
       "       4.43490654e-01, 9.99581516e-01, 4.96017672e-02, 9.99321103e-01,\n",
       "       2.53023434e-04, 9.70140159e-01, 1.92501939e-05, 7.85053968e-01,\n",
       "       1.08362595e-03, 9.54088688e-01, 9.24603820e-01, 9.94301200e-01,\n",
       "       7.82299228e-03, 9.71485496e-01, 3.51949841e-01, 6.34914398e-01,\n",
       "       9.75780547e-01, 1.13188386e-01, 9.72160518e-01, 4.38668445e-04,\n",
       "       9.43872154e-01, 9.98824179e-01, 9.84023333e-01, 9.96030271e-01,\n",
       "       9.69670296e-01, 9.81628478e-01, 9.42367733e-01, 9.99681115e-01,\n",
       "       9.99293923e-01, 9.97651041e-01, 9.99737918e-01, 9.99981284e-01,\n",
       "       9.99989390e-01, 9.99453604e-01, 9.97597039e-01, 6.26696110e-01,\n",
       "       9.99807179e-01, 9.98459339e-01, 9.96284485e-01, 9.33764338e-01,\n",
       "       9.49123323e-01, 1.00000000e+00, 1.00000000e+00, 9.69699681e-01,\n",
       "       9.99999762e-01, 9.99984622e-01, 9.79173958e-01, 9.39657688e-01,\n",
       "       9.99809325e-01, 1.00000000e+00, 9.99889016e-01, 9.71855104e-01,\n",
       "       9.99997735e-01, 9.96036112e-01, 9.99974847e-01, 4.90822047e-01,\n",
       "       9.99963999e-01, 9.83992279e-01, 9.99951124e-01, 9.96474683e-01,\n",
       "       9.99884963e-01, 1.00000000e+00, 1.00000000e+00, 9.99999881e-01,\n",
       "       9.95019197e-01, 8.39125574e-01, 9.99792159e-01, 9.99926209e-01,\n",
       "       5.11222303e-01, 9.98790205e-01, 9.98776257e-01, 9.99388933e-01,\n",
       "       9.99926329e-01, 9.98904586e-01, 4.48578000e-02, 9.99998808e-01,\n",
       "       9.99890566e-01, 8.28141391e-01, 9.35375035e-01, 9.91818309e-01,\n",
       "       9.99508858e-01, 9.91798401e-01, 9.95303750e-01, 8.49315822e-01,\n",
       "       9.76231754e-01, 9.87843513e-01, 9.74983752e-01, 1.26374602e-01,\n",
       "       9.99268115e-01, 9.99957442e-01, 9.99975443e-01, 9.99639869e-01,\n",
       "       9.99809086e-01, 9.99937654e-01, 9.99980092e-01, 9.96153414e-01,\n",
       "       9.99760687e-01, 9.63637829e-01, 9.17201638e-01, 9.97665405e-01,\n",
       "       9.97193158e-01, 9.99592721e-01, 8.83752584e-01, 9.99626517e-01,\n",
       "       9.99972820e-01, 9.95931566e-01, 9.98224914e-01, 9.99993801e-01,\n",
       "       9.99149084e-01, 9.78804052e-01, 9.78689492e-01, 9.99982715e-01,\n",
       "       9.97992873e-01, 2.15761855e-01, 9.99596775e-01, 9.99811590e-01,\n",
       "       9.99211431e-01, 9.99888062e-01, 9.75014567e-01, 9.44823325e-01,\n",
       "       9.95358288e-01, 9.94740546e-01, 4.69781876e-01, 9.99994636e-01,\n",
       "       9.99999523e-01, 9.99973774e-01, 8.56856763e-01, 9.99997139e-01],\n",
       "      dtype=float32)"
      ]
     },
     "execution_count": 103,
     "metadata": {},
     "output_type": "execute_result"
    }
   ],
   "source": [
    "y_pred_S2nonmatch"
   ]
  },
  {
   "cell_type": "code",
   "execution_count": 104,
   "metadata": {},
   "outputs": [
    {
     "data": {
      "text/plain": [
       "array([0., 0., 0., 0., 0., 0., 0., 0., 0., 0., 0., 0., 0., 0., 0., 0., 0.,\n",
       "       0., 0., 0., 0., 0., 0., 0., 0., 0., 0., 0., 0., 0., 0., 0., 0., 0.,\n",
       "       0., 0., 0., 0., 0., 0., 0., 0., 0., 0., 0., 0., 0., 0., 0., 0., 0.,\n",
       "       0., 0., 0., 0., 0., 0., 0., 0., 0., 0., 0., 0., 0., 0., 0., 0., 0.,\n",
       "       0., 0., 0., 0., 0., 0., 0., 0., 0., 0., 0., 0., 0., 0., 0., 0., 0.,\n",
       "       0., 0., 0., 0., 0., 0., 0., 0., 0., 0., 0., 0., 0., 0., 0., 1., 1.,\n",
       "       1., 1., 1., 1., 1., 1., 1., 1., 1., 1., 1., 1., 1., 1., 1., 1., 1.,\n",
       "       1., 1., 1., 1., 1., 1., 1., 1., 1., 1., 1., 1., 1., 1., 1., 1., 1.,\n",
       "       1., 1., 1., 1., 1., 1., 1., 1., 1., 1., 1., 1., 1., 1., 1., 1., 1.,\n",
       "       1., 1., 1., 1., 1., 1., 1., 1., 1., 1., 1., 1., 1., 1., 1., 1., 1.,\n",
       "       1., 1., 1., 1., 1., 1., 1., 1., 1., 1., 1., 1., 1., 1., 1., 1., 1.,\n",
       "       1., 1., 1., 1., 1., 1., 1., 1., 1., 1., 1., 1., 1.])"
      ]
     },
     "execution_count": 104,
     "metadata": {},
     "output_type": "execute_result"
    }
   ],
   "source": [
    "S2nonmatchLabel_TEST"
   ]
  },
  {
   "cell_type": "code",
   "execution_count": 105,
   "metadata": {},
   "outputs": [],
   "source": [
    "c_range = np.linspace(0,1,100)\n",
    "\n",
    "accuracies = np.ones(len(c_range))\n",
    "\n",
    "for i in range(len(c_range)):\n",
    "    c = c_range[i]\n",
    "    # Compute accuracy as before but with threshold c\n",
    "    accuracies[i] = np.sum(1*(y_pred_S2nonmatch>c)\n",
    "                           ==S2nonmatchLabel_TEST)/len(S2nonmatchLabel_TEST)"
   ]
  },
  {
   "cell_type": "code",
   "execution_count": 106,
   "metadata": {},
   "outputs": [
    {
     "data": {
      "text/plain": [
       "array([0.5  , 0.65 , 0.655, 0.66 , 0.67 , 0.67 , 0.67 , 0.67 , 0.67 ,\n",
       "       0.67 , 0.67 , 0.67 , 0.68 , 0.685, 0.685, 0.685, 0.685, 0.685,\n",
       "       0.685, 0.69 , 0.69 , 0.69 , 0.69 , 0.695, 0.695, 0.695, 0.695,\n",
       "       0.695, 0.695, 0.695, 0.695, 0.695, 0.695, 0.695, 0.695, 0.7  ,\n",
       "       0.7  , 0.705, 0.705, 0.705, 0.705, 0.71 , 0.71 , 0.71 , 0.715,\n",
       "       0.72 , 0.72 , 0.72 , 0.72 , 0.715, 0.715, 0.72 , 0.73 , 0.73 ,\n",
       "       0.735, 0.735, 0.735, 0.735, 0.735, 0.735, 0.735, 0.735, 0.735,\n",
       "       0.735, 0.75 , 0.75 , 0.75 , 0.75 , 0.755, 0.755, 0.76 , 0.76 ,\n",
       "       0.76 , 0.76 , 0.765, 0.765, 0.765, 0.77 , 0.775, 0.775, 0.775,\n",
       "       0.775, 0.77 , 0.77 , 0.765, 0.765, 0.765, 0.77 , 0.77 , 0.77 ,\n",
       "       0.775, 0.775, 0.785, 0.775, 0.77 , 0.775, 0.78 , 0.765, 0.78 ,\n",
       "       0.5  ])"
      ]
     },
     "execution_count": 106,
     "metadata": {},
     "output_type": "execute_result"
    }
   ],
   "source": [
    "accuracies"
   ]
  },
  {
   "cell_type": "code",
   "execution_count": 107,
   "metadata": {},
   "outputs": [
    {
     "name": "stdout",
     "output_type": "stream",
     "text": [
      "0.785 0.9292929292929294\n"
     ]
    }
   ],
   "source": [
    "print(np.max(accuracies),c_range[np.argmax(accuracies)])"
   ]
  },
  {
   "cell_type": "code",
   "execution_count": 108,
   "metadata": {},
   "outputs": [],
   "source": [
    "y_pred_S2nonmatch_new = np.zeros(len(y_pred_S2nonmatch))\n",
    "for i in range(len(y_pred_S2nonmatch)):\n",
    "    if(y_pred_S2nonmatch[i] > 0.5):\n",
    "        y_pred_S2nonmatch_new[i] = 1\n",
    "    else:\n",
    "        y_pred_S2nonmatch_new[i] = 0"
   ]
  },
  {
   "cell_type": "code",
   "execution_count": 109,
   "metadata": {},
   "outputs": [
    {
     "data": {
      "text/plain": [
       "array([0., 1., 0., 0., 1., 0., 0., 0., 1., 0., 1., 1., 1., 0., 1., 1., 1.,\n",
       "       1., 0., 1., 1., 0., 1., 1., 0., 1., 0., 0., 0., 1., 1., 0., 0., 1.,\n",
       "       1., 0., 0., 1., 1., 1., 0., 0., 1., 0., 0., 1., 1., 0., 1., 1., 0.,\n",
       "       0., 0., 0., 0., 0., 0., 0., 0., 0., 0., 0., 0., 1., 1., 1., 1., 0.,\n",
       "       0., 1., 1., 0., 0., 1., 0., 1., 0., 1., 0., 1., 0., 1., 1., 1., 0.,\n",
       "       1., 0., 1., 1., 0., 1., 0., 1., 1., 1., 1., 1., 1., 1., 1., 1., 1.,\n",
       "       1., 1., 1., 1., 1., 1., 1., 1., 1., 1., 1., 1., 1., 1., 1., 1., 1.,\n",
       "       1., 1., 1., 1., 1., 1., 1., 1., 0., 1., 1., 1., 1., 1., 1., 1., 1.,\n",
       "       1., 1., 1., 1., 1., 1., 1., 1., 1., 1., 0., 1., 1., 1., 1., 1., 1.,\n",
       "       1., 1., 1., 1., 1., 1., 0., 1., 1., 1., 1., 1., 1., 1., 1., 1., 1.,\n",
       "       1., 1., 1., 1., 1., 1., 1., 1., 1., 1., 1., 1., 1., 1., 1., 0., 1.,\n",
       "       1., 1., 1., 1., 1., 1., 1., 0., 1., 1., 1., 1., 1.])"
      ]
     },
     "execution_count": 109,
     "metadata": {},
     "output_type": "execute_result"
    }
   ],
   "source": [
    "y_pred_S2nonmatch_new"
   ]
  },
  {
   "cell_type": "code",
   "execution_count": 110,
   "metadata": {},
   "outputs": [
    {
     "data": {
      "text/plain": [
       "(200,)"
      ]
     },
     "execution_count": 110,
     "metadata": {},
     "output_type": "execute_result"
    }
   ],
   "source": [
    "np.shape(y_pred_S2nonmatch_new)"
   ]
  },
  {
   "cell_type": "code",
   "execution_count": 111,
   "metadata": {},
   "outputs": [
    {
     "data": {
      "image/png": "[encoded data removed]",
      "text/plain": [
       "<Figure size 432x288 with 1 Axes>"
      ]
     },
     "metadata": {
      "needs_background": "light"
     },
     "output_type": "display_data"
    },
    {
     "data": {
      "image/png": "[encoded data removed]",
      "text/plain": [
       "<Figure size 432x288 with 1 Axes>"
      ]
     },
     "metadata": {
      "needs_background": "light"
     },
     "output_type": "display_data"
    }
   ],
   "source": [
    "accuracy_S2nonmatch = CNN_train_S2nonmatch.history['accuracy']\n",
    "test_accuracy_S2nonmatch = CNN_train_S2nonmatch.history['val_accuracy']\n",
    "loss_S2nonmatch = CNN_train_S2nonmatch.history['loss']\n",
    "test_loss_S2nonmatch = CNN_train_S2nonmatch.history['val_loss']\n",
    "epochsRange = range(len(accuracy_S2nonmatch))\n",
    "plt.plot(epochsRange, accuracy_S2nonmatch, 'bo', label='Training accuracy')\n",
    "plt.plot(epochsRange, test_accuracy_S2nonmatch, 'b', label='Testing accuracy')\n",
    "plt.title('Training and Testing Accuracy (S2 nonmatch)')\n",
    "plt.xlabel('Epochs')\n",
    "plt.ylabel('Accuracy')\n",
    "plt.legend()\n",
    "plt.savefig('Baseline_CNN_s2nonmatch_accuracy', bbox_inches='tight')\n",
    "plt.figure()\n",
    "plt.plot(epochsRange, loss_S2nonmatch, 'bo', label='Training loss')\n",
    "plt.plot(epochsRange, test_loss_S2nonmatch, 'b', label='Testing loss')\n",
    "plt.title('Training and Testing Loss (S2 nonmatch)')\n",
    "plt.xlabel('Epochs')\n",
    "plt.ylabel('Loss')\n",
    "plt.legend()\n",
    "plt.savefig('Baseline_CNN_s2nonmatch_loss', bbox_inches='tight')\n",
    "plt.show()"
   ]
  },
  {
   "cell_type": "code",
   "execution_count": 112,
   "metadata": {},
   "outputs": [],
   "source": [
    "from sklearn.metrics import confusion_matrix\n",
    "from sklearn.metrics import confusion_matrix, ConfusionMatrixDisplay"
   ]
  },
  {
   "cell_type": "code",
   "execution_count": 113,
   "metadata": {},
   "outputs": [
    {
     "data": {
      "text/plain": [
       "([<matplotlib.axis.YTick at 0x27c27640970>,\n",
       "  <matplotlib.axis.YTick at 0x27c27640550>],\n",
       " [Text(0, 0, 'Control'), Text(0, 1, 'Alcoholic')])"
      ]
     },
     "execution_count": 113,
     "metadata": {},
     "output_type": "execute_result"
    },
    {
     "data": {
      "image/png": "[encoded data removed]",
      "text/plain": [
       "<Figure size 432x288 with 2 Axes>"
      ]
     },
     "metadata": {
      "needs_background": "light"
     },
     "output_type": "display_data"
    }
   ],
   "source": [
    "# Obtain the confusion matrix\n",
    "cm = confusion_matrix(y_true = S2nonmatchLabel_TEST, \n",
    "                      y_pred = y_pred_S2nonmatch_new, normalize='true')\n",
    "\n",
    "# Plot it!\n",
    "disp = ConfusionMatrixDisplay(confusion_matrix=cm)\n",
    "\n",
    "disp.plot()\n",
    "\n",
    "#fig_path = model_path+'S1-conf_mat.png'\n",
    "#plt.savefig(fig_path)\n",
    "\n",
    "plt.xticks(ticks = [0,1], labels=['Control','Alcoholic'])\n",
    "plt.yticks(ticks = [0,1], labels=['Control','Alcoholic'])"
   ]
  },
  {
   "cell_type": "markdown",
   "metadata": {},
   "source": [
    "FULL Data Set"
   ]
  },
  {
   "cell_type": "code",
   "execution_count": 98,
   "metadata": {},
   "outputs": [
    {
     "name": "stdout",
     "output_type": "stream",
     "text": [
      "Epoch 1/200\n",
      "32/32 [==============================] - 29s 833ms/step - loss: 0.6550 - accuracy: 0.6424 - val_loss: 0.6598 - val_accuracy: 0.6024\n",
      "Epoch 2/200\n",
      "32/32 [==============================] - 26s 824ms/step - loss: 0.6213 - accuracy: 0.6524 - val_loss: 0.6424 - val_accuracy: 0.6446\n",
      "Epoch 3/200\n",
      "32/32 [==============================] - 26s 822ms/step - loss: 0.5992 - accuracy: 0.6605 - val_loss: 0.6403 - val_accuracy: 0.6325\n",
      "Epoch 4/200\n",
      "32/32 [==============================] - 27s 854ms/step - loss: 0.5823 - accuracy: 0.6715 - val_loss: 0.6253 - val_accuracy: 0.6265\n",
      "Epoch 5/200\n",
      "32/32 [==============================] - 27s 843ms/step - loss: 0.5773 - accuracy: 0.6751 - val_loss: 0.6480 - val_accuracy: 0.6124\n",
      "Epoch 6/200\n",
      "32/32 [==============================] - 27s 829ms/step - loss: 0.5755 - accuracy: 0.6821 - val_loss: 0.6221 - val_accuracy: 0.6406\n",
      "Epoch 7/200\n",
      "32/32 [==============================] - 27s 843ms/step - loss: 0.5475 - accuracy: 0.7062 - val_loss: 0.6514 - val_accuracy: 0.6245\n",
      "Epoch 8/200\n",
      "32/32 [==============================] - 27s 833ms/step - loss: 0.5334 - accuracy: 0.7037 - val_loss: 0.6371 - val_accuracy: 0.6526\n",
      "Epoch 9/200\n",
      "32/32 [==============================] - 27s 848ms/step - loss: 0.5130 - accuracy: 0.7299 - val_loss: 0.6354 - val_accuracy: 0.6888\n",
      "Epoch 10/200\n",
      "32/32 [==============================] - 27s 839ms/step - loss: 0.4874 - accuracy: 0.7470 - val_loss: 0.6026 - val_accuracy: 0.6566\n",
      "Epoch 11/200\n",
      "32/32 [==============================] - 29s 893ms/step - loss: 0.4687 - accuracy: 0.7596 - val_loss: 0.6678 - val_accuracy: 0.6867\n",
      "Epoch 12/200\n",
      "32/32 [==============================] - 26s 827ms/step - loss: 0.4160 - accuracy: 0.7887 - val_loss: 0.6671 - val_accuracy: 0.6988\n",
      "Epoch 13/200\n",
      "32/32 [==============================] - 27s 835ms/step - loss: 0.3767 - accuracy: 0.8174 - val_loss: 0.6802 - val_accuracy: 0.6747\n",
      "Epoch 14/200\n",
      "32/32 [==============================] - 27s 840ms/step - loss: 0.3158 - accuracy: 0.8531 - val_loss: 0.7050 - val_accuracy: 0.6566\n",
      "Epoch 15/200\n",
      "32/32 [==============================] - 26s 828ms/step - loss: 0.3392 - accuracy: 0.8501 - val_loss: 0.7846 - val_accuracy: 0.6908\n",
      "Epoch 16/200\n",
      "32/32 [==============================] - 27s 847ms/step - loss: 0.2977 - accuracy: 0.8677 - val_loss: 0.7182 - val_accuracy: 0.6787\n",
      "Epoch 17/200\n",
      "32/32 [==============================] - 26s 828ms/step - loss: 0.2147 - accuracy: 0.9105 - val_loss: 0.8369 - val_accuracy: 0.7068\n",
      "Epoch 18/200\n",
      "32/32 [==============================] - 26s 821ms/step - loss: 0.1890 - accuracy: 0.9215 - val_loss: 0.8626 - val_accuracy: 0.7008\n",
      "Epoch 19/200\n",
      "32/32 [==============================] - 27s 836ms/step - loss: 0.1493 - accuracy: 0.9442 - val_loss: 1.0093 - val_accuracy: 0.6928\n",
      "Epoch 20/200\n",
      "32/32 [==============================] - 27s 831ms/step - loss: 0.0875 - accuracy: 0.9703 - val_loss: 1.2626 - val_accuracy: 0.6968\n",
      "Epoch 21/200\n",
      "32/32 [==============================] - 27s 840ms/step - loss: 0.0517 - accuracy: 0.9889 - val_loss: 1.4993 - val_accuracy: 0.6867\n",
      "Epoch 22/200\n",
      "32/32 [==============================] - 27s 846ms/step - loss: 0.0438 - accuracy: 0.9859 - val_loss: 1.4914 - val_accuracy: 0.7028\n",
      "Epoch 23/200\n",
      "32/32 [==============================] - 27s 845ms/step - loss: 0.0404 - accuracy: 0.9945 - val_loss: 1.9599 - val_accuracy: 0.6747\n",
      "Epoch 24/200\n",
      "32/32 [==============================] - 27s 844ms/step - loss: 0.0909 - accuracy: 0.9688 - val_loss: 1.7165 - val_accuracy: 0.6888\n",
      "Epoch 25/200\n",
      "32/32 [==============================] - 27s 837ms/step - loss: 0.0474 - accuracy: 0.9844 - val_loss: 1.2697 - val_accuracy: 0.7088\n",
      "Epoch 26/200\n",
      "32/32 [==============================] - 27s 836ms/step - loss: 0.0211 - accuracy: 0.9940 - val_loss: 1.5684 - val_accuracy: 0.7129\n",
      "Epoch 27/200\n",
      "32/32 [==============================] - 27s 841ms/step - loss: 0.0097 - accuracy: 0.9980 - val_loss: 1.6887 - val_accuracy: 0.6988\n",
      "Epoch 28/200\n",
      "32/32 [==============================] - 27s 835ms/step - loss: 0.0056 - accuracy: 0.9985 - val_loss: 1.7143 - val_accuracy: 0.7048\n",
      "Epoch 29/200\n",
      "32/32 [==============================] - 27s 838ms/step - loss: 0.0041 - accuracy: 0.9985 - val_loss: 1.7385 - val_accuracy: 0.7129\n",
      "Epoch 30/200\n",
      "32/32 [==============================] - 27s 833ms/step - loss: 0.0036 - accuracy: 0.9990 - val_loss: 1.7889 - val_accuracy: 0.7149\n",
      "Epoch 31/200\n",
      "32/32 [==============================] - 27s 838ms/step - loss: 0.0034 - accuracy: 0.9985 - val_loss: 1.8166 - val_accuracy: 0.7068\n",
      "Epoch 32/200\n",
      "32/32 [==============================] - 27s 830ms/step - loss: 0.0039 - accuracy: 0.9985 - val_loss: 1.8844 - val_accuracy: 0.7088\n",
      "Epoch 33/200\n",
      "32/32 [==============================] - 27s 836ms/step - loss: 0.0040 - accuracy: 0.9980 - val_loss: 1.9117 - val_accuracy: 0.7108\n",
      "Epoch 34/200\n",
      "32/32 [==============================] - 27s 836ms/step - loss: 0.0033 - accuracy: 0.9985 - val_loss: 1.9310 - val_accuracy: 0.7088\n",
      "Epoch 35/200\n",
      "32/32 [==============================] - 27s 833ms/step - loss: 0.0028 - accuracy: 0.9980 - val_loss: 1.9945 - val_accuracy: 0.7048\n",
      "Epoch 36/200\n",
      "32/32 [==============================] - 27s 838ms/step - loss: 0.0044 - accuracy: 0.9985 - val_loss: 1.9636 - val_accuracy: 0.7149\n",
      "Epoch 37/200\n",
      "32/32 [==============================] - 27s 835ms/step - loss: 0.0031 - accuracy: 0.9985 - val_loss: 2.0029 - val_accuracy: 0.7108\n",
      "Epoch 38/200\n",
      "32/32 [==============================] - 27s 833ms/step - loss: 0.0026 - accuracy: 0.9985 - val_loss: 2.0081 - val_accuracy: 0.7108\n",
      "Epoch 39/200\n",
      "32/32 [==============================] - 27s 835ms/step - loss: 0.0032 - accuracy: 0.9985 - val_loss: 2.0701 - val_accuracy: 0.7149\n",
      "Epoch 40/200\n",
      "32/32 [==============================] - 27s 834ms/step - loss: 0.0035 - accuracy: 0.9990 - val_loss: 2.0715 - val_accuracy: 0.7169\n",
      "Epoch 41/200\n",
      "32/32 [==============================] - 27s 842ms/step - loss: 0.0030 - accuracy: 0.9990 - val_loss: 2.1394 - val_accuracy: 0.7129\n",
      "Epoch 42/200\n",
      "32/32 [==============================] - 27s 829ms/step - loss: 0.0025 - accuracy: 0.9990 - val_loss: 2.0849 - val_accuracy: 0.7129\n",
      "Epoch 43/200\n",
      "32/32 [==============================] - 27s 840ms/step - loss: 0.0025 - accuracy: 0.9985 - val_loss: 2.1532 - val_accuracy: 0.7149\n",
      "Epoch 44/200\n",
      "32/32 [==============================] - 27s 829ms/step - loss: 0.0029 - accuracy: 0.9985 - val_loss: 2.1752 - val_accuracy: 0.7108\n",
      "Epoch 45/200\n",
      "32/32 [==============================] - 27s 844ms/step - loss: 0.0020 - accuracy: 0.9990 - val_loss: 2.1448 - val_accuracy: 0.7068\n",
      "Epoch 46/200\n",
      "32/32 [==============================] - 27s 844ms/step - loss: 0.0026 - accuracy: 0.9985 - val_loss: 2.2023 - val_accuracy: 0.7108\n",
      "Epoch 47/200\n",
      "32/32 [==============================] - 26s 827ms/step - loss: 0.0024 - accuracy: 0.9990 - val_loss: 2.1975 - val_accuracy: 0.7108\n",
      "Epoch 48/200\n",
      "32/32 [==============================] - 27s 832ms/step - loss: 0.0026 - accuracy: 0.9985 - val_loss: 2.2001 - val_accuracy: 0.7108\n",
      "Epoch 49/200\n",
      "32/32 [==============================] - 27s 832ms/step - loss: 0.0026 - accuracy: 0.9985 - val_loss: 2.2035 - val_accuracy: 0.7129\n",
      "Epoch 50/200\n",
      "32/32 [==============================] - 27s 831ms/step - loss: 0.0028 - accuracy: 0.9975 - val_loss: 2.2267 - val_accuracy: 0.7088\n",
      "Epoch 51/200\n",
      "32/32 [==============================] - 28s 873ms/step - loss: 0.0025 - accuracy: 0.9985 - val_loss: 2.2548 - val_accuracy: 0.7088\n",
      "Epoch 52/200\n",
      "32/32 [==============================] - 27s 829ms/step - loss: 0.0027 - accuracy: 0.9980 - val_loss: 2.2769 - val_accuracy: 0.7108\n",
      "Epoch 53/200\n",
      "32/32 [==============================] - 27s 833ms/step - loss: 0.0023 - accuracy: 0.9985 - val_loss: 2.2817 - val_accuracy: 0.7129\n",
      "Epoch 54/200\n",
      "32/32 [==============================] - 27s 836ms/step - loss: 0.0023 - accuracy: 0.9990 - val_loss: 2.2995 - val_accuracy: 0.7129\n",
      "Epoch 55/200\n",
      "32/32 [==============================] - 26s 828ms/step - loss: 0.0023 - accuracy: 0.9985 - val_loss: 2.3061 - val_accuracy: 0.7129\n",
      "Epoch 56/200\n",
      "32/32 [==============================] - 27s 831ms/step - loss: 0.0031 - accuracy: 0.9985 - val_loss: 2.3497 - val_accuracy: 0.7189\n",
      "Epoch 57/200\n",
      "32/32 [==============================] - 27s 837ms/step - loss: 0.0034 - accuracy: 0.9985 - val_loss: 2.3444 - val_accuracy: 0.7229\n",
      "Epoch 58/200\n",
      "32/32 [==============================] - 27s 836ms/step - loss: 0.0028 - accuracy: 0.9990 - val_loss: 2.3276 - val_accuracy: 0.7068\n",
      "Epoch 59/200\n",
      "32/32 [==============================] - 27s 833ms/step - loss: 0.0028 - accuracy: 0.9985 - val_loss: 2.3664 - val_accuracy: 0.7088\n",
      "Epoch 60/200\n",
      "32/32 [==============================] - 27s 830ms/step - loss: 0.0031 - accuracy: 0.9985 - val_loss: 2.3343 - val_accuracy: 0.7169\n",
      "Epoch 61/200\n",
      "32/32 [==============================] - 27s 844ms/step - loss: 0.0021 - accuracy: 0.9980 - val_loss: 2.4384 - val_accuracy: 0.7149\n",
      "Epoch 62/200\n",
      "32/32 [==============================] - 27s 843ms/step - loss: 0.0024 - accuracy: 0.9990 - val_loss: 2.3942 - val_accuracy: 0.7088\n",
      "Epoch 63/200\n",
      "32/32 [==============================] - 27s 836ms/step - loss: 0.0031 - accuracy: 0.9990 - val_loss: 2.5118 - val_accuracy: 0.7088\n",
      "Epoch 64/200\n",
      "32/32 [==============================] - 27s 838ms/step - loss: 0.0024 - accuracy: 0.9990 - val_loss: 2.4645 - val_accuracy: 0.7108\n",
      "Epoch 65/200\n",
      "32/32 [==============================] - 27s 830ms/step - loss: 0.0024 - accuracy: 0.9985 - val_loss: 2.4258 - val_accuracy: 0.7108\n",
      "Epoch 66/200\n",
      "32/32 [==============================] - 27s 836ms/step - loss: 0.0022 - accuracy: 0.9990 - val_loss: 2.5389 - val_accuracy: 0.7149\n",
      "Epoch 67/200\n",
      "32/32 [==============================] - 27s 841ms/step - loss: 0.0029 - accuracy: 0.9985 - val_loss: 2.4113 - val_accuracy: 0.7149\n",
      "Epoch 68/200\n",
      "32/32 [==============================] - 27s 839ms/step - loss: 0.0024 - accuracy: 0.9985 - val_loss: 2.4573 - val_accuracy: 0.7108\n",
      "Epoch 69/200\n",
      "32/32 [==============================] - 27s 834ms/step - loss: 0.0021 - accuracy: 0.9990 - val_loss: 2.4782 - val_accuracy: 0.7048\n",
      "Epoch 70/200\n",
      "32/32 [==============================] - 27s 839ms/step - loss: 0.0020 - accuracy: 0.9990 - val_loss: 2.4614 - val_accuracy: 0.7108\n",
      "Epoch 71/200\n",
      "32/32 [==============================] - 27s 854ms/step - loss: 0.0027 - accuracy: 0.9980 - val_loss: 2.5523 - val_accuracy: 0.6948\n",
      "Epoch 72/200\n",
      "32/32 [==============================] - 27s 835ms/step - loss: 0.0024 - accuracy: 0.9990 - val_loss: 2.4775 - val_accuracy: 0.7048\n",
      "Epoch 73/200\n",
      "32/32 [==============================] - 27s 840ms/step - loss: 0.0022 - accuracy: 0.9985 - val_loss: 2.4952 - val_accuracy: 0.7068\n",
      "Epoch 74/200\n",
      "32/32 [==============================] - 27s 835ms/step - loss: 0.0021 - accuracy: 0.9990 - val_loss: 2.5153 - val_accuracy: 0.7068\n",
      "Epoch 75/200\n",
      "32/32 [==============================] - 27s 833ms/step - loss: 0.0022 - accuracy: 0.9990 - val_loss: 2.5336 - val_accuracy: 0.7088\n",
      "Epoch 76/200\n",
      "32/32 [==============================] - 27s 833ms/step - loss: 0.0019 - accuracy: 0.9990 - val_loss: 2.5419 - val_accuracy: 0.7028\n",
      "Epoch 77/200\n",
      "32/32 [==============================] - 27s 839ms/step - loss: 0.0020 - accuracy: 0.9990 - val_loss: 2.5512 - val_accuracy: 0.7048\n",
      "Epoch 78/200\n",
      "32/32 [==============================] - 27s 838ms/step - loss: 0.0022 - accuracy: 0.9980 - val_loss: 2.5957 - val_accuracy: 0.6988\n",
      "Epoch 79/200\n",
      "32/32 [==============================] - 27s 842ms/step - loss: 0.0028 - accuracy: 0.9980 - val_loss: 2.5385 - val_accuracy: 0.7088\n",
      "Epoch 80/200\n",
      "32/32 [==============================] - 26s 824ms/step - loss: 0.0029 - accuracy: 0.9990 - val_loss: 2.6930 - val_accuracy: 0.6988\n",
      "Epoch 81/200\n",
      "32/32 [==============================] - 27s 833ms/step - loss: 0.0025 - accuracy: 0.9980 - val_loss: 2.5183 - val_accuracy: 0.7229\n",
      "Epoch 82/200\n",
      "32/32 [==============================] - 26s 822ms/step - loss: 0.0023 - accuracy: 0.9990 - val_loss: 2.4770 - val_accuracy: 0.7088\n",
      "Epoch 83/200\n",
      "32/32 [==============================] - 27s 837ms/step - loss: 0.0019 - accuracy: 0.9985 - val_loss: 2.5245 - val_accuracy: 0.7028\n",
      "Epoch 84/200\n",
      "32/32 [==============================] - 27s 832ms/step - loss: 0.0020 - accuracy: 0.9990 - val_loss: 2.5281 - val_accuracy: 0.7189\n",
      "Epoch 85/200\n",
      "32/32 [==============================] - 27s 840ms/step - loss: 0.0024 - accuracy: 0.9980 - val_loss: 2.5530 - val_accuracy: 0.6988\n",
      "Epoch 86/200\n",
      "32/32 [==============================] - 27s 838ms/step - loss: 0.0022 - accuracy: 0.9990 - val_loss: 2.5493 - val_accuracy: 0.7169\n",
      "Epoch 87/200\n",
      "32/32 [==============================] - 27s 832ms/step - loss: 0.0023 - accuracy: 0.9980 - val_loss: 2.5717 - val_accuracy: 0.7028\n",
      "Epoch 88/200\n",
      "32/32 [==============================] - 27s 832ms/step - loss: 0.0021 - accuracy: 0.9990 - val_loss: 2.5736 - val_accuracy: 0.7189\n",
      "Epoch 89/200\n",
      "32/32 [==============================] - 27s 832ms/step - loss: 0.0032 - accuracy: 0.9980 - val_loss: 2.5499 - val_accuracy: 0.6888\n",
      "Epoch 90/200\n",
      "32/32 [==============================] - 27s 830ms/step - loss: 0.0708 - accuracy: 0.9874 - val_loss: 2.9830 - val_accuracy: 0.5964\n",
      "Epoch 91/200\n",
      "32/32 [==============================] - 26s 827ms/step - loss: 0.6592 - accuracy: 0.7269 - val_loss: 0.7555 - val_accuracy: 0.6847\n",
      "Epoch 92/200\n",
      "32/32 [==============================] - 26s 824ms/step - loss: 0.2815 - accuracy: 0.8773 - val_loss: 1.0481 - val_accuracy: 0.6667\n",
      "Epoch 93/200\n",
      "32/32 [==============================] - 27s 834ms/step - loss: 0.1688 - accuracy: 0.9432 - val_loss: 1.0717 - val_accuracy: 0.6586\n",
      "Epoch 94/200\n",
      "32/32 [==============================] - 26s 827ms/step - loss: 0.0507 - accuracy: 0.9864 - val_loss: 1.2322 - val_accuracy: 0.7149\n",
      "Epoch 95/200\n",
      "32/32 [==============================] - 26s 821ms/step - loss: 0.0949 - accuracy: 0.9663 - val_loss: 1.2804 - val_accuracy: 0.7008\n",
      "Epoch 96/200\n",
      "32/32 [==============================] - 27s 836ms/step - loss: 0.0938 - accuracy: 0.9723 - val_loss: 1.4268 - val_accuracy: 0.7048\n",
      "Epoch 97/200\n",
      "32/32 [==============================] - 26s 822ms/step - loss: 0.0332 - accuracy: 0.9864 - val_loss: 1.3931 - val_accuracy: 0.7088\n",
      "Epoch 98/200\n",
      "32/32 [==============================] - 26s 826ms/step - loss: 0.0109 - accuracy: 0.9980 - val_loss: 1.5516 - val_accuracy: 0.7169\n",
      "Epoch 99/200\n",
      "32/32 [==============================] - 27s 840ms/step - loss: 0.0106 - accuracy: 0.9970 - val_loss: 1.5379 - val_accuracy: 0.7028\n",
      "Epoch 100/200\n",
      "32/32 [==============================] - 27s 834ms/step - loss: 0.0050 - accuracy: 0.9980 - val_loss: 1.5278 - val_accuracy: 0.7169\n",
      "Epoch 101/200\n",
      "32/32 [==============================] - 27s 829ms/step - loss: 0.0034 - accuracy: 0.9990 - val_loss: 1.5580 - val_accuracy: 0.7209\n",
      "Epoch 102/200\n",
      "32/32 [==============================] - 26s 826ms/step - loss: 0.0027 - accuracy: 0.9990 - val_loss: 1.6199 - val_accuracy: 0.7149\n",
      "Epoch 103/200\n",
      "32/32 [==============================] - 26s 829ms/step - loss: 0.0027 - accuracy: 0.9985 - val_loss: 1.6336 - val_accuracy: 0.7149\n",
      "Epoch 104/200\n",
      "32/32 [==============================] - 26s 826ms/step - loss: 0.0026 - accuracy: 0.9990 - val_loss: 1.6572 - val_accuracy: 0.7108\n",
      "Epoch 105/200\n",
      "32/32 [==============================] - 27s 832ms/step - loss: 0.0027 - accuracy: 0.9980 - val_loss: 1.6875 - val_accuracy: 0.7169\n",
      "Epoch 106/200\n",
      "32/32 [==============================] - 27s 831ms/step - loss: 0.0028 - accuracy: 0.9990 - val_loss: 1.6826 - val_accuracy: 0.7088\n",
      "Epoch 107/200\n",
      "32/32 [==============================] - 26s 826ms/step - loss: 0.0029 - accuracy: 0.9980 - val_loss: 1.7004 - val_accuracy: 0.7189\n",
      "Epoch 108/200\n",
      "32/32 [==============================] - 26s 827ms/step - loss: 0.0024 - accuracy: 0.9990 - val_loss: 1.7173 - val_accuracy: 0.7088\n",
      "Epoch 109/200\n",
      "32/32 [==============================] - 26s 821ms/step - loss: 0.0023 - accuracy: 0.9985 - val_loss: 1.7315 - val_accuracy: 0.7129\n",
      "Epoch 110/200\n",
      "32/32 [==============================] - 26s 829ms/step - loss: 0.0022 - accuracy: 0.9985 - val_loss: 1.7511 - val_accuracy: 0.7149\n",
      "Epoch 111/200\n",
      "32/32 [==============================] - 26s 829ms/step - loss: 0.0023 - accuracy: 0.9980 - val_loss: 1.7693 - val_accuracy: 0.7108\n",
      "Epoch 112/200\n",
      "32/32 [==============================] - 26s 825ms/step - loss: 0.0026 - accuracy: 0.9985 - val_loss: 1.7688 - val_accuracy: 0.7149\n",
      "Epoch 113/200\n",
      "32/32 [==============================] - 27s 835ms/step - loss: 0.0024 - accuracy: 0.9985 - val_loss: 1.7864 - val_accuracy: 0.7169\n",
      "Epoch 114/200\n",
      "32/32 [==============================] - 27s 829ms/step - loss: 0.0021 - accuracy: 0.9990 - val_loss: 1.7965 - val_accuracy: 0.7149\n",
      "Epoch 115/200\n",
      "32/32 [==============================] - 26s 828ms/step - loss: 0.0024 - accuracy: 0.9980 - val_loss: 1.8104 - val_accuracy: 0.7129\n",
      "Epoch 116/200\n",
      "32/32 [==============================] - 27s 840ms/step - loss: 0.0025 - accuracy: 0.9990 - val_loss: 1.8135 - val_accuracy: 0.7108\n",
      "Epoch 117/200\n",
      "32/32 [==============================] - 27s 833ms/step - loss: 0.0026 - accuracy: 0.9985 - val_loss: 1.8142 - val_accuracy: 0.7169\n",
      "Epoch 118/200\n",
      "32/32 [==============================] - 26s 827ms/step - loss: 0.0022 - accuracy: 0.9985 - val_loss: 1.8327 - val_accuracy: 0.7149\n",
      "Epoch 119/200\n",
      "32/32 [==============================] - 26s 824ms/step - loss: 0.0020 - accuracy: 0.9990 - val_loss: 1.8594 - val_accuracy: 0.7108\n",
      "Epoch 120/200\n",
      "32/32 [==============================] - 26s 824ms/step - loss: 0.0023 - accuracy: 0.9990 - val_loss: 1.8569 - val_accuracy: 0.7169\n",
      "Epoch 121/200\n",
      "32/32 [==============================] - 26s 829ms/step - loss: 0.0021 - accuracy: 0.9985 - val_loss: 1.8730 - val_accuracy: 0.7108\n",
      "Epoch 122/200\n",
      "32/32 [==============================] - 26s 823ms/step - loss: 0.0026 - accuracy: 0.9980 - val_loss: 1.8834 - val_accuracy: 0.7129\n",
      "Epoch 123/200\n",
      "32/32 [==============================] - 26s 827ms/step - loss: 0.0028 - accuracy: 0.9980 - val_loss: 1.8754 - val_accuracy: 0.7189\n",
      "Epoch 124/200\n",
      "32/32 [==============================] - 26s 825ms/step - loss: 0.0025 - accuracy: 0.9985 - val_loss: 1.9144 - val_accuracy: 0.7088\n",
      "Epoch 125/200\n",
      "32/32 [==============================] - 26s 824ms/step - loss: 0.0029 - accuracy: 0.9990 - val_loss: 1.8909 - val_accuracy: 0.7129\n",
      "Epoch 126/200\n",
      "32/32 [==============================] - 27s 840ms/step - loss: 0.0025 - accuracy: 0.9990 - val_loss: 1.8932 - val_accuracy: 0.7169\n",
      "Epoch 127/200\n",
      "32/32 [==============================] - 26s 823ms/step - loss: 0.0021 - accuracy: 0.9980 - val_loss: 1.9013 - val_accuracy: 0.7189\n",
      "Epoch 128/200\n",
      "32/32 [==============================] - 27s 832ms/step - loss: 0.0020 - accuracy: 0.9985 - val_loss: 1.9242 - val_accuracy: 0.7108\n",
      "Epoch 129/200\n",
      "32/32 [==============================] - 26s 822ms/step - loss: 0.0030 - accuracy: 0.9990 - val_loss: 1.9440 - val_accuracy: 0.7108\n",
      "Epoch 130/200\n",
      "32/32 [==============================] - 27s 840ms/step - loss: 0.0022 - accuracy: 0.9990 - val_loss: 1.9136 - val_accuracy: 0.7169\n",
      "Epoch 131/200\n",
      "32/32 [==============================] - 27s 834ms/step - loss: 0.0039 - accuracy: 0.9985 - val_loss: 1.9356 - val_accuracy: 0.7129\n",
      "Epoch 132/200\n",
      "32/32 [==============================] - 27s 836ms/step - loss: 0.0019 - accuracy: 0.9985 - val_loss: 1.9323 - val_accuracy: 0.7209\n",
      "Epoch 133/200\n",
      "32/32 [==============================] - 27s 831ms/step - loss: 0.0021 - accuracy: 0.9980 - val_loss: 1.9432 - val_accuracy: 0.7129\n",
      "Epoch 134/200\n",
      "32/32 [==============================] - 27s 832ms/step - loss: 0.0027 - accuracy: 0.9985 - val_loss: 1.9447 - val_accuracy: 0.7189\n",
      "Epoch 135/200\n",
      "32/32 [==============================] - 26s 827ms/step - loss: 0.0021 - accuracy: 0.9985 - val_loss: 1.9708 - val_accuracy: 0.7189\n",
      "Epoch 136/200\n",
      "32/32 [==============================] - 26s 825ms/step - loss: 0.0023 - accuracy: 0.9980 - val_loss: 1.9736 - val_accuracy: 0.7169\n",
      "Epoch 137/200\n",
      "32/32 [==============================] - 26s 824ms/step - loss: 0.0022 - accuracy: 0.9990 - val_loss: 1.9906 - val_accuracy: 0.7149\n",
      "Epoch 138/200\n",
      "32/32 [==============================] - 27s 832ms/step - loss: 0.0018 - accuracy: 0.9990 - val_loss: 1.9923 - val_accuracy: 0.7129\n",
      "Epoch 139/200\n",
      "32/32 [==============================] - 26s 826ms/step - loss: 0.0020 - accuracy: 0.9990 - val_loss: 2.0129 - val_accuracy: 0.7209\n",
      "Epoch 140/200\n",
      "32/32 [==============================] - 27s 833ms/step - loss: 0.0025 - accuracy: 0.9990 - val_loss: 1.9958 - val_accuracy: 0.7189\n",
      "Epoch 141/200\n",
      "32/32 [==============================] - 27s 830ms/step - loss: 0.0021 - accuracy: 0.9980 - val_loss: 2.0084 - val_accuracy: 0.7189\n",
      "Epoch 142/200\n",
      "32/32 [==============================] - 27s 830ms/step - loss: 0.0023 - accuracy: 0.9985 - val_loss: 2.0145 - val_accuracy: 0.7169\n",
      "Epoch 143/200\n",
      "32/32 [==============================] - 27s 837ms/step - loss: 0.0024 - accuracy: 0.9980 - val_loss: 2.0139 - val_accuracy: 0.7189\n",
      "Epoch 144/200\n",
      "32/32 [==============================] - 27s 834ms/step - loss: 0.0024 - accuracy: 0.9980 - val_loss: 2.0293 - val_accuracy: 0.7189\n",
      "Epoch 145/200\n",
      "32/32 [==============================] - 26s 825ms/step - loss: 0.0021 - accuracy: 0.9980 - val_loss: 2.0369 - val_accuracy: 0.7169\n",
      "Epoch 146/200\n",
      "32/32 [==============================] - 27s 830ms/step - loss: 0.0020 - accuracy: 0.9985 - val_loss: 2.0435 - val_accuracy: 0.7209\n",
      "Epoch 147/200\n",
      "32/32 [==============================] - 27s 830ms/step - loss: 0.0022 - accuracy: 0.9990 - val_loss: 2.0605 - val_accuracy: 0.7169\n",
      "Epoch 148/200\n",
      "32/32 [==============================] - 27s 830ms/step - loss: 0.0020 - accuracy: 0.9985 - val_loss: 2.0682 - val_accuracy: 0.7129\n",
      "Epoch 149/200\n",
      "32/32 [==============================] - 26s 824ms/step - loss: 0.0029 - accuracy: 0.9975 - val_loss: 2.0825 - val_accuracy: 0.7169\n",
      "Epoch 150/200\n",
      "32/32 [==============================] - 26s 820ms/step - loss: 0.0024 - accuracy: 0.9990 - val_loss: 2.0544 - val_accuracy: 0.7169\n",
      "Epoch 151/200\n",
      "32/32 [==============================] - 27s 850ms/step - loss: 0.0022 - accuracy: 0.9990 - val_loss: 2.0653 - val_accuracy: 0.7169\n",
      "Epoch 152/200\n",
      "32/32 [==============================] - 26s 827ms/step - loss: 0.0019 - accuracy: 0.9990 - val_loss: 2.0699 - val_accuracy: 0.7189\n",
      "Epoch 153/200\n",
      "32/32 [==============================] - 26s 825ms/step - loss: 0.0022 - accuracy: 0.9990 - val_loss: 2.0972 - val_accuracy: 0.7149\n",
      "Epoch 154/200\n",
      "32/32 [==============================] - 26s 820ms/step - loss: 0.0024 - accuracy: 0.9975 - val_loss: 2.0964 - val_accuracy: 0.7129\n",
      "Epoch 155/200\n",
      "32/32 [==============================] - 26s 824ms/step - loss: 0.0025 - accuracy: 0.9990 - val_loss: 2.0992 - val_accuracy: 0.7149\n",
      "Epoch 156/200\n",
      "32/32 [==============================] - 27s 829ms/step - loss: 0.0023 - accuracy: 0.9980 - val_loss: 2.1204 - val_accuracy: 0.7189\n",
      "Epoch 157/200\n",
      "32/32 [==============================] - 26s 825ms/step - loss: 0.0020 - accuracy: 0.9990 - val_loss: 2.1216 - val_accuracy: 0.7189\n",
      "Epoch 158/200\n",
      "32/32 [==============================] - 26s 826ms/step - loss: 0.0023 - accuracy: 0.9990 - val_loss: 2.1159 - val_accuracy: 0.7169\n",
      "Epoch 159/200\n",
      "32/32 [==============================] - 26s 820ms/step - loss: 0.0021 - accuracy: 0.9985 - val_loss: 2.1239 - val_accuracy: 0.7209\n",
      "Epoch 160/200\n",
      "32/32 [==============================] - 26s 825ms/step - loss: 0.0021 - accuracy: 0.9990 - val_loss: 2.1307 - val_accuracy: 0.7189\n",
      "Epoch 161/200\n",
      "32/32 [==============================] - 27s 835ms/step - loss: 0.0020 - accuracy: 0.9990 - val_loss: 2.1408 - val_accuracy: 0.7209\n",
      "Epoch 162/200\n",
      "32/32 [==============================] - 26s 825ms/step - loss: 0.0024 - accuracy: 0.9985 - val_loss: 2.1579 - val_accuracy: 0.7129\n",
      "Epoch 163/200\n",
      "32/32 [==============================] - 26s 828ms/step - loss: 0.0019 - accuracy: 0.9990 - val_loss: 2.1556 - val_accuracy: 0.7169\n",
      "Epoch 164/200\n",
      "32/32 [==============================] - 26s 830ms/step - loss: 0.0027 - accuracy: 0.9990 - val_loss: 2.1547 - val_accuracy: 0.7249\n",
      "Epoch 165/200\n",
      "32/32 [==============================] - 26s 827ms/step - loss: 0.2555 - accuracy: 0.9326 - val_loss: 1.3228 - val_accuracy: 0.6888\n",
      "Epoch 166/200\n",
      "32/32 [==============================] - 27s 837ms/step - loss: 0.3151 - accuracy: 0.8893 - val_loss: 1.0278 - val_accuracy: 0.6988\n",
      "Epoch 167/200\n",
      "32/32 [==============================] - 26s 823ms/step - loss: 0.1034 - accuracy: 0.9613 - val_loss: 1.2867 - val_accuracy: 0.7189\n",
      "Epoch 168/200\n",
      "32/32 [==============================] - 26s 824ms/step - loss: 0.0468 - accuracy: 0.9839 - val_loss: 1.2867 - val_accuracy: 0.6867\n",
      "Epoch 169/200\n",
      "32/32 [==============================] - 26s 827ms/step - loss: 0.0188 - accuracy: 0.9955 - val_loss: 1.5844 - val_accuracy: 0.7229\n",
      "Epoch 170/200\n",
      "32/32 [==============================] - 26s 824ms/step - loss: 0.0064 - accuracy: 0.9990 - val_loss: 1.6174 - val_accuracy: 0.7169\n",
      "Epoch 171/200\n",
      "32/32 [==============================] - 26s 828ms/step - loss: 0.0055 - accuracy: 0.9985 - val_loss: 1.6220 - val_accuracy: 0.7189\n",
      "Epoch 172/200\n",
      "32/32 [==============================] - 27s 831ms/step - loss: 0.0038 - accuracy: 0.9980 - val_loss: 1.6516 - val_accuracy: 0.7229\n",
      "Epoch 173/200\n",
      "32/32 [==============================] - 26s 827ms/step - loss: 0.0038 - accuracy: 0.9980 - val_loss: 1.7021 - val_accuracy: 0.7229\n",
      "Epoch 174/200\n",
      "32/32 [==============================] - 27s 830ms/step - loss: 0.0036 - accuracy: 0.9990 - val_loss: 1.7037 - val_accuracy: 0.7189\n",
      "Epoch 175/200\n",
      "32/32 [==============================] - 26s 826ms/step - loss: 0.0029 - accuracy: 0.9990 - val_loss: 1.7567 - val_accuracy: 0.7229\n",
      "Epoch 176/200\n",
      "32/32 [==============================] - 27s 830ms/step - loss: 0.0026 - accuracy: 0.9990 - val_loss: 1.7564 - val_accuracy: 0.7189\n",
      "Epoch 177/200\n",
      "32/32 [==============================] - 26s 822ms/step - loss: 0.0032 - accuracy: 0.9980 - val_loss: 1.8061 - val_accuracy: 0.7249\n",
      "Epoch 178/200\n",
      "32/32 [==============================] - 26s 827ms/step - loss: 0.0028 - accuracy: 0.9990 - val_loss: 1.7986 - val_accuracy: 0.7169\n",
      "Epoch 179/200\n",
      "32/32 [==============================] - 27s 830ms/step - loss: 0.0027 - accuracy: 0.9990 - val_loss: 1.8253 - val_accuracy: 0.7169\n",
      "Epoch 180/200\n",
      "32/32 [==============================] - 26s 828ms/step - loss: 0.0023 - accuracy: 0.9990 - val_loss: 1.8403 - val_accuracy: 0.7209\n",
      "Epoch 181/200\n",
      "32/32 [==============================] - 27s 839ms/step - loss: 0.0027 - accuracy: 0.9980 - val_loss: 1.8621 - val_accuracy: 0.7229\n",
      "Epoch 182/200\n",
      "32/32 [==============================] - 27s 830ms/step - loss: 0.0025 - accuracy: 0.9990 - val_loss: 1.8688 - val_accuracy: 0.7209\n",
      "Epoch 183/200\n",
      "32/32 [==============================] - 26s 822ms/step - loss: 0.0030 - accuracy: 0.9980 - val_loss: 1.8844 - val_accuracy: 0.7209\n",
      "Epoch 184/200\n",
      "32/32 [==============================] - 26s 826ms/step - loss: 0.0031 - accuracy: 0.9990 - val_loss: 1.8824 - val_accuracy: 0.7209\n",
      "Epoch 185/200\n",
      "32/32 [==============================] - 26s 825ms/step - loss: 0.0022 - accuracy: 0.9990 - val_loss: 1.9041 - val_accuracy: 0.7209\n",
      "Epoch 186/200\n",
      "32/32 [==============================] - 27s 845ms/step - loss: 0.0023 - accuracy: 0.9980 - val_loss: 1.9206 - val_accuracy: 0.7229\n",
      "Epoch 187/200\n",
      "32/32 [==============================] - 27s 842ms/step - loss: 0.0026 - accuracy: 0.9990 - val_loss: 1.9316 - val_accuracy: 0.7209\n",
      "Epoch 188/200\n",
      "32/32 [==============================] - 27s 828ms/step - loss: 0.0025 - accuracy: 0.9990 - val_loss: 1.9485 - val_accuracy: 0.7209\n",
      "Epoch 189/200\n",
      "32/32 [==============================] - 26s 827ms/step - loss: 0.0024 - accuracy: 0.9990 - val_loss: 1.9453 - val_accuracy: 0.7189\n",
      "Epoch 190/200\n",
      "32/32 [==============================] - 26s 825ms/step - loss: 0.0020 - accuracy: 0.9980 - val_loss: 1.9635 - val_accuracy: 0.7189\n",
      "Epoch 191/200\n",
      "32/32 [==============================] - 26s 826ms/step - loss: 0.0023 - accuracy: 0.9990 - val_loss: 1.9728 - val_accuracy: 0.7249\n",
      "Epoch 192/200\n",
      "32/32 [==============================] - 26s 825ms/step - loss: 0.0020 - accuracy: 0.9985 - val_loss: 1.9956 - val_accuracy: 0.7189\n",
      "Epoch 193/200\n",
      "32/32 [==============================] - 26s 826ms/step - loss: 0.0024 - accuracy: 0.9985 - val_loss: 2.0011 - val_accuracy: 0.7209\n",
      "Epoch 194/200\n",
      "32/32 [==============================] - 27s 840ms/step - loss: 0.0024 - accuracy: 0.9980 - val_loss: 2.0116 - val_accuracy: 0.7249\n",
      "Epoch 195/200\n",
      "32/32 [==============================] - 26s 825ms/step - loss: 0.0023 - accuracy: 0.9990 - val_loss: 2.0253 - val_accuracy: 0.7229\n",
      "Epoch 196/200\n",
      "32/32 [==============================] - 26s 829ms/step - loss: 0.0026 - accuracy: 0.9980 - val_loss: 2.0258 - val_accuracy: 0.7209\n",
      "Epoch 197/200\n",
      "32/32 [==============================] - 26s 828ms/step - loss: 0.0027 - accuracy: 0.9990 - val_loss: 2.0202 - val_accuracy: 0.7229\n",
      "Epoch 198/200\n",
      "32/32 [==============================] - 27s 841ms/step - loss: 0.0022 - accuracy: 0.9985 - val_loss: 2.0401 - val_accuracy: 0.7229\n",
      "Epoch 199/200\n",
      "32/32 [==============================] - 27s 830ms/step - loss: 0.0021 - accuracy: 0.9990 - val_loss: 2.0482 - val_accuracy: 0.7249\n",
      "Epoch 200/200\n",
      "32/32 [==============================] - 26s 826ms/step - loss: 0.0019 - accuracy: 0.9990 - val_loss: 2.0662 - val_accuracy: 0.7229\n",
      "Wall time: 1h 28min 45s\n"
     ]
    }
   ],
   "source": [
    "%%time\n",
    "epochs = 200\n",
    "CNN_train_S2nonmatch_FULL = CNN.fit(x_train_S2nonmatch_FULL, y_train_S2nonmatch_FULL, batch_size=batch_size,epochs=epochs,verbose=1,validation_data=(x_test_S2nonmatch_FULL, y_test_S2nonmatch_FULL))"
   ]
  },
  {
   "cell_type": "code",
   "execution_count": 99,
   "metadata": {},
   "outputs": [],
   "source": [
    "y_pred_S2nonmatch_one_hot_FULL = CNN.predict(x_test_S2nonmatch_FULL)"
   ]
  },
  {
   "cell_type": "code",
   "execution_count": 100,
   "metadata": {},
   "outputs": [
    {
     "data": {
      "text/plain": [
       "array([[1.26147221e-04, 9.99873877e-01],\n",
       "       [4.15275055e-15, 1.00000000e+00],\n",
       "       [4.07437817e-08, 1.00000000e+00],\n",
       "       [4.95865429e-03, 9.95041430e-01],\n",
       "       [5.15936299e-05, 9.99948382e-01],\n",
       "       [1.04643598e-01, 8.95356357e-01],\n",
       "       [3.63937928e-03, 9.96360600e-01],\n",
       "       [3.29930931e-02, 9.67006922e-01],\n",
       "       [2.11206481e-01, 7.88793564e-01],\n",
       "       [3.04950269e-08, 1.00000000e+00],\n",
       "       [2.24443735e-03, 9.97755587e-01],\n",
       "       [9.67395695e-12, 1.00000000e+00],\n",
       "       [3.37091806e-05, 9.99966264e-01],\n",
       "       [3.18387181e-01, 6.81612849e-01],\n",
       "       [9.99999881e-01, 6.55122250e-08],\n",
       "       [8.42452641e-19, 1.00000000e+00],\n",
       "       [1.22988911e-06, 9.99998808e-01],\n",
       "       [9.97154236e-01, 2.84570502e-03],\n",
       "       [6.32874784e-04, 9.99367177e-01],\n",
       "       [1.85880109e-12, 1.00000000e+00],\n",
       "       [5.63484393e-02, 9.43651617e-01],\n",
       "       [9.97398496e-01, 2.60154670e-03],\n",
       "       [1.00000000e+00, 4.44644807e-11],\n",
       "       [8.09870381e-03, 9.91901219e-01],\n",
       "       [9.99999046e-01, 9.65660661e-07],\n",
       "       [4.93135005e-02, 9.50686514e-01],\n",
       "       [1.63886696e-01, 8.36113334e-01],\n",
       "       [2.27227681e-10, 1.00000000e+00],\n",
       "       [9.99951720e-01, 4.82793002e-05],\n",
       "       [9.99999642e-01, 3.55265229e-07],\n",
       "       [1.04426508e-04, 9.99895573e-01],\n",
       "       [9.97818828e-01, 2.18115817e-03],\n",
       "       [9.98771012e-01, 1.22895278e-03],\n",
       "       [1.38781935e-01, 8.61218035e-01],\n",
       "       [2.66465850e-06, 9.99997377e-01],\n",
       "       [1.56812985e-06, 9.99998450e-01],\n",
       "       [9.97852921e-01, 2.14707293e-03],\n",
       "       [5.78993335e-02, 9.42100704e-01],\n",
       "       [2.64630318e-01, 7.35369742e-01],\n",
       "       [5.30641992e-05, 9.99946952e-01],\n",
       "       [3.66619793e-06, 9.99996305e-01],\n",
       "       [3.95707575e-05, 9.99960423e-01],\n",
       "       [8.99091840e-01, 1.00908168e-01],\n",
       "       [9.92528439e-01, 7.47154793e-03],\n",
       "       [3.15423548e-01, 6.84576452e-01],\n",
       "       [1.39331399e-03, 9.98606741e-01],\n",
       "       [4.18517172e-01, 5.81482828e-01],\n",
       "       [7.00469688e-02, 9.29953039e-01],\n",
       "       [5.36988373e-05, 9.99946356e-01],\n",
       "       [2.47014806e-01, 7.52985179e-01],\n",
       "       [1.79448293e-03, 9.98205543e-01],\n",
       "       [7.16256618e-04, 9.99283731e-01],\n",
       "       [9.98378396e-01, 1.62158452e-03],\n",
       "       [2.18352798e-04, 9.99781668e-01],\n",
       "       [4.55238111e-02, 9.54476237e-01],\n",
       "       [2.15529261e-09, 1.00000000e+00],\n",
       "       [9.98643696e-01, 1.35633850e-03],\n",
       "       [9.63038802e-01, 3.69611904e-02],\n",
       "       [1.49371717e-05, 9.99985099e-01],\n",
       "       [9.99997377e-01, 2.61034961e-06],\n",
       "       [9.99468863e-01, 5.31141239e-04],\n",
       "       [9.99207079e-01, 7.92913081e-04],\n",
       "       [4.43387678e-20, 1.00000000e+00],\n",
       "       [5.36570918e-12, 1.00000000e+00],\n",
       "       [1.00078080e-18, 1.00000000e+00],\n",
       "       [9.98635113e-01, 1.36490073e-03],\n",
       "       [9.86549854e-01, 1.34500908e-02],\n",
       "       [6.21033891e-08, 9.99999881e-01],\n",
       "       [9.99342263e-01, 6.57710363e-04],\n",
       "       [1.40974480e-11, 1.00000000e+00],\n",
       "       [9.99567568e-01, 4.32465342e-04],\n",
       "       [9.99999881e-01, 1.31101515e-07],\n",
       "       [2.63358174e-06, 9.99997377e-01],\n",
       "       [9.99981642e-01, 1.84060300e-05],\n",
       "       [1.00000000e+00, 1.81343403e-08],\n",
       "       [1.37193897e-03, 9.98628139e-01],\n",
       "       [9.99395490e-01, 6.04514906e-04],\n",
       "       [4.13073413e-03, 9.95869219e-01],\n",
       "       [4.95051034e-03, 9.95049536e-01],\n",
       "       [5.22606797e-06, 9.99994755e-01],\n",
       "       [3.38431887e-11, 1.00000000e+00],\n",
       "       [3.38649869e-01, 6.61350191e-01],\n",
       "       [7.10736367e-06, 9.99992847e-01],\n",
       "       [9.97926712e-01, 2.07323744e-03],\n",
       "       [9.98856306e-01, 1.14374876e-03],\n",
       "       [3.06003392e-01, 6.93996608e-01],\n",
       "       [9.51430440e-01, 4.85696159e-02],\n",
       "       [7.34709454e-22, 1.00000000e+00],\n",
       "       [9.99973893e-01, 2.60656834e-05],\n",
       "       [3.19761395e-01, 6.80238545e-01],\n",
       "       [2.12543249e-01, 7.87456751e-01],\n",
       "       [2.40569841e-03, 9.97594297e-01],\n",
       "       [9.99422431e-01, 5.77637111e-04],\n",
       "       [3.90355803e-12, 1.00000000e+00],\n",
       "       [4.37780301e-07, 9.99999523e-01],\n",
       "       [1.69207361e-02, 9.83079314e-01],\n",
       "       [5.89468546e-05, 9.99940991e-01],\n",
       "       [9.99212623e-01, 7.87408208e-04],\n",
       "       [9.99577582e-01, 4.22418467e-04],\n",
       "       [1.14167612e-02, 9.88583207e-01],\n",
       "       [6.67239208e-10, 1.00000000e+00],\n",
       "       [8.38884353e-06, 9.99991655e-01],\n",
       "       [9.99995828e-01, 4.11319161e-06],\n",
       "       [2.32542888e-07, 9.99999762e-01],\n",
       "       [8.18418777e-10, 1.00000000e+00],\n",
       "       [1.28605692e-02, 9.87139404e-01],\n",
       "       [9.95491922e-01, 4.50808089e-03],\n",
       "       [1.34882706e-13, 1.00000000e+00],\n",
       "       [9.95240569e-01, 4.75948537e-03],\n",
       "       [4.50804178e-03, 9.95491982e-01],\n",
       "       [5.90765037e-09, 1.00000000e+00],\n",
       "       [2.99141850e-10, 1.00000000e+00],\n",
       "       [5.96957150e-10, 1.00000000e+00],\n",
       "       [6.64711744e-03, 9.93352890e-01],\n",
       "       [9.99727190e-01, 2.72761943e-04],\n",
       "       [1.77872188e-08, 1.00000000e+00],\n",
       "       [2.07202807e-02, 9.79279697e-01],\n",
       "       [9.97606975e-09, 1.00000000e+00],\n",
       "       [1.47208959e-01, 8.52791071e-01],\n",
       "       [1.13196629e-05, 9.99988675e-01],\n",
       "       [1.88220829e-01, 8.11779201e-01],\n",
       "       [2.43665505e-04, 9.99756277e-01],\n",
       "       [9.98765945e-01, 1.23403769e-03],\n",
       "       [1.31030660e-20, 1.00000000e+00],\n",
       "       [2.04440961e-11, 1.00000000e+00],\n",
       "       [3.43081774e-04, 9.99656916e-01],\n",
       "       [9.99909759e-01, 9.02000174e-05],\n",
       "       [2.02997431e-01, 7.97002554e-01],\n",
       "       [1.35888951e-03, 9.98641074e-01],\n",
       "       [8.69039834e-01, 1.30960166e-01],\n",
       "       [9.99963880e-01, 3.60978447e-05],\n",
       "       [8.82638812e-01, 1.17361210e-01],\n",
       "       [1.42116062e-02, 9.85788405e-01],\n",
       "       [3.70387352e-05, 9.99962926e-01],\n",
       "       [3.01549792e-01, 6.98450208e-01],\n",
       "       [4.00376585e-08, 1.00000000e+00],\n",
       "       [9.99999285e-01, 7.22750144e-07],\n",
       "       [3.46306562e-01, 6.53693378e-01],\n",
       "       [2.29437470e-01, 7.70562530e-01],\n",
       "       [6.39811151e-06, 9.99993563e-01],\n",
       "       [8.49421144e-01, 1.50578812e-01],\n",
       "       [1.19234310e-05, 9.99988079e-01],\n",
       "       [9.99979138e-01, 2.08040092e-05],\n",
       "       [2.32245512e-02, 9.76775408e-01],\n",
       "       [1.17169351e-04, 9.99882817e-01],\n",
       "       [7.99675615e-09, 1.00000000e+00],\n",
       "       [6.61027478e-03, 9.93389726e-01],\n",
       "       [9.98332441e-01, 1.66751863e-03],\n",
       "       [2.24633230e-04, 9.99775350e-01],\n",
       "       [1.30231753e-01, 8.69768262e-01],\n",
       "       [1.41202356e-04, 9.99858737e-01],\n",
       "       [9.98685777e-01, 1.31420000e-03],\n",
       "       [1.00027670e-07, 9.99999881e-01],\n",
       "       [2.16222543e-05, 9.99978423e-01],\n",
       "       [9.99935865e-01, 6.41436345e-05],\n",
       "       [6.76580966e-01, 3.23419064e-01],\n",
       "       [9.28482473e-01, 7.15175495e-02],\n",
       "       [4.86707874e-02, 9.51329231e-01],\n",
       "       [9.98496294e-01, 1.50365871e-03],\n",
       "       [5.66409824e-07, 9.99999404e-01],\n",
       "       [3.82404380e-07, 9.99999642e-01],\n",
       "       [2.77967774e-06, 9.99997258e-01],\n",
       "       [9.82858688e-02, 9.01714146e-01],\n",
       "       [9.98043537e-01, 1.95641350e-03],\n",
       "       [5.98207451e-02, 9.40179229e-01],\n",
       "       [5.58111786e-11, 1.00000000e+00],\n",
       "       [2.11192592e-08, 1.00000000e+00],\n",
       "       [9.37531590e-01, 6.24684356e-02],\n",
       "       [1.00000000e+00, 4.12385187e-12],\n",
       "       [9.99689221e-01, 3.10762465e-04],\n",
       "       [1.00000000e+00, 9.48056911e-12],\n",
       "       [6.95869858e-06, 9.99993086e-01],\n",
       "       [4.71436863e-08, 1.00000000e+00],\n",
       "       [1.00000000e+00, 2.26471786e-10],\n",
       "       [9.81211424e-01, 1.87885705e-02],\n",
       "       [8.30003023e-01, 1.69996977e-01],\n",
       "       [2.86920458e-01, 7.13079572e-01],\n",
       "       [9.36473668e-01, 6.35263175e-02],\n",
       "       [8.78138065e-01, 1.21861890e-01],\n",
       "       [1.00000000e+00, 4.80783733e-08],\n",
       "       [8.17865597e-08, 9.99999881e-01],\n",
       "       [9.99602616e-01, 3.97362892e-04],\n",
       "       [2.07267775e-12, 1.00000000e+00],\n",
       "       [1.08568892e-02, 9.89143074e-01],\n",
       "       [9.99999881e-01, 1.27533156e-07],\n",
       "       [1.00000000e+00, 3.24975429e-11],\n",
       "       [1.79472860e-04, 9.99820530e-01],\n",
       "       [2.13691555e-02, 9.78630781e-01],\n",
       "       [5.08449671e-11, 1.00000000e+00],\n",
       "       [1.00706891e-11, 1.00000000e+00],\n",
       "       [9.98943388e-01, 1.05663354e-03],\n",
       "       [9.95884597e-01, 4.11535660e-03],\n",
       "       [3.19949567e-10, 1.00000000e+00],\n",
       "       [2.20208734e-04, 9.99779761e-01],\n",
       "       [1.85773708e-03, 9.98142242e-01],\n",
       "       [9.88238931e-01, 1.17611056e-02],\n",
       "       [3.49106342e-02, 9.65089381e-01],\n",
       "       [1.24580765e-05, 9.99987483e-01],\n",
       "       [9.97304678e-01, 2.69528897e-03],\n",
       "       [4.87345934e-01, 5.12654006e-01],\n",
       "       [9.92770970e-01, 7.22902268e-03],\n",
       "       [9.88206208e-01, 1.17937699e-02],\n",
       "       [9.99907136e-01, 9.28088339e-05],\n",
       "       [2.82137888e-04, 9.99717891e-01],\n",
       "       [2.15705395e-01, 7.84294605e-01],\n",
       "       [9.68829811e-01, 3.11701875e-02],\n",
       "       [4.30200837e-18, 1.00000000e+00],\n",
       "       [2.47879163e-03, 9.97521222e-01],\n",
       "       [9.35396731e-01, 6.46032393e-02],\n",
       "       [5.15535248e-07, 9.99999523e-01],\n",
       "       [2.74824648e-04, 9.99725163e-01],\n",
       "       [4.49251005e-04, 9.99550760e-01],\n",
       "       [1.43359840e-01, 8.56640220e-01],\n",
       "       [2.53846284e-11, 1.00000000e+00],\n",
       "       [9.99938130e-01, 6.18282866e-05],\n",
       "       [9.92770970e-01, 7.22899474e-03],\n",
       "       [2.62730243e-03, 9.97372746e-01],\n",
       "       [9.99999523e-01, 4.89434854e-07],\n",
       "       [2.37553075e-04, 9.99762475e-01],\n",
       "       [9.98882592e-01, 1.11738231e-03],\n",
       "       [3.27765830e-02, 9.67223465e-01],\n",
       "       [4.32480556e-06, 9.99995708e-01],\n",
       "       [1.24778235e-04, 9.99875188e-01],\n",
       "       [2.79439200e-06, 9.99997258e-01],\n",
       "       [8.65229958e-06, 9.99991298e-01],\n",
       "       [9.89930630e-01, 1.00693712e-02],\n",
       "       [9.12592530e-01, 8.74074772e-02],\n",
       "       [1.53152374e-04, 9.99846816e-01],\n",
       "       [9.94801074e-02, 9.00519967e-01],\n",
       "       [5.84326654e-06, 9.99994159e-01],\n",
       "       [3.53229970e-01, 6.46770060e-01],\n",
       "       [5.75816214e-01, 4.24183756e-01],\n",
       "       [9.99661207e-01, 3.38770100e-04],\n",
       "       [3.04290950e-02, 9.69570875e-01],\n",
       "       [1.24159064e-02, 9.87584054e-01],\n",
       "       [1.80240478e-02, 9.81975913e-01],\n",
       "       [2.02817060e-02, 9.79718328e-01],\n",
       "       [9.96600688e-01, 3.39938514e-03],\n",
       "       [5.54911979e-03, 9.94450867e-01],\n",
       "       [7.59545937e-02, 9.24045384e-01],\n",
       "       [1.57396391e-01, 8.42603624e-01],\n",
       "       [3.67395003e-08, 1.00000000e+00],\n",
       "       [9.99918342e-01, 8.16880347e-05],\n",
       "       [9.99100566e-01, 8.99465755e-04],\n",
       "       [9.99099851e-01, 9.00156738e-04],\n",
       "       [1.36214436e-03, 9.98637855e-01],\n",
       "       [1.38659887e-02, 9.86133993e-01],\n",
       "       [9.58800972e-01, 4.11990620e-02],\n",
       "       [9.99909163e-01, 9.08243965e-05],\n",
       "       [9.12287831e-03, 9.90877092e-01],\n",
       "       [1.28695916e-03, 9.98713017e-01],\n",
       "       [2.11884731e-06, 9.99997854e-01],\n",
       "       [1.52602689e-02, 9.84739780e-01],\n",
       "       [9.99971390e-01, 2.86271534e-05],\n",
       "       [9.07270424e-03, 9.90927339e-01],\n",
       "       [1.79211333e-01, 8.20788682e-01],\n",
       "       [2.05261385e-04, 9.99794781e-01],\n",
       "       [1.11846533e-03, 9.98881519e-01],\n",
       "       [9.99959230e-01, 4.07300649e-05],\n",
       "       [9.99976277e-01, 2.37248496e-05],\n",
       "       [9.93242919e-01, 6.75706286e-03],\n",
       "       [3.50909948e-04, 9.99649048e-01],\n",
       "       [2.39974692e-01, 7.60025263e-01],\n",
       "       [6.41815632e-06, 9.99993563e-01],\n",
       "       [3.10439782e-12, 1.00000000e+00],\n",
       "       [1.95849575e-02, 9.80415106e-01],\n",
       "       [4.45831865e-02, 9.55416799e-01],\n",
       "       [3.81108975e-08, 1.00000000e+00],\n",
       "       [9.99820054e-01, 1.80003641e-04],\n",
       "       [9.12908126e-06, 9.99990821e-01],\n",
       "       [6.26046494e-06, 9.99993682e-01],\n",
       "       [6.75942063e-01, 3.24057966e-01],\n",
       "       [2.00854374e-05, 9.99979973e-01],\n",
       "       [9.73059297e-01, 2.69407406e-02],\n",
       "       [2.94576603e-04, 9.99705374e-01],\n",
       "       [8.33462225e-04, 9.99166608e-01],\n",
       "       [7.05496455e-03, 9.92945015e-01],\n",
       "       [8.67431402e-01, 1.32568672e-01],\n",
       "       [1.00000000e+00, 7.39085460e-09],\n",
       "       [1.07694061e-04, 9.99892235e-01],\n",
       "       [9.99999762e-01, 1.82215089e-07],\n",
       "       [9.22247171e-02, 9.07775283e-01],\n",
       "       [2.69112080e-01, 7.30887890e-01],\n",
       "       [1.88738352e-03, 9.98112679e-01],\n",
       "       [8.61949384e-01, 1.38050586e-01],\n",
       "       [9.35687125e-01, 6.43129125e-02],\n",
       "       [2.92489931e-05, 9.99970794e-01],\n",
       "       [1.00000000e+00, 1.27631896e-08],\n",
       "       [9.99553263e-01, 4.46707563e-04],\n",
       "       [2.02935830e-01, 7.97064185e-01],\n",
       "       [3.23608466e-11, 1.00000000e+00],\n",
       "       [8.83236527e-01, 1.16763420e-01],\n",
       "       [5.89016406e-03, 9.94109869e-01],\n",
       "       [1.22435009e-02, 9.87756491e-01],\n",
       "       [1.61285188e-05, 9.99983907e-01],\n",
       "       [4.94650189e-11, 1.00000000e+00],\n",
       "       [1.00000000e+00, 1.57212028e-26],\n",
       "       [8.25066664e-08, 9.99999881e-01],\n",
       "       [2.59148508e-01, 7.40851462e-01],\n",
       "       [3.42938691e-01, 6.57061338e-01],\n",
       "       [9.99244571e-01, 7.55423680e-04],\n",
       "       [4.03419840e-08, 1.00000000e+00],\n",
       "       [7.64840782e-01, 2.35159159e-01],\n",
       "       [1.16730705e-01, 8.83269310e-01],\n",
       "       [7.88812784e-08, 9.99999881e-01],\n",
       "       [8.69755030e-01, 1.30245030e-01],\n",
       "       [1.20868906e-03, 9.98791397e-01],\n",
       "       [1.97937061e-05, 9.99980211e-01],\n",
       "       [2.00339634e-10, 1.00000000e+00],\n",
       "       [1.42819270e-10, 1.00000000e+00],\n",
       "       [6.40734613e-01, 3.59265357e-01],\n",
       "       [9.94933307e-01, 5.06673940e-03],\n",
       "       [3.92448601e-05, 9.99960780e-01],\n",
       "       [9.92900241e-05, 9.99900699e-01],\n",
       "       [2.64466643e-01, 7.35533357e-01],\n",
       "       [9.43427336e-10, 1.00000000e+00],\n",
       "       [9.99950886e-01, 4.91107821e-05],\n",
       "       [9.96246755e-01, 3.75325209e-03],\n",
       "       [2.12658346e-02, 9.78734136e-01],\n",
       "       [1.33001263e-08, 1.00000000e+00],\n",
       "       [1.04181832e-04, 9.99895811e-01],\n",
       "       [2.93159241e-16, 1.00000000e+00],\n",
       "       [1.23613188e-03, 9.98763919e-01],\n",
       "       [9.98921752e-01, 1.07827375e-03],\n",
       "       [9.99337137e-01, 6.62814884e-04],\n",
       "       [2.42928922e-01, 7.57071078e-01],\n",
       "       [4.89567142e-09, 1.00000000e+00],\n",
       "       [9.54341114e-01, 4.56588604e-02],\n",
       "       [2.05731159e-03, 9.97942626e-01],\n",
       "       [4.88535570e-16, 1.00000000e+00],\n",
       "       [9.99599874e-01, 4.00187069e-04],\n",
       "       [9.99999404e-01, 5.50106336e-07],\n",
       "       [5.73231082e-05, 9.99942660e-01],\n",
       "       [9.99797046e-01, 2.02992203e-04],\n",
       "       [2.31744293e-02, 9.76825595e-01],\n",
       "       [1.33895650e-04, 9.99866128e-01],\n",
       "       [7.76220893e-11, 1.00000000e+00],\n",
       "       [2.09857113e-30, 1.00000000e+00],\n",
       "       [1.49635132e-03, 9.98503685e-01],\n",
       "       [4.41645592e-01, 5.58354378e-01],\n",
       "       [1.82654411e-02, 9.81734574e-01],\n",
       "       [1.21876434e-03, 9.98781264e-01],\n",
       "       [6.88436687e-01, 3.11563253e-01],\n",
       "       [9.99856830e-01, 1.43105033e-04],\n",
       "       [2.03295499e-02, 9.79670525e-01],\n",
       "       [9.99738753e-01, 2.61293957e-04],\n",
       "       [9.99999762e-01, 2.53311839e-07],\n",
       "       [9.97978151e-01, 2.02187640e-03],\n",
       "       [2.09255486e-12, 1.00000000e+00],\n",
       "       [9.99556601e-01, 4.43418976e-04],\n",
       "       [9.99893904e-01, 1.06079817e-04],\n",
       "       [1.88208383e-03, 9.98117924e-01],\n",
       "       [3.11250851e-12, 1.00000000e+00],\n",
       "       [6.33961568e-03, 9.93660390e-01],\n",
       "       [8.08981970e-23, 1.00000000e+00],\n",
       "       [7.39868611e-08, 9.99999881e-01],\n",
       "       [3.85548519e-05, 9.99961495e-01],\n",
       "       [3.69392659e-08, 1.00000000e+00],\n",
       "       [1.98869079e-01, 8.01130891e-01],\n",
       "       [1.00000000e+00, 1.32060067e-13],\n",
       "       [3.48055512e-02, 9.65194404e-01],\n",
       "       [2.55004852e-03, 9.97449934e-01],\n",
       "       [2.23243125e-02, 9.77675676e-01],\n",
       "       [4.31048636e-25, 1.00000000e+00],\n",
       "       [9.84744251e-01, 1.52556896e-02],\n",
       "       [2.08037374e-08, 1.00000000e+00],\n",
       "       [1.09393103e-03, 9.98906016e-01],\n",
       "       [8.68673503e-01, 1.31326512e-01],\n",
       "       [8.01337123e-01, 1.98662862e-01],\n",
       "       [7.60804323e-06, 9.99992371e-01],\n",
       "       [1.28926158e-01, 8.71073782e-01],\n",
       "       [3.74856442e-01, 6.25143468e-01],\n",
       "       [2.31301303e-14, 1.00000000e+00],\n",
       "       [9.99636650e-01, 3.63374915e-04],\n",
       "       [2.19051307e-03, 9.97809470e-01],\n",
       "       [4.87735681e-03, 9.95122612e-01],\n",
       "       [1.80669531e-07, 9.99999762e-01],\n",
       "       [4.88894666e-03, 9.95111048e-01],\n",
       "       [9.95817959e-01, 4.18202532e-03],\n",
       "       [9.97399092e-01, 2.60094809e-03],\n",
       "       [9.34243739e-01, 6.57562912e-02],\n",
       "       [5.40250778e-01, 4.59749162e-01],\n",
       "       [3.60528102e-05, 9.99963999e-01],\n",
       "       [5.23607123e-05, 9.99947667e-01],\n",
       "       [7.63522834e-02, 9.23647702e-01],\n",
       "       [8.02955823e-04, 9.99197066e-01],\n",
       "       [5.76785088e-01, 4.23214853e-01],\n",
       "       [2.33410677e-08, 1.00000000e+00],\n",
       "       [2.55432837e-02, 9.74456728e-01],\n",
       "       [9.99177754e-01, 8.22259812e-04],\n",
       "       [1.03542782e-01, 8.96457195e-01],\n",
       "       [4.05852516e-05, 9.99959469e-01],\n",
       "       [5.20798767e-06, 9.99994755e-01],\n",
       "       [6.14234751e-14, 1.00000000e+00],\n",
       "       [2.93449461e-02, 9.70655084e-01],\n",
       "       [1.15077046e-05, 9.99988437e-01],\n",
       "       [9.99999881e-01, 6.80041907e-08],\n",
       "       [4.51014424e-03, 9.95489895e-01],\n",
       "       [1.02654379e-02, 9.89734530e-01],\n",
       "       [7.58019336e-09, 1.00000000e+00],\n",
       "       [7.42404833e-02, 9.25759554e-01],\n",
       "       [9.99999285e-01, 7.09225958e-07],\n",
       "       [1.00000000e+00, 1.39068383e-08],\n",
       "       [3.63081723e-01, 6.36918306e-01],\n",
       "       [9.66337562e-01, 3.36624794e-02],\n",
       "       [3.56107503e-02, 9.64389265e-01],\n",
       "       [4.36404824e-01, 5.63595235e-01],\n",
       "       [9.83265758e-01, 1.67342816e-02],\n",
       "       [2.27023005e-01, 7.72977054e-01],\n",
       "       [9.97008383e-01, 2.99161277e-03],\n",
       "       [9.92355585e-01, 7.64435809e-03],\n",
       "       [9.82693970e-01, 1.73059814e-02],\n",
       "       [2.58934713e-04, 9.99741018e-01],\n",
       "       [6.60001297e-06, 9.99993443e-01],\n",
       "       [5.69471061e-01, 4.30528909e-01],\n",
       "       [9.97791171e-01, 2.20883964e-03],\n",
       "       [9.84028041e-01, 1.59718860e-02],\n",
       "       [5.22487052e-02, 9.47751284e-01],\n",
       "       [5.61967550e-04, 9.99437988e-01],\n",
       "       [8.22336186e-23, 1.00000000e+00],\n",
       "       [4.73743223e-13, 1.00000000e+00],\n",
       "       [2.40388545e-08, 1.00000000e+00],\n",
       "       [1.85313453e-07, 9.99999762e-01],\n",
       "       [6.37765697e-05, 9.99936223e-01],\n",
       "       [8.35712115e-07, 9.99999166e-01],\n",
       "       [9.99975801e-01, 2.42048591e-05],\n",
       "       [2.72451722e-14, 1.00000000e+00],\n",
       "       [1.34027516e-03, 9.98659730e-01],\n",
       "       [9.36798533e-05, 9.99906301e-01],\n",
       "       [9.99151707e-01, 8.48252850e-04],\n",
       "       [9.98659968e-01, 1.34007027e-03],\n",
       "       [1.40343355e-02, 9.85965729e-01],\n",
       "       [1.16159534e-03, 9.98838484e-01],\n",
       "       [3.12096321e-11, 1.00000000e+00],\n",
       "       [3.15244833e-04, 9.99684811e-01],\n",
       "       [1.39245890e-06, 9.99998569e-01],\n",
       "       [9.99996185e-01, 3.77525930e-06],\n",
       "       [5.52559376e-01, 4.47440594e-01],\n",
       "       [9.93532419e-01, 6.46754820e-03],\n",
       "       [8.13329995e-01, 1.86670035e-01],\n",
       "       [1.43764680e-13, 1.00000000e+00],\n",
       "       [6.05312288e-01, 3.94687682e-01],\n",
       "       [9.07640541e-09, 1.00000000e+00],\n",
       "       [8.55785921e-16, 1.00000000e+00],\n",
       "       [7.36786649e-02, 9.26321387e-01],\n",
       "       [6.07214086e-02, 9.39278603e-01],\n",
       "       [5.29148912e-11, 1.00000000e+00],\n",
       "       [7.85909288e-05, 9.99921441e-01],\n",
       "       [1.42010773e-04, 9.99858022e-01],\n",
       "       [8.79731834e-01, 1.20268196e-01],\n",
       "       [1.64753851e-03, 9.98352528e-01],\n",
       "       [1.03633032e-16, 1.00000000e+00],\n",
       "       [9.34214890e-01, 6.57851100e-02],\n",
       "       [5.53233549e-03, 9.94467616e-01],\n",
       "       [1.31837940e-02, 9.86816227e-01],\n",
       "       [2.57401522e-02, 9.74259853e-01],\n",
       "       [9.99963403e-01, 3.65472370e-05],\n",
       "       [1.00000000e+00, 5.61261526e-09],\n",
       "       [9.20793235e-01, 7.92067051e-02],\n",
       "       [3.49656631e-07, 9.99999642e-01],\n",
       "       [4.63133736e-04, 9.99536872e-01],\n",
       "       [8.46362770e-01, 1.53637245e-01],\n",
       "       [9.43844643e-05, 9.99905586e-01],\n",
       "       [3.83883208e-01, 6.16116762e-01],\n",
       "       [4.50890601e-01, 5.49109399e-01],\n",
       "       [9.98011470e-01, 1.98854832e-03],\n",
       "       [2.56422936e-04, 9.99743521e-01],\n",
       "       [2.56676597e-10, 1.00000000e+00],\n",
       "       [8.13524892e-08, 9.99999881e-01],\n",
       "       [3.25977873e-12, 1.00000000e+00],\n",
       "       [1.84934743e-05, 9.99981523e-01],\n",
       "       [2.72331905e-04, 9.99727666e-01],\n",
       "       [6.48198726e-13, 1.00000000e+00],\n",
       "       [1.20136030e-02, 9.87986386e-01],\n",
       "       [1.72273234e-01, 8.27726722e-01],\n",
       "       [9.99999642e-01, 3.93761354e-07],\n",
       "       [3.91177118e-01, 6.08822882e-01],\n",
       "       [5.46675990e-04, 9.99453366e-01],\n",
       "       [9.99997735e-01, 2.29324519e-06],\n",
       "       [8.07737422e-07, 9.99999166e-01],\n",
       "       [2.18762871e-05, 9.99978065e-01],\n",
       "       [7.02812086e-10, 1.00000000e+00],\n",
       "       [5.74519106e-07, 9.99999404e-01],\n",
       "       [7.77781897e-05, 9.99922156e-01],\n",
       "       [2.16126889e-01, 7.83873141e-01],\n",
       "       [9.99479115e-01, 5.20904199e-04],\n",
       "       [4.15824413e-01, 5.84175587e-01],\n",
       "       [7.95706287e-02, 9.20429349e-01],\n",
       "       [9.99977112e-01, 2.28769895e-05],\n",
       "       [7.68825121e-04, 9.99231219e-01],\n",
       "       [5.83384991e-01, 4.16615039e-01],\n",
       "       [5.33320306e-19, 1.00000000e+00],\n",
       "       [1.50195285e-06, 9.99998450e-01],\n",
       "       [9.99961853e-01, 3.81585996e-05],\n",
       "       [1.00000000e+00, 1.07078520e-18],\n",
       "       [1.65724126e-03, 9.98342752e-01],\n",
       "       [1.07736673e-08, 1.00000000e+00],\n",
       "       [7.76867920e-19, 1.00000000e+00]], dtype=float32)"
      ]
     },
     "execution_count": 100,
     "metadata": {},
     "output_type": "execute_result"
    }
   ],
   "source": [
    "y_pred_S2nonmatch_one_hot_FULL"
   ]
  },
  {
   "cell_type": "code",
   "execution_count": 101,
   "metadata": {},
   "outputs": [],
   "source": [
    "y_pred_S2nonmatch_FULL = y_pred_S2nonmatch_one_hot_FULL[:,0]"
   ]
  },
  {
   "cell_type": "code",
   "execution_count": 102,
   "metadata": {},
   "outputs": [
    {
     "data": {
      "text/plain": [
       "array([1.26147221e-04, 4.15275055e-15, 4.07437817e-08, 4.95865429e-03,\n",
       "       5.15936299e-05, 1.04643598e-01, 3.63937928e-03, 3.29930931e-02,\n",
       "       2.11206481e-01, 3.04950269e-08, 2.24443735e-03, 9.67395695e-12,\n",
       "       3.37091806e-05, 3.18387181e-01, 9.99999881e-01, 8.42452641e-19,\n",
       "       1.22988911e-06, 9.97154236e-01, 6.32874784e-04, 1.85880109e-12,\n",
       "       5.63484393e-02, 9.97398496e-01, 1.00000000e+00, 8.09870381e-03,\n",
       "       9.99999046e-01, 4.93135005e-02, 1.63886696e-01, 2.27227681e-10,\n",
       "       9.99951720e-01, 9.99999642e-01, 1.04426508e-04, 9.97818828e-01,\n",
       "       9.98771012e-01, 1.38781935e-01, 2.66465850e-06, 1.56812985e-06,\n",
       "       9.97852921e-01, 5.78993335e-02, 2.64630318e-01, 5.30641992e-05,\n",
       "       3.66619793e-06, 3.95707575e-05, 8.99091840e-01, 9.92528439e-01,\n",
       "       3.15423548e-01, 1.39331399e-03, 4.18517172e-01, 7.00469688e-02,\n",
       "       5.36988373e-05, 2.47014806e-01, 1.79448293e-03, 7.16256618e-04,\n",
       "       9.98378396e-01, 2.18352798e-04, 4.55238111e-02, 2.15529261e-09,\n",
       "       9.98643696e-01, 9.63038802e-01, 1.49371717e-05, 9.99997377e-01,\n",
       "       9.99468863e-01, 9.99207079e-01, 4.43387678e-20, 5.36570918e-12,\n",
       "       1.00078080e-18, 9.98635113e-01, 9.86549854e-01, 6.21033891e-08,\n",
       "       9.99342263e-01, 1.40974480e-11, 9.99567568e-01, 9.99999881e-01,\n",
       "       2.63358174e-06, 9.99981642e-01, 1.00000000e+00, 1.37193897e-03,\n",
       "       9.99395490e-01, 4.13073413e-03, 4.95051034e-03, 5.22606797e-06,\n",
       "       3.38431887e-11, 3.38649869e-01, 7.10736367e-06, 9.97926712e-01,\n",
       "       9.98856306e-01, 3.06003392e-01, 9.51430440e-01, 7.34709454e-22,\n",
       "       9.99973893e-01, 3.19761395e-01, 2.12543249e-01, 2.40569841e-03,\n",
       "       9.99422431e-01, 3.90355803e-12, 4.37780301e-07, 1.69207361e-02,\n",
       "       5.89468546e-05, 9.99212623e-01, 9.99577582e-01, 1.14167612e-02,\n",
       "       6.67239208e-10, 8.38884353e-06, 9.99995828e-01, 2.32542888e-07,\n",
       "       8.18418777e-10, 1.28605692e-02, 9.95491922e-01, 1.34882706e-13,\n",
       "       9.95240569e-01, 4.50804178e-03, 5.90765037e-09, 2.99141850e-10,\n",
       "       5.96957150e-10, 6.64711744e-03, 9.99727190e-01, 1.77872188e-08,\n",
       "       2.07202807e-02, 9.97606975e-09, 1.47208959e-01, 1.13196629e-05,\n",
       "       1.88220829e-01, 2.43665505e-04, 9.98765945e-01, 1.31030660e-20,\n",
       "       2.04440961e-11, 3.43081774e-04, 9.99909759e-01, 2.02997431e-01,\n",
       "       1.35888951e-03, 8.69039834e-01, 9.99963880e-01, 8.82638812e-01,\n",
       "       1.42116062e-02, 3.70387352e-05, 3.01549792e-01, 4.00376585e-08,\n",
       "       9.99999285e-01, 3.46306562e-01, 2.29437470e-01, 6.39811151e-06,\n",
       "       8.49421144e-01, 1.19234310e-05, 9.99979138e-01, 2.32245512e-02,\n",
       "       1.17169351e-04, 7.99675615e-09, 6.61027478e-03, 9.98332441e-01,\n",
       "       2.24633230e-04, 1.30231753e-01, 1.41202356e-04, 9.98685777e-01,\n",
       "       1.00027670e-07, 2.16222543e-05, 9.99935865e-01, 6.76580966e-01,\n",
       "       9.28482473e-01, 4.86707874e-02, 9.98496294e-01, 5.66409824e-07,\n",
       "       3.82404380e-07, 2.77967774e-06, 9.82858688e-02, 9.98043537e-01,\n",
       "       5.98207451e-02, 5.58111786e-11, 2.11192592e-08, 9.37531590e-01,\n",
       "       1.00000000e+00, 9.99689221e-01, 1.00000000e+00, 6.95869858e-06,\n",
       "       4.71436863e-08, 1.00000000e+00, 9.81211424e-01, 8.30003023e-01,\n",
       "       2.86920458e-01, 9.36473668e-01, 8.78138065e-01, 1.00000000e+00,\n",
       "       8.17865597e-08, 9.99602616e-01, 2.07267775e-12, 1.08568892e-02,\n",
       "       9.99999881e-01, 1.00000000e+00, 1.79472860e-04, 2.13691555e-02,\n",
       "       5.08449671e-11, 1.00706891e-11, 9.98943388e-01, 9.95884597e-01,\n",
       "       3.19949567e-10, 2.20208734e-04, 1.85773708e-03, 9.88238931e-01,\n",
       "       3.49106342e-02, 1.24580765e-05, 9.97304678e-01, 4.87345934e-01,\n",
       "       9.92770970e-01, 9.88206208e-01, 9.99907136e-01, 2.82137888e-04,\n",
       "       2.15705395e-01, 9.68829811e-01, 4.30200837e-18, 2.47879163e-03,\n",
       "       9.35396731e-01, 5.15535248e-07, 2.74824648e-04, 4.49251005e-04,\n",
       "       1.43359840e-01, 2.53846284e-11, 9.99938130e-01, 9.92770970e-01,\n",
       "       2.62730243e-03, 9.99999523e-01, 2.37553075e-04, 9.98882592e-01,\n",
       "       3.27765830e-02, 4.32480556e-06, 1.24778235e-04, 2.79439200e-06,\n",
       "       8.65229958e-06, 9.89930630e-01, 9.12592530e-01, 1.53152374e-04,\n",
       "       9.94801074e-02, 5.84326654e-06, 3.53229970e-01, 5.75816214e-01,\n",
       "       9.99661207e-01, 3.04290950e-02, 1.24159064e-02, 1.80240478e-02,\n",
       "       2.02817060e-02, 9.96600688e-01, 5.54911979e-03, 7.59545937e-02,\n",
       "       1.57396391e-01, 3.67395003e-08, 9.99918342e-01, 9.99100566e-01,\n",
       "       9.99099851e-01, 1.36214436e-03, 1.38659887e-02, 9.58800972e-01,\n",
       "       9.99909163e-01, 9.12287831e-03, 1.28695916e-03, 2.11884731e-06,\n",
       "       1.52602689e-02, 9.99971390e-01, 9.07270424e-03, 1.79211333e-01,\n",
       "       2.05261385e-04, 1.11846533e-03, 9.99959230e-01, 9.99976277e-01,\n",
       "       9.93242919e-01, 3.50909948e-04, 2.39974692e-01, 6.41815632e-06,\n",
       "       3.10439782e-12, 1.95849575e-02, 4.45831865e-02, 3.81108975e-08,\n",
       "       9.99820054e-01, 9.12908126e-06, 6.26046494e-06, 6.75942063e-01,\n",
       "       2.00854374e-05, 9.73059297e-01, 2.94576603e-04, 8.33462225e-04,\n",
       "       7.05496455e-03, 8.67431402e-01, 1.00000000e+00, 1.07694061e-04,\n",
       "       9.99999762e-01, 9.22247171e-02, 2.69112080e-01, 1.88738352e-03,\n",
       "       8.61949384e-01, 9.35687125e-01, 2.92489931e-05, 1.00000000e+00,\n",
       "       9.99553263e-01, 2.02935830e-01, 3.23608466e-11, 8.83236527e-01,\n",
       "       5.89016406e-03, 1.22435009e-02, 1.61285188e-05, 4.94650189e-11,\n",
       "       1.00000000e+00, 8.25066664e-08, 2.59148508e-01, 3.42938691e-01,\n",
       "       9.99244571e-01, 4.03419840e-08, 7.64840782e-01, 1.16730705e-01,\n",
       "       7.88812784e-08, 8.69755030e-01, 1.20868906e-03, 1.97937061e-05,\n",
       "       2.00339634e-10, 1.42819270e-10, 6.40734613e-01, 9.94933307e-01,\n",
       "       3.92448601e-05, 9.92900241e-05, 2.64466643e-01, 9.43427336e-10,\n",
       "       9.99950886e-01, 9.96246755e-01, 2.12658346e-02, 1.33001263e-08,\n",
       "       1.04181832e-04, 2.93159241e-16, 1.23613188e-03, 9.98921752e-01,\n",
       "       9.99337137e-01, 2.42928922e-01, 4.89567142e-09, 9.54341114e-01,\n",
       "       2.05731159e-03, 4.88535570e-16, 9.99599874e-01, 9.99999404e-01,\n",
       "       5.73231082e-05, 9.99797046e-01, 2.31744293e-02, 1.33895650e-04,\n",
       "       7.76220893e-11, 2.09857113e-30, 1.49635132e-03, 4.41645592e-01,\n",
       "       1.82654411e-02, 1.21876434e-03, 6.88436687e-01, 9.99856830e-01,\n",
       "       2.03295499e-02, 9.99738753e-01, 9.99999762e-01, 9.97978151e-01,\n",
       "       2.09255486e-12, 9.99556601e-01, 9.99893904e-01, 1.88208383e-03,\n",
       "       3.11250851e-12, 6.33961568e-03, 8.08981970e-23, 7.39868611e-08,\n",
       "       3.85548519e-05, 3.69392659e-08, 1.98869079e-01, 1.00000000e+00,\n",
       "       3.48055512e-02, 2.55004852e-03, 2.23243125e-02, 4.31048636e-25,\n",
       "       9.84744251e-01, 2.08037374e-08, 1.09393103e-03, 8.68673503e-01,\n",
       "       8.01337123e-01, 7.60804323e-06, 1.28926158e-01, 3.74856442e-01,\n",
       "       2.31301303e-14, 9.99636650e-01, 2.19051307e-03, 4.87735681e-03,\n",
       "       1.80669531e-07, 4.88894666e-03, 9.95817959e-01, 9.97399092e-01,\n",
       "       9.34243739e-01, 5.40250778e-01, 3.60528102e-05, 5.23607123e-05,\n",
       "       7.63522834e-02, 8.02955823e-04, 5.76785088e-01, 2.33410677e-08,\n",
       "       2.55432837e-02, 9.99177754e-01, 1.03542782e-01, 4.05852516e-05,\n",
       "       5.20798767e-06, 6.14234751e-14, 2.93449461e-02, 1.15077046e-05,\n",
       "       9.99999881e-01, 4.51014424e-03, 1.02654379e-02, 7.58019336e-09,\n",
       "       7.42404833e-02, 9.99999285e-01, 1.00000000e+00, 3.63081723e-01,\n",
       "       9.66337562e-01, 3.56107503e-02, 4.36404824e-01, 9.83265758e-01,\n",
       "       2.27023005e-01, 9.97008383e-01, 9.92355585e-01, 9.82693970e-01,\n",
       "       2.58934713e-04, 6.60001297e-06, 5.69471061e-01, 9.97791171e-01,\n",
       "       9.84028041e-01, 5.22487052e-02, 5.61967550e-04, 8.22336186e-23,\n",
       "       4.73743223e-13, 2.40388545e-08, 1.85313453e-07, 6.37765697e-05,\n",
       "       8.35712115e-07, 9.99975801e-01, 2.72451722e-14, 1.34027516e-03,\n",
       "       9.36798533e-05, 9.99151707e-01, 9.98659968e-01, 1.40343355e-02,\n",
       "       1.16159534e-03, 3.12096321e-11, 3.15244833e-04, 1.39245890e-06,\n",
       "       9.99996185e-01, 5.52559376e-01, 9.93532419e-01, 8.13329995e-01,\n",
       "       1.43764680e-13, 6.05312288e-01, 9.07640541e-09, 8.55785921e-16,\n",
       "       7.36786649e-02, 6.07214086e-02, 5.29148912e-11, 7.85909288e-05,\n",
       "       1.42010773e-04, 8.79731834e-01, 1.64753851e-03, 1.03633032e-16,\n",
       "       9.34214890e-01, 5.53233549e-03, 1.31837940e-02, 2.57401522e-02,\n",
       "       9.99963403e-01, 1.00000000e+00, 9.20793235e-01, 3.49656631e-07,\n",
       "       4.63133736e-04, 8.46362770e-01, 9.43844643e-05, 3.83883208e-01,\n",
       "       4.50890601e-01, 9.98011470e-01, 2.56422936e-04, 2.56676597e-10,\n",
       "       8.13524892e-08, 3.25977873e-12, 1.84934743e-05, 2.72331905e-04,\n",
       "       6.48198726e-13, 1.20136030e-02, 1.72273234e-01, 9.99999642e-01,\n",
       "       3.91177118e-01, 5.46675990e-04, 9.99997735e-01, 8.07737422e-07,\n",
       "       2.18762871e-05, 7.02812086e-10, 5.74519106e-07, 7.77781897e-05,\n",
       "       2.16126889e-01, 9.99479115e-01, 4.15824413e-01, 7.95706287e-02,\n",
       "       9.99977112e-01, 7.68825121e-04, 5.83384991e-01, 5.33320306e-19,\n",
       "       1.50195285e-06, 9.99961853e-01, 1.00000000e+00, 1.65724126e-03,\n",
       "       1.07736673e-08, 7.76867920e-19], dtype=float32)"
      ]
     },
     "execution_count": 102,
     "metadata": {},
     "output_type": "execute_result"
    }
   ],
   "source": [
    "y_pred_S2nonmatch_FULL"
   ]
  },
  {
   "cell_type": "code",
   "execution_count": 103,
   "metadata": {},
   "outputs": [],
   "source": [
    "y_test_S2nonmatch_FULL_new = y_test_S2nonmatch_FULL[:,0]"
   ]
  },
  {
   "cell_type": "code",
   "execution_count": 104,
   "metadata": {},
   "outputs": [
    {
     "data": {
      "text/plain": [
       "array([0., 0., 0., 0., 1., 0., 1., 0., 0., 0., 0., 0., 0., 0., 1., 0., 0.,\n",
       "       0., 1., 0., 1., 0., 1., 0., 0., 0., 1., 0., 1., 0., 0., 1., 1., 0.,\n",
       "       1., 0., 0., 0., 0., 1., 0., 0., 0., 1., 0., 0., 0., 0., 0., 0., 1.,\n",
       "       1., 1., 0., 0., 0., 1., 1., 0., 1., 1., 0., 0., 0., 0., 1., 0., 0.,\n",
       "       1., 0., 1., 0., 0., 1., 1., 0., 1., 0., 0., 0., 0., 1., 0., 0., 1.,\n",
       "       0., 0., 0., 1., 0., 0., 0., 0., 1., 0., 1., 0., 1., 1., 0., 0., 0.,\n",
       "       1., 1., 0., 0., 1., 0., 1., 0., 0., 0., 0., 0., 0., 0., 1., 0., 1.,\n",
       "       0., 1., 0., 0., 1., 0., 0., 1., 0., 0., 1., 0., 0., 0., 0., 0., 0.,\n",
       "       1., 1., 0., 1., 1., 0., 1., 1., 0., 0., 1., 1., 1., 0., 1., 1., 0.,\n",
       "       1., 1., 0., 0., 0., 1., 1., 0., 0., 0., 1., 1., 0., 1., 0., 1., 1.,\n",
       "       1., 1., 0., 1., 1., 0., 0., 0., 1., 1., 1., 1., 0., 0., 1., 1., 0.,\n",
       "       1., 0., 0., 0., 1., 0., 0., 1., 1., 1., 1., 1., 1., 0., 0., 1., 1.,\n",
       "       0., 1., 0., 0., 1., 0., 0., 0., 1., 1., 0., 1., 0., 1., 0., 1., 0.,\n",
       "       0., 0., 0., 1., 1., 1., 0., 0., 1., 1., 0., 1., 0., 1., 0., 0., 1.,\n",
       "       0., 1., 0., 0., 1., 1., 1., 0., 0., 0., 1., 0., 0., 1., 0., 1., 0.,\n",
       "       1., 0., 0., 1., 1., 0., 0., 1., 0., 0., 0., 0., 0., 0., 0., 0., 1.,\n",
       "       1., 1., 0., 0., 0., 0., 1., 0., 1., 0., 1., 0., 0., 0., 1., 1., 0.,\n",
       "       0., 0., 1., 0., 0., 0., 0., 0., 1., 1., 1., 1., 0., 0., 1., 0., 1.,\n",
       "       1., 0., 0., 0., 0., 1., 0., 0., 0., 0., 0., 1., 1., 0., 1., 0., 0.,\n",
       "       0., 1., 0., 0., 1., 0., 0., 0., 1., 1., 1., 0., 0., 0., 0., 1., 0.,\n",
       "       0., 1., 1., 1., 0., 0., 1., 0., 0., 0., 0., 0., 0., 0., 0., 1., 0.,\n",
       "       0., 1., 1., 0., 0., 0., 0., 1., 0., 1., 1., 1., 0., 0., 1., 0., 1.,\n",
       "       0., 0., 0., 0., 0., 1., 1., 0., 0., 0., 0., 1., 0., 0., 0., 0., 1.,\n",
       "       0., 1., 0., 0., 0., 1., 1., 0., 0., 0., 1., 1., 0., 0., 1., 0., 1.,\n",
       "       0., 1., 1., 1., 0., 0., 1., 1., 1., 0., 0., 0., 0., 1., 0., 1., 0.,\n",
       "       1., 0., 0., 1., 1., 1., 1., 1., 0., 0., 0., 0., 1., 0., 1., 0., 1.,\n",
       "       0., 0., 0., 1., 0., 1., 0., 0., 0., 0., 1., 1., 1., 1., 1., 1., 0.,\n",
       "       1., 0., 1., 1., 1., 1., 1., 1., 0., 0., 0., 1., 0., 0., 0., 0., 1.,\n",
       "       0., 0., 1., 0., 1., 0., 0., 0., 0., 1., 0., 0., 1., 0., 0., 0., 0.,\n",
       "       0., 1., 0., 0., 0.], dtype=float32)"
      ]
     },
     "execution_count": 104,
     "metadata": {},
     "output_type": "execute_result"
    }
   ],
   "source": [
    "y_test_S2nonmatch_FULL_new"
   ]
  },
  {
   "cell_type": "code",
   "execution_count": 105,
   "metadata": {},
   "outputs": [],
   "source": [
    "c_range = np.linspace(0,1,100)\n",
    "\n",
    "accuracies = np.ones(len(c_range))\n",
    "\n",
    "for i in range(len(c_range)):\n",
    "    c = c_range[i]\n",
    "    # Compute accuracy as before but with threshold c\n",
    "    accuracies[i] = np.sum(1*(y_pred_S2nonmatch_FULL>c)\n",
    "                           ==y_test_S2nonmatch_FULL_new)/len(y_test_S2nonmatch_FULL_new)"
   ]
  },
  {
   "cell_type": "code",
   "execution_count": 106,
   "metadata": {},
   "outputs": [
    {
     "data": {
      "text/plain": [
       "array([0.39759036, 0.65863454, 0.6746988 , 0.67670683, 0.68072289,\n",
       "       0.68875502, 0.68875502, 0.68875502, 0.69477912, 0.69477912,\n",
       "       0.70080321, 0.70080321, 0.69879518, 0.70281124, 0.70481928,\n",
       "       0.70080321, 0.70281124, 0.70080321, 0.70080321, 0.69879518,\n",
       "       0.69678715, 0.70281124, 0.70883534, 0.71285141, 0.71084337,\n",
       "       0.71485944, 0.71285141, 0.71485944, 0.71485944, 0.71686747,\n",
       "       0.7188755 , 0.72088353, 0.72690763, 0.72690763, 0.72289157,\n",
       "       0.7188755 , 0.72088353, 0.72088353, 0.7188755 , 0.7188755 ,\n",
       "       0.7188755 , 0.7188755 , 0.72289157, 0.72289157, 0.72690763,\n",
       "       0.7248996 , 0.7248996 , 0.7248996 , 0.7248996 , 0.72289157,\n",
       "       0.72289157, 0.72289157, 0.72289157, 0.72289157, 0.7248996 ,\n",
       "       0.72289157, 0.72289157, 0.72088353, 0.72690763, 0.72690763,\n",
       "       0.7248996 , 0.7248996 , 0.7248996 , 0.7248996 , 0.72690763,\n",
       "       0.72690763, 0.72690763, 0.72690763, 0.72690763, 0.7248996 ,\n",
       "       0.7248996 , 0.7248996 , 0.7248996 , 0.7248996 , 0.7248996 ,\n",
       "       0.7248996 , 0.72690763, 0.72690763, 0.72690763, 0.72690763,\n",
       "       0.7248996 , 0.72289157, 0.72289157, 0.7248996 , 0.72289157,\n",
       "       0.72088353, 0.72289157, 0.71686747, 0.7188755 , 0.7188755 ,\n",
       "       0.72088353, 0.7188755 , 0.72289157, 0.72289157, 0.72289157,\n",
       "       0.7248996 , 0.72289157, 0.72088353, 0.71285141, 0.60240964])"
      ]
     },
     "execution_count": 106,
     "metadata": {},
     "output_type": "execute_result"
    }
   ],
   "source": [
    "accuracies"
   ]
  },
  {
   "cell_type": "code",
   "execution_count": 107,
   "metadata": {},
   "outputs": [
    {
     "name": "stdout",
     "output_type": "stream",
     "text": [
      "0.7269076305220884 0.32323232323232326\n"
     ]
    }
   ],
   "source": [
    "print(np.max(accuracies),c_range[np.argmax(accuracies)])"
   ]
  },
  {
   "cell_type": "code",
   "execution_count": 108,
   "metadata": {},
   "outputs": [],
   "source": [
    "y_pred_S2nonmatch_new_FULL = np.zeros(len(y_pred_S2nonmatch_FULL))\n",
    "for i in range(len(y_pred_S2nonmatch_FULL)):\n",
    "    if(y_pred_S2nonmatch_FULL[i] > 0.5):\n",
    "        y_pred_S2nonmatch_new_FULL[i] = 1\n",
    "    else:\n",
    "        y_pred_S2nonmatch_new_FULL[i] = 0"
   ]
  },
  {
   "cell_type": "code",
   "execution_count": 109,
   "metadata": {},
   "outputs": [
    {
     "data": {
      "text/plain": [
       "array([0., 0., 0., 0., 0., 0., 0., 0., 0., 0., 0., 0., 0., 0., 1., 0., 0.,\n",
       "       1., 0., 0., 0., 1., 1., 0., 1., 0., 0., 0., 1., 1., 0., 1., 1., 0.,\n",
       "       0., 0., 1., 0., 0., 0., 0., 0., 1., 1., 0., 0., 0., 0., 0., 0., 0.,\n",
       "       0., 1., 0., 0., 0., 1., 1., 0., 1., 1., 1., 0., 0., 0., 1., 1., 0.,\n",
       "       1., 0., 1., 1., 0., 1., 1., 0., 1., 0., 0., 0., 0., 0., 0., 1., 1.,\n",
       "       0., 1., 0., 1., 0., 0., 0., 1., 0., 0., 0., 0., 1., 1., 0., 0., 0.,\n",
       "       1., 0., 0., 0., 1., 0., 1., 0., 0., 0., 0., 0., 1., 0., 0., 0., 0.,\n",
       "       0., 0., 0., 1., 0., 0., 0., 1., 0., 0., 1., 1., 1., 0., 0., 0., 0.,\n",
       "       1., 0., 0., 0., 1., 0., 1., 0., 0., 0., 0., 1., 0., 0., 0., 1., 0.,\n",
       "       0., 1., 1., 1., 0., 1., 0., 0., 0., 0., 1., 0., 0., 0., 1., 1., 1.,\n",
       "       1., 0., 0., 1., 1., 1., 0., 1., 1., 1., 0., 1., 0., 0., 1., 1., 0.,\n",
       "       0., 0., 0., 1., 1., 0., 0., 0., 1., 0., 0., 1., 0., 1., 1., 1., 0.,\n",
       "       0., 1., 0., 0., 1., 0., 0., 0., 0., 0., 1., 1., 0., 1., 0., 1., 0.,\n",
       "       0., 0., 0., 0., 1., 1., 0., 0., 0., 0., 1., 1., 0., 0., 0., 0., 1.,\n",
       "       0., 0., 0., 0., 1., 1., 1., 0., 0., 1., 1., 0., 0., 0., 0., 1., 0.,\n",
       "       0., 0., 0., 1., 1., 1., 0., 0., 0., 0., 0., 0., 0., 1., 0., 0., 1.,\n",
       "       0., 1., 0., 0., 0., 1., 1., 0., 1., 0., 0., 0., 1., 1., 0., 1., 1.,\n",
       "       0., 0., 1., 0., 0., 0., 0., 1., 0., 0., 0., 1., 0., 1., 0., 0., 1.,\n",
       "       0., 0., 0., 0., 1., 1., 0., 0., 0., 0., 1., 1., 0., 0., 0., 0., 0.,\n",
       "       1., 1., 0., 0., 1., 0., 0., 1., 1., 0., 1., 0., 0., 0., 0., 0., 0.,\n",
       "       0., 0., 1., 1., 0., 1., 1., 1., 0., 1., 1., 0., 0., 0., 0., 0., 0.,\n",
       "       0., 0., 1., 0., 0., 0., 0., 1., 0., 0., 1., 1., 0., 0., 0., 0., 1.,\n",
       "       0., 0., 0., 0., 1., 1., 1., 1., 0., 0., 0., 0., 1., 0., 0., 1., 0.,\n",
       "       0., 0., 0., 0., 0., 1., 0., 0., 0., 0., 1., 1., 0., 1., 0., 0., 1.,\n",
       "       0., 1., 1., 1., 0., 0., 1., 1., 1., 0., 0., 0., 0., 0., 0., 0., 0.,\n",
       "       1., 0., 0., 0., 1., 1., 0., 0., 0., 0., 0., 1., 1., 1., 1., 0., 1.,\n",
       "       0., 0., 0., 0., 0., 0., 0., 1., 0., 0., 1., 0., 0., 0., 1., 1., 1.,\n",
       "       0., 0., 1., 0., 0., 0., 1., 0., 0., 0., 0., 0., 0., 0., 0., 0., 1.,\n",
       "       0., 0., 1., 0., 0., 0., 0., 0., 0., 1., 0., 0., 1., 0., 1., 0., 0.,\n",
       "       1., 1., 0., 0., 0.])"
      ]
     },
     "execution_count": 109,
     "metadata": {},
     "output_type": "execute_result"
    }
   ],
   "source": [
    "y_pred_S2nonmatch_new_FULL"
   ]
  },
  {
   "cell_type": "code",
   "execution_count": 110,
   "metadata": {},
   "outputs": [
    {
     "data": {
      "text/plain": [
       "(498,)"
      ]
     },
     "execution_count": 110,
     "metadata": {},
     "output_type": "execute_result"
    }
   ],
   "source": [
    "np.shape(y_pred_S2nonmatch_new_FULL)"
   ]
  },
  {
   "cell_type": "code",
   "execution_count": 113,
   "metadata": {},
   "outputs": [
    {
     "data": {
      "text/plain": [
       "([<matplotlib.axis.YTick at 0x2ba46440700>,\n",
       "  <matplotlib.axis.YTick at 0x2ba46440130>],\n",
       " [Text(0, 0, 'Control'), Text(0, 1, 'Alcoholic')])"
      ]
     },
     "execution_count": 113,
     "metadata": {},
     "output_type": "execute_result"
    },
    {
     "data": {
      "image/png": "[encoded data removed]",
      "text/plain": [
       "<Figure size 432x288 with 2 Axes>"
      ]
     },
     "metadata": {
      "needs_background": "light"
     },
     "output_type": "display_data"
    }
   ],
   "source": [
    "# Obtain the confusion matrix\n",
    "cm = confusion_matrix(y_true = y_test_S2nonmatch_FULL_new, \n",
    "                      y_pred = y_pred_S2nonmatch_new_FULL, normalize='true')\n",
    "\n",
    "# Plot it!\n",
    "disp = ConfusionMatrixDisplay(confusion_matrix=cm)\n",
    "\n",
    "disp.plot()\n",
    "\n",
    "#fig_path = model_path+'S1-conf_mat.png'\n",
    "#plt.savefig(fig_path)\n",
    "\n",
    "plt.xticks(ticks = [0,1], labels=['Control','Alcoholic'])\n",
    "plt.yticks(ticks = [0,1], labels=['Control','Alcoholic'])"
   ]
  },
  {
   "cell_type": "code",
   "execution_count": null,
   "metadata": {},
   "outputs": [],
   "source": []
  },
  {
   "cell_type": "code",
   "execution_count": null,
   "metadata": {},
   "outputs": [],
   "source": []
  },
  {
   "cell_type": "code",
   "execution_count": null,
   "metadata": {},
   "outputs": [],
   "source": []
  },
  {
   "cell_type": "code",
   "execution_count": null,
   "metadata": {},
   "outputs": [],
   "source": []
  }
 ],
 "metadata": {
  "kernelspec": {
   "display_name": "Python 3",
   "language": "python",
   "name": "python3"
  },
  "language_info": {
   "codemirror_mode": {
    "name": "ipython",
    "version": 3
   },
   "file_extension": ".py",
   "mimetype": "text/x-python",
   "name": "python",
   "nbconvert_exporter": "python",
   "pygments_lexer": "ipython3",
   "version": "3.8.5"
  }
 },
 "nbformat": 4,
 "nbformat_minor": 4
}

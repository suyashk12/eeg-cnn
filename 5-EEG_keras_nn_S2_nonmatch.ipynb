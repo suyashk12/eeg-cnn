{
 "cells": [
  {
   "cell_type": "code",
   "execution_count": 49,
   "metadata": {},
   "outputs": [],
   "source": [
    "import numpy as np\n",
    "import matplotlib.pyplot as plt\n",
    "import pandas as pd\n",
    "import gzip\n",
    "import os\n",
    "import h5py"
   ]
  },
  {
   "cell_type": "markdown",
   "metadata": {},
   "source": [
    "Function to list patient names"
   ]
  },
  {
   "cell_type": "code",
   "execution_count": 50,
   "metadata": {},
   "outputs": [],
   "source": [
    "def list_patient_names(root):\n",
    "\n",
    "    patient_list = sorted([item for item in os.listdir(root) \n",
    "                           if os.path.isdir(os.path.join(root, item))],\n",
    "                           key = lambda x: x[4:])\n",
    "    \n",
    "    return patient_list"
   ]
  },
  {
   "cell_type": "markdown",
   "metadata": {},
   "source": [
    "Function to list trial files"
   ]
  },
  {
   "cell_type": "code",
   "execution_count": 51,
   "metadata": {},
   "outputs": [],
   "source": [
    "def list_trial_files(root, patient_name):\n",
    "    \n",
    "    patient_folder = root + patient_name + \"/\"\n",
    "    \n",
    "    trial_names = sorted([f for f in os.listdir(patient_folder) \n",
    "                          if os.path.isfile(os.path.join(patient_folder, f))])\n",
    "    \n",
    "    return trial_names"
   ]
  },
  {
   "cell_type": "markdown",
   "metadata": {},
   "source": [
    "Function to read in patient name, patient type, trial number, stimulus type, sensor name"
   ]
  },
  {
   "cell_type": "code",
   "execution_count": 52,
   "metadata": {},
   "outputs": [],
   "source": [
    "def parse_dat(root, patient_name, trial_file):\n",
    "    \n",
    "    txtfile = root + patient_name + \"/\" + trial_file\n",
    "    \n",
    "    # Read in the entire data file\n",
    "    lines = []\n",
    "\n",
    "    with gzip.open(txtfile,'rt') as f:\n",
    "        for line in f:\n",
    "            lines.append(line)\n",
    "            \n",
    "    # Get the patient name\n",
    "    patient_name = lines[0].split(' ')[1][:-4]\n",
    "    \n",
    "    # Get patient type (alcoholic or control)\n",
    "    patient_type = patient_name[3]\n",
    "    \n",
    "    # Get trial number\n",
    "    trial_num = trial_file[-6:-3]\n",
    "    \n",
    "    # Get stimulus type\n",
    "    stim_type = lines[3].split(' ')[1] + ' ' + lines[3].split(' ')[2]\n",
    "    \n",
    "    # Get sensor names\n",
    "    readings = lines[4:]\n",
    "    headers = [r for r in readings if r[0]=='#']\n",
    "    sensor_names = [h.split(' ')[1] for h in headers]\n",
    "        \n",
    "    # Get sensor readings for all 64 detectors for all 256 timestamps\n",
    "    data = [r for r in readings if r[0]!='#']\n",
    "    \n",
    "    data_mat = np.zeros((64, 256))\n",
    "    \n",
    "    for i in range(64):\n",
    "        for j in range(256):\n",
    "            data_mat[i, j] = float(data[i*256+j].split(' ')[3][:-1])\n",
    "            \n",
    "    return patient_name, patient_type, trial_num, stim_type, sensor_names, data_mat"
   ]
  },
  {
   "cell_type": "markdown",
   "metadata": {},
   "source": [
    "Load in training data"
   ]
  },
  {
   "cell_type": "code",
   "execution_count": 53,
   "metadata": {},
   "outputs": [],
   "source": [
    "root = \"/Users/thepoetoftwilight/Documents/UCLA Classes/XIII - Winter 2022/Physics 180M/Final Project/SMNI_CMI_TRAIN/\""
   ]
  },
  {
   "cell_type": "code",
   "execution_count": 54,
   "metadata": {
    "scrolled": true
   },
   "outputs": [],
   "source": [
    "patient_list = list_patient_names(root)"
   ]
  },
  {
   "cell_type": "code",
   "execution_count": 55,
   "metadata": {},
   "outputs": [],
   "source": [
    "df = pd.read_csv(root+'S2_nonmatch_patient_summary.csv')\n",
    "hf = h5py.File(root+'S2_nonmatch.h5', 'r')"
   ]
  },
  {
   "cell_type": "code",
   "execution_count": 56,
   "metadata": {},
   "outputs": [],
   "source": [
    "df['Type'] = df['Type'].replace({'c':0, 'a':1})"
   ]
  },
  {
   "cell_type": "code",
   "execution_count": 57,
   "metadata": {},
   "outputs": [],
   "source": [
    "dat_tensor = np.zeros((len(df), 64, 256))"
   ]
  },
  {
   "cell_type": "code",
   "execution_count": 58,
   "metadata": {},
   "outputs": [],
   "source": [
    "dat_targets = np.zeros(len(df))"
   ]
  },
  {
   "cell_type": "code",
   "execution_count": 59,
   "metadata": {},
   "outputs": [],
   "source": [
    "for i in range(len(df)):\n",
    "    \n",
    "    pat = df.iloc[i]['Patient']\n",
    "    tri = '%03d'%df.iloc[i]['Trial']\n",
    "    \n",
    "    fname = pat+'.rd.'+tri\n",
    "    \n",
    "    dat = np.array(hf.get(fname))\n",
    "    \n",
    "    dat_tensor[i] = dat\n",
    "    dat_targets[i] = df.iloc[i]['Type']"
   ]
  },
  {
   "cell_type": "code",
   "execution_count": 60,
   "metadata": {},
   "outputs": [],
   "source": [
    "train_tensor = dat_tensor\n",
    "train_target = dat_targets"
   ]
  },
  {
   "cell_type": "markdown",
   "metadata": {},
   "source": [
    "Construct a neural network"
   ]
  },
  {
   "cell_type": "code",
   "execution_count": 61,
   "metadata": {},
   "outputs": [],
   "source": [
    "# For constructing the neural network\n",
    "import tensorflow as tf\n",
    "from tensorflow import keras"
   ]
  },
  {
   "cell_type": "code",
   "execution_count": 62,
   "metadata": {},
   "outputs": [],
   "source": [
    "# Input layer\n",
    "x = keras.layers.Input(shape=(64,256))\n",
    "\n",
    "# Flatten it\n",
    "f = keras.layers.Flatten()(x)\n",
    "\n",
    "# First dense layer\n",
    "m1 = keras.layers.Dense(25, activation='relu')(f)\n",
    "\n",
    "# Second dense layer\n",
    "\n",
    "m2 = keras.layers.Dense(15, activation='relu')(m1)\n",
    "\n",
    "# Ensure outputs are between 0 and 1 using sigmoid activation\n",
    "h = keras.layers.Dense(1, activation='sigmoid')(m2)\n",
    "\n",
    "# Construct Model \n",
    "model = keras.models.Model(inputs=x, outputs=h)\n",
    "\n",
    "# Compile Model\n",
    "model.compile(optimizer=keras.optimizers.SGD(),\n",
    "              loss=keras.losses.BinaryCrossentropy(),\n",
    "              metrics=tf.metrics.BinaryAccuracy())"
   ]
  },
  {
   "cell_type": "code",
   "execution_count": 63,
   "metadata": {
    "scrolled": false
   },
   "outputs": [
    {
     "name": "stdout",
     "output_type": "stream",
     "text": [
      "Model: \"model_1\"\n",
      "_________________________________________________________________\n",
      " Layer (type)                Output Shape              Param #   \n",
      "=================================================================\n",
      " input_2 (InputLayer)        [(None, 64, 256)]         0         \n",
      "                                                                 \n",
      " flatten_1 (Flatten)         (None, 16384)             0         \n",
      "                                                                 \n",
      " dense_3 (Dense)             (None, 25)                409625    \n",
      "                                                                 \n",
      " dense_4 (Dense)             (None, 15)                390       \n",
      "                                                                 \n",
      " dense_5 (Dense)             (None, 1)                 16        \n",
      "                                                                 \n",
      "=================================================================\n",
      "Total params: 410,031\n",
      "Trainable params: 410,031\n",
      "Non-trainable params: 0\n",
      "_________________________________________________________________\n"
     ]
    }
   ],
   "source": [
    "model.summary()"
   ]
  },
  {
   "cell_type": "markdown",
   "metadata": {},
   "source": [
    "Fit the model"
   ]
  },
  {
   "cell_type": "code",
   "execution_count": 64,
   "metadata": {},
   "outputs": [
    {
     "name": "stdout",
     "output_type": "stream",
     "text": [
      "Epoch 1/100\n",
      "16/16 [==============================] - 1s 15ms/step - loss: 28.0683 - binary_accuracy: 0.5875 - val_loss: 2.4796 - val_binary_accuracy: 0.2500\n",
      "Epoch 2/100\n",
      "16/16 [==============================] - 0s 7ms/step - loss: 1.0182 - binary_accuracy: 0.6250 - val_loss: 1.2046 - val_binary_accuracy: 0.0750\n",
      "Epoch 3/100\n",
      "16/16 [==============================] - 0s 7ms/step - loss: 0.5965 - binary_accuracy: 0.6875 - val_loss: 1.1189 - val_binary_accuracy: 0.0250\n",
      "Epoch 4/100\n",
      "16/16 [==============================] - 0s 7ms/step - loss: 0.4956 - binary_accuracy: 0.7375 - val_loss: 1.2535 - val_binary_accuracy: 0.0750\n",
      "Epoch 5/100\n",
      "16/16 [==============================] - 0s 7ms/step - loss: 0.4578 - binary_accuracy: 0.7625 - val_loss: 1.3424 - val_binary_accuracy: 0.0750\n",
      "Epoch 6/100\n",
      "16/16 [==============================] - 0s 5ms/step - loss: 0.4230 - binary_accuracy: 0.7812 - val_loss: 1.2686 - val_binary_accuracy: 0.0750\n",
      "Epoch 7/100\n",
      "16/16 [==============================] - 0s 6ms/step - loss: 0.8050 - binary_accuracy: 0.7875 - val_loss: 1.2294 - val_binary_accuracy: 0.0750\n",
      "Epoch 8/100\n",
      "16/16 [==============================] - 0s 7ms/step - loss: 0.4556 - binary_accuracy: 0.8000 - val_loss: 1.3645 - val_binary_accuracy: 0.0500\n",
      "Epoch 9/100\n",
      "16/16 [==============================] - 0s 6ms/step - loss: 0.3496 - binary_accuracy: 0.8438 - val_loss: 1.5396 - val_binary_accuracy: 0.1000\n",
      "Epoch 10/100\n",
      "16/16 [==============================] - 0s 5ms/step - loss: 0.3212 - binary_accuracy: 0.8687 - val_loss: 1.7685 - val_binary_accuracy: 0.0750\n",
      "Epoch 11/100\n",
      "16/16 [==============================] - 0s 7ms/step - loss: 0.2769 - binary_accuracy: 0.8687 - val_loss: 1.4940 - val_binary_accuracy: 0.1250\n",
      "Epoch 12/100\n",
      "16/16 [==============================] - 0s 5ms/step - loss: 0.2525 - binary_accuracy: 0.8813 - val_loss: 2.2083 - val_binary_accuracy: 0.0250\n",
      "Epoch 13/100\n",
      "16/16 [==============================] - 0s 7ms/step - loss: 0.2470 - binary_accuracy: 0.8813 - val_loss: 1.7310 - val_binary_accuracy: 0.1000\n",
      "Epoch 14/100\n",
      "16/16 [==============================] - 0s 6ms/step - loss: 0.2271 - binary_accuracy: 0.9000 - val_loss: 1.7939 - val_binary_accuracy: 0.1000\n",
      "Epoch 15/100\n",
      "16/16 [==============================] - 0s 6ms/step - loss: 0.2232 - binary_accuracy: 0.9000 - val_loss: 1.8656 - val_binary_accuracy: 0.1000\n",
      "Epoch 16/100\n",
      "16/16 [==============================] - 0s 7ms/step - loss: 0.2166 - binary_accuracy: 0.9000 - val_loss: 1.9656 - val_binary_accuracy: 0.1000\n",
      "Epoch 17/100\n",
      "16/16 [==============================] - 0s 5ms/step - loss: 0.2245 - binary_accuracy: 0.8875 - val_loss: 1.8799 - val_binary_accuracy: 0.0750\n",
      "Epoch 18/100\n",
      "16/16 [==============================] - 0s 6ms/step - loss: 0.2272 - binary_accuracy: 0.8875 - val_loss: 1.8117 - val_binary_accuracy: 0.1000\n",
      "Epoch 19/100\n",
      "16/16 [==============================] - 0s 6ms/step - loss: 0.2182 - binary_accuracy: 0.9000 - val_loss: 1.8867 - val_binary_accuracy: 0.1000\n",
      "Epoch 20/100\n",
      "16/16 [==============================] - 0s 5ms/step - loss: 0.2117 - binary_accuracy: 0.9000 - val_loss: 2.1169 - val_binary_accuracy: 0.1250\n",
      "Epoch 21/100\n",
      "16/16 [==============================] - 0s 6ms/step - loss: 0.2163 - binary_accuracy: 0.9000 - val_loss: 2.0688 - val_binary_accuracy: 0.1250\n",
      "Epoch 22/100\n",
      "16/16 [==============================] - 0s 7ms/step - loss: 0.2084 - binary_accuracy: 0.9000 - val_loss: 2.1314 - val_binary_accuracy: 0.1500\n",
      "Epoch 23/100\n",
      "16/16 [==============================] - 0s 6ms/step - loss: 0.2074 - binary_accuracy: 0.9000 - val_loss: 2.1922 - val_binary_accuracy: 0.1500\n",
      "Epoch 24/100\n",
      "16/16 [==============================] - 0s 6ms/step - loss: 0.2068 - binary_accuracy: 0.9000 - val_loss: 2.2399 - val_binary_accuracy: 0.1500\n",
      "Epoch 25/100\n",
      "16/16 [==============================] - 0s 8ms/step - loss: 0.2063 - binary_accuracy: 0.9000 - val_loss: 2.2117 - val_binary_accuracy: 0.1500\n",
      "Epoch 26/100\n",
      "16/16 [==============================] - 0s 8ms/step - loss: 0.2062 - binary_accuracy: 0.9000 - val_loss: 2.3203 - val_binary_accuracy: 0.1500\n",
      "Epoch 27/100\n",
      "16/16 [==============================] - 0s 9ms/step - loss: 0.2129 - binary_accuracy: 0.9000 - val_loss: 2.1087 - val_binary_accuracy: 0.1500\n",
      "Epoch 28/100\n",
      "16/16 [==============================] - 0s 7ms/step - loss: 0.2071 - binary_accuracy: 0.9000 - val_loss: 2.2039 - val_binary_accuracy: 0.1500\n",
      "Epoch 29/100\n",
      "16/16 [==============================] - 0s 8ms/step - loss: 0.2090 - binary_accuracy: 0.9000 - val_loss: 2.1683 - val_binary_accuracy: 0.1500\n",
      "Epoch 30/100\n",
      "16/16 [==============================] - 0s 9ms/step - loss: 0.2049 - binary_accuracy: 0.9000 - val_loss: 2.2414 - val_binary_accuracy: 0.1500\n",
      "Epoch 31/100\n",
      "16/16 [==============================] - 0s 6ms/step - loss: 0.2044 - binary_accuracy: 0.9000 - val_loss: 2.2919 - val_binary_accuracy: 0.1500\n",
      "Epoch 32/100\n",
      "16/16 [==============================] - 0s 7ms/step - loss: 0.2039 - binary_accuracy: 0.9000 - val_loss: 2.3253 - val_binary_accuracy: 0.1500\n",
      "Epoch 33/100\n",
      "16/16 [==============================] - 0s 8ms/step - loss: 0.2036 - binary_accuracy: 0.9000 - val_loss: 2.3573 - val_binary_accuracy: 0.1500\n",
      "Epoch 34/100\n",
      "16/16 [==============================] - 0s 9ms/step - loss: 0.2032 - binary_accuracy: 0.9000 - val_loss: 2.4238 - val_binary_accuracy: 0.1500\n",
      "Epoch 35/100\n",
      "16/16 [==============================] - 0s 13ms/step - loss: 0.2013 - binary_accuracy: 0.9000 - val_loss: 2.4950 - val_binary_accuracy: 0.1500\n",
      "Epoch 36/100\n",
      "16/16 [==============================] - 0s 14ms/step - loss: 0.2005 - binary_accuracy: 0.9000 - val_loss: 2.4246 - val_binary_accuracy: 0.1500\n",
      "Epoch 37/100\n",
      "16/16 [==============================] - 0s 12ms/step - loss: 0.2003 - binary_accuracy: 0.9000 - val_loss: 2.6186 - val_binary_accuracy: 0.1250\n",
      "Epoch 38/100\n",
      "16/16 [==============================] - 0s 6ms/step - loss: 0.2052 - binary_accuracy: 0.9000 - val_loss: 2.3723 - val_binary_accuracy: 0.1500\n",
      "Epoch 39/100\n",
      "16/16 [==============================] - 0s 6ms/step - loss: 0.1996 - binary_accuracy: 0.9000 - val_loss: 2.5562 - val_binary_accuracy: 0.1250\n",
      "Epoch 40/100\n",
      "16/16 [==============================] - 0s 6ms/step - loss: 0.2006 - binary_accuracy: 0.9000 - val_loss: 2.3592 - val_binary_accuracy: 0.1500\n",
      "Epoch 41/100\n",
      "16/16 [==============================] - 0s 6ms/step - loss: 0.1991 - binary_accuracy: 0.9000 - val_loss: 2.4770 - val_binary_accuracy: 0.1250\n",
      "Epoch 42/100\n",
      "16/16 [==============================] - 0s 5ms/step - loss: 0.1986 - binary_accuracy: 0.9000 - val_loss: 2.5259 - val_binary_accuracy: 0.1250\n",
      "Epoch 43/100\n",
      "16/16 [==============================] - 0s 5ms/step - loss: 0.1981 - binary_accuracy: 0.9000 - val_loss: 2.5630 - val_binary_accuracy: 0.1500\n",
      "Epoch 44/100\n",
      "16/16 [==============================] - 0s 5ms/step - loss: 0.1929 - binary_accuracy: 0.9062 - val_loss: 2.6039 - val_binary_accuracy: 0.1500\n",
      "Epoch 45/100\n",
      "16/16 [==============================] - 0s 4ms/step - loss: 0.1924 - binary_accuracy: 0.9062 - val_loss: 2.6324 - val_binary_accuracy: 0.1500\n",
      "Epoch 46/100\n",
      "16/16 [==============================] - 0s 4ms/step - loss: 0.1921 - binary_accuracy: 0.9062 - val_loss: 2.6604 - val_binary_accuracy: 0.1500\n",
      "Epoch 47/100\n",
      "16/16 [==============================] - 0s 4ms/step - loss: 0.1919 - binary_accuracy: 0.9062 - val_loss: 2.6839 - val_binary_accuracy: 0.1500\n",
      "Epoch 48/100\n",
      "16/16 [==============================] - 0s 5ms/step - loss: 0.1917 - binary_accuracy: 0.9062 - val_loss: 2.7031 - val_binary_accuracy: 0.1500\n",
      "Epoch 49/100\n",
      "16/16 [==============================] - 0s 7ms/step - loss: 0.1915 - binary_accuracy: 0.9062 - val_loss: 2.7150 - val_binary_accuracy: 0.1500\n",
      "Epoch 50/100\n",
      "16/16 [==============================] - 0s 5ms/step - loss: 0.1913 - binary_accuracy: 0.9062 - val_loss: 2.7291 - val_binary_accuracy: 0.1250\n",
      "Epoch 51/100\n",
      "16/16 [==============================] - 0s 4ms/step - loss: 0.1853 - binary_accuracy: 0.9062 - val_loss: 2.7496 - val_binary_accuracy: 0.1250\n",
      "Epoch 52/100\n",
      "16/16 [==============================] - 0s 5ms/step - loss: 0.1831 - binary_accuracy: 0.9062 - val_loss: 2.7777 - val_binary_accuracy: 0.1250\n",
      "Epoch 53/100\n"
     ]
    },
    {
     "name": "stdout",
     "output_type": "stream",
     "text": [
      "16/16 [==============================] - 0s 6ms/step - loss: 0.1825 - binary_accuracy: 0.9062 - val_loss: 2.8024 - val_binary_accuracy: 0.1250\n",
      "Epoch 54/100\n",
      "16/16 [==============================] - 0s 5ms/step - loss: 0.1819 - binary_accuracy: 0.9062 - val_loss: 2.8192 - val_binary_accuracy: 0.1250\n",
      "Epoch 55/100\n",
      "16/16 [==============================] - 0s 5ms/step - loss: 0.1816 - binary_accuracy: 0.9062 - val_loss: 2.8422 - val_binary_accuracy: 0.1250\n",
      "Epoch 56/100\n",
      "16/16 [==============================] - 0s 4ms/step - loss: 0.1813 - binary_accuracy: 0.9062 - val_loss: 2.8614 - val_binary_accuracy: 0.1250\n",
      "Epoch 57/100\n",
      "16/16 [==============================] - 0s 5ms/step - loss: 0.1810 - binary_accuracy: 0.9062 - val_loss: 2.8757 - val_binary_accuracy: 0.1250\n",
      "Epoch 58/100\n",
      "16/16 [==============================] - 0s 4ms/step - loss: 0.1808 - binary_accuracy: 0.9062 - val_loss: 2.8873 - val_binary_accuracy: 0.1250\n",
      "Epoch 59/100\n",
      "16/16 [==============================] - 0s 5ms/step - loss: 0.1806 - binary_accuracy: 0.9062 - val_loss: 2.8950 - val_binary_accuracy: 0.1250\n",
      "Epoch 60/100\n",
      "16/16 [==============================] - 0s 7ms/step - loss: 0.1805 - binary_accuracy: 0.9062 - val_loss: 2.9071 - val_binary_accuracy: 0.1250\n",
      "Epoch 61/100\n",
      "16/16 [==============================] - 0s 6ms/step - loss: 0.1803 - binary_accuracy: 0.9062 - val_loss: 2.9175 - val_binary_accuracy: 0.1250\n",
      "Epoch 62/100\n",
      "16/16 [==============================] - 0s 6ms/step - loss: 0.1802 - binary_accuracy: 0.9062 - val_loss: 2.9235 - val_binary_accuracy: 0.1250\n",
      "Epoch 63/100\n",
      "16/16 [==============================] - 0s 6ms/step - loss: 0.1801 - binary_accuracy: 0.9062 - val_loss: 2.9356 - val_binary_accuracy: 0.1250\n",
      "Epoch 64/100\n",
      "16/16 [==============================] - 0s 7ms/step - loss: 0.1800 - binary_accuracy: 0.9062 - val_loss: 2.9432 - val_binary_accuracy: 0.1250\n",
      "Epoch 65/100\n",
      "16/16 [==============================] - 0s 6ms/step - loss: 0.1799 - binary_accuracy: 0.9062 - val_loss: 2.9551 - val_binary_accuracy: 0.1250\n",
      "Epoch 66/100\n",
      "16/16 [==============================] - 0s 6ms/step - loss: 0.1798 - binary_accuracy: 0.9062 - val_loss: 2.9622 - val_binary_accuracy: 0.1250\n",
      "Epoch 67/100\n",
      "16/16 [==============================] - 0s 6ms/step - loss: 0.1797 - binary_accuracy: 0.9062 - val_loss: 2.9756 - val_binary_accuracy: 0.1250\n",
      "Epoch 68/100\n",
      "16/16 [==============================] - 0s 4ms/step - loss: 0.1796 - binary_accuracy: 0.9062 - val_loss: 2.9881 - val_binary_accuracy: 0.1250\n",
      "Epoch 69/100\n",
      "16/16 [==============================] - 0s 4ms/step - loss: 0.1796 - binary_accuracy: 0.9062 - val_loss: 2.9969 - val_binary_accuracy: 0.1250\n",
      "Epoch 70/100\n",
      "16/16 [==============================] - 0s 4ms/step - loss: 0.1795 - binary_accuracy: 0.9062 - val_loss: 3.0060 - val_binary_accuracy: 0.1250\n",
      "Epoch 71/100\n",
      "16/16 [==============================] - 0s 8ms/step - loss: 0.1794 - binary_accuracy: 0.9062 - val_loss: 3.0113 - val_binary_accuracy: 0.1250\n",
      "Epoch 72/100\n",
      "16/16 [==============================] - 0s 5ms/step - loss: 0.1793 - binary_accuracy: 0.9062 - val_loss: 3.0168 - val_binary_accuracy: 0.1250\n",
      "Epoch 73/100\n",
      "16/16 [==============================] - 0s 6ms/step - loss: 0.1792 - binary_accuracy: 0.9062 - val_loss: 3.0220 - val_binary_accuracy: 0.1250\n",
      "Epoch 74/100\n",
      "16/16 [==============================] - 0s 4ms/step - loss: 0.1792 - binary_accuracy: 0.9062 - val_loss: 3.0272 - val_binary_accuracy: 0.1250\n",
      "Epoch 75/100\n",
      "16/16 [==============================] - 0s 5ms/step - loss: 0.1791 - binary_accuracy: 0.9062 - val_loss: 3.0325 - val_binary_accuracy: 0.1250\n",
      "Epoch 76/100\n",
      "16/16 [==============================] - 0s 6ms/step - loss: 0.1791 - binary_accuracy: 0.9062 - val_loss: 3.0391 - val_binary_accuracy: 0.1250\n",
      "Epoch 77/100\n",
      "16/16 [==============================] - 0s 6ms/step - loss: 0.1790 - binary_accuracy: 0.9062 - val_loss: 3.0455 - val_binary_accuracy: 0.1250\n",
      "Epoch 78/100\n",
      "16/16 [==============================] - 0s 6ms/step - loss: 0.1789 - binary_accuracy: 0.9062 - val_loss: 3.0505 - val_binary_accuracy: 0.1250\n",
      "Epoch 79/100\n",
      "16/16 [==============================] - 0s 5ms/step - loss: 0.1789 - binary_accuracy: 0.9062 - val_loss: 3.0566 - val_binary_accuracy: 0.1250\n",
      "Epoch 80/100\n",
      "16/16 [==============================] - 0s 5ms/step - loss: 0.1788 - binary_accuracy: 0.9062 - val_loss: 3.0626 - val_binary_accuracy: 0.1250\n",
      "Epoch 81/100\n",
      "16/16 [==============================] - 0s 6ms/step - loss: 0.1788 - binary_accuracy: 0.9062 - val_loss: 3.0676 - val_binary_accuracy: 0.1250\n",
      "Epoch 82/100\n",
      "16/16 [==============================] - 0s 6ms/step - loss: 0.1787 - binary_accuracy: 0.9062 - val_loss: 3.0735 - val_binary_accuracy: 0.1250\n",
      "Epoch 83/100\n",
      "16/16 [==============================] - 0s 5ms/step - loss: 0.1787 - binary_accuracy: 0.9062 - val_loss: 3.0784 - val_binary_accuracy: 0.1250\n",
      "Epoch 84/100\n",
      "16/16 [==============================] - 0s 6ms/step - loss: 0.1786 - binary_accuracy: 0.9062 - val_loss: 3.0853 - val_binary_accuracy: 0.1250\n",
      "Epoch 85/100\n",
      "16/16 [==============================] - 0s 6ms/step - loss: 0.1786 - binary_accuracy: 0.9062 - val_loss: 3.0890 - val_binary_accuracy: 0.1250\n",
      "Epoch 86/100\n",
      "16/16 [==============================] - 0s 6ms/step - loss: 0.1785 - binary_accuracy: 0.9062 - val_loss: 3.0954 - val_binary_accuracy: 0.1250\n",
      "Epoch 87/100\n",
      "16/16 [==============================] - 0s 6ms/step - loss: 0.1785 - binary_accuracy: 0.9062 - val_loss: 3.0997 - val_binary_accuracy: 0.1250\n",
      "Epoch 88/100\n",
      "16/16 [==============================] - 0s 6ms/step - loss: 0.1785 - binary_accuracy: 0.9062 - val_loss: 3.1060 - val_binary_accuracy: 0.1250\n",
      "Epoch 89/100\n",
      "16/16 [==============================] - 0s 5ms/step - loss: 0.1784 - binary_accuracy: 0.9062 - val_loss: 3.1102 - val_binary_accuracy: 0.1250\n",
      "Epoch 90/100\n",
      "16/16 [==============================] - 0s 5ms/step - loss: 0.1784 - binary_accuracy: 0.9062 - val_loss: 3.1133 - val_binary_accuracy: 0.1250\n",
      "Epoch 91/100\n",
      "16/16 [==============================] - 0s 5ms/step - loss: 0.1783 - binary_accuracy: 0.9062 - val_loss: 3.1189 - val_binary_accuracy: 0.1250\n",
      "Epoch 92/100\n",
      "16/16 [==============================] - 0s 4ms/step - loss: 0.1783 - binary_accuracy: 0.9062 - val_loss: 3.1223 - val_binary_accuracy: 0.1250\n",
      "Epoch 93/100\n",
      "16/16 [==============================] - 0s 4ms/step - loss: 0.1782 - binary_accuracy: 0.9062 - val_loss: 3.1275 - val_binary_accuracy: 0.1250\n",
      "Epoch 94/100\n",
      "16/16 [==============================] - 0s 6ms/step - loss: 0.1782 - binary_accuracy: 0.9062 - val_loss: 3.1327 - val_binary_accuracy: 0.1250\n",
      "Epoch 95/100\n",
      "16/16 [==============================] - 0s 4ms/step - loss: 0.1782 - binary_accuracy: 0.9062 - val_loss: 3.1364 - val_binary_accuracy: 0.1250\n",
      "Epoch 96/100\n",
      "16/16 [==============================] - 0s 5ms/step - loss: 0.1782 - binary_accuracy: 0.9062 - val_loss: 3.1414 - val_binary_accuracy: 0.1250\n",
      "Epoch 97/100\n",
      "16/16 [==============================] - 0s 4ms/step - loss: 0.1781 - binary_accuracy: 0.9062 - val_loss: 3.1457 - val_binary_accuracy: 0.1250\n",
      "Epoch 98/100\n",
      "16/16 [==============================] - 0s 4ms/step - loss: 0.1781 - binary_accuracy: 0.9062 - val_loss: 3.1509 - val_binary_accuracy: 0.1250\n",
      "Epoch 99/100\n",
      "16/16 [==============================] - 0s 4ms/step - loss: 0.1780 - binary_accuracy: 0.9062 - val_loss: 3.1547 - val_binary_accuracy: 0.1250\n",
      "Epoch 100/100\n",
      "16/16 [==============================] - 0s 5ms/step - loss: 0.1780 - binary_accuracy: 0.9062 - val_loss: 3.1576 - val_binary_accuracy: 0.1250\n"
     ]
    }
   ],
   "source": [
    "history = model.fit(train_tensor, train_target, epochs = 100, \n",
    "                    batch_size = 10, \n",
    "                    validation_split=.2)"
   ]
  },
  {
   "cell_type": "markdown",
   "metadata": {},
   "source": [
    "Load in testing data"
   ]
  },
  {
   "cell_type": "code",
   "execution_count": 65,
   "metadata": {},
   "outputs": [],
   "source": [
    "root = \"/Users/thepoetoftwilight/Documents/UCLA Classes/XIII - Winter 2022/Physics 180M/Final Project/SMNI_CMI_TEST/\""
   ]
  },
  {
   "cell_type": "code",
   "execution_count": 66,
   "metadata": {},
   "outputs": [],
   "source": [
    "patient_list = list_patient_names(root)"
   ]
  },
  {
   "cell_type": "code",
   "execution_count": 67,
   "metadata": {},
   "outputs": [],
   "source": [
    "df = pd.read_csv(root+'S2_nonmatch_patient_summary.csv')\n",
    "hf = h5py.File(root+'S2_nonmatch.h5', 'r')"
   ]
  },
  {
   "cell_type": "code",
   "execution_count": 68,
   "metadata": {},
   "outputs": [],
   "source": [
    "df['Type'] = df['Type'].replace({'c':0, 'a':1})"
   ]
  },
  {
   "cell_type": "code",
   "execution_count": 69,
   "metadata": {},
   "outputs": [],
   "source": [
    "dat_tensor = np.zeros((len(df), 64, 256))"
   ]
  },
  {
   "cell_type": "code",
   "execution_count": 70,
   "metadata": {},
   "outputs": [],
   "source": [
    "dat_targets = np.zeros(len(df))"
   ]
  },
  {
   "cell_type": "code",
   "execution_count": 71,
   "metadata": {},
   "outputs": [],
   "source": [
    "for i in range(len(df)):\n",
    "    \n",
    "    pat = df.iloc[i]['Patient']\n",
    "    tri = '%03d'%df.iloc[i]['Trial']\n",
    "    \n",
    "    fname = pat+'.rd.'+tri\n",
    "    \n",
    "    dat = np.array(hf.get(fname))\n",
    "    \n",
    "    dat_tensor[i] = dat\n",
    "    dat_targets[i] = df.iloc[i]['Type']"
   ]
  },
  {
   "cell_type": "code",
   "execution_count": 72,
   "metadata": {},
   "outputs": [],
   "source": [
    "test_tensor = dat_tensor\n",
    "test_targets = dat_targets"
   ]
  },
  {
   "cell_type": "markdown",
   "metadata": {},
   "source": [
    "Evaluate performance"
   ]
  },
  {
   "cell_type": "code",
   "execution_count": 73,
   "metadata": {},
   "outputs": [],
   "source": [
    "test_target_probs = model.predict(test_tensor).flatten()"
   ]
  },
  {
   "cell_type": "code",
   "execution_count": 74,
   "metadata": {},
   "outputs": [],
   "source": [
    "c_range = np.linspace(0,1,100)"
   ]
  },
  {
   "cell_type": "code",
   "execution_count": 75,
   "metadata": {},
   "outputs": [],
   "source": [
    "# Computing the accuracies\n",
    "accuracies = np.ones(len(c_range))\n",
    "\n",
    "for i in range(len(c_range)):\n",
    "    c = c_range[i]\n",
    "    # Compute accuracy as before but with threshold c\n",
    "    accuracies[i] = np.sum(1*(test_target_probs>c)\n",
    "                           ==test_targets)/len(test_targets)"
   ]
  },
  {
   "cell_type": "code",
   "execution_count": 76,
   "metadata": {
    "scrolled": true
   },
   "outputs": [
    {
     "data": {
      "text/plain": [
       "Text(0, 0.5, 'Accuracy')"
      ]
     },
     "execution_count": 76,
     "metadata": {},
     "output_type": "execute_result"
    },
    {
     "data": {
      "image/png": "[encoded data removed]",
      "text/plain": [
       "<Figure size 432x288 with 1 Axes>"
      ]
     },
     "metadata": {
      "needs_background": "light"
     },
     "output_type": "display_data"
    }
   ],
   "source": [
    "fig, ax = plt.subplots(1)\n",
    "ax.plot(c_range, accuracies)\n",
    "ax.set_xlabel('Threshold')\n",
    "ax.set_ylabel('Accuracy')"
   ]
  },
  {
   "cell_type": "code",
   "execution_count": 77,
   "metadata": {},
   "outputs": [],
   "source": [
    "from sklearn.metrics import confusion_matrix\n",
    "from sklearn.metrics import confusion_matrix, ConfusionMatrixDisplay"
   ]
  },
  {
   "cell_type": "code",
   "execution_count": 78,
   "metadata": {},
   "outputs": [],
   "source": [
    "preds = np.float_(test_target_probs>c_range[np.argmax(accuracies)])"
   ]
  },
  {
   "cell_type": "code",
   "execution_count": 79,
   "metadata": {},
   "outputs": [
    {
     "data": {
      "text/plain": [
       "([<matplotlib.axis.YTick at 0x7ffe1b0583a0>,\n",
       "  <matplotlib.axis.YTick at 0x7ffe1b058400>],\n",
       " [Text(0, 0, 'Control'), Text(0, 1, 'Alcoholic')])"
      ]
     },
     "execution_count": 79,
     "metadata": {},
     "output_type": "execute_result"
    },
    {
     "data": {
      "image/png": "[encoded data removed]",
      "text/plain": [
       "<Figure size 432x288 with 2 Axes>"
      ]
     },
     "metadata": {
      "needs_background": "light"
     },
     "output_type": "display_data"
    }
   ],
   "source": [
    "# Obtain the confusion matrix\n",
    "cm = confusion_matrix(y_true = test_targets, \n",
    "                      y_pred = preds, normalize='true')\n",
    "\n",
    "# Plot it!\n",
    "disp = ConfusionMatrixDisplay(confusion_matrix=cm)\n",
    "\n",
    "disp.plot()\n",
    "\n",
    "#fig_path = model_path+'S1-conf_mat.png'\n",
    "#plt.savefig(fig_path)\n",
    "\n",
    "plt.xticks(ticks = [0,1], labels=['Control','Alcoholic'])\n",
    "plt.yticks(ticks = [0,1], labels=['Control','Alcoholic'])"
   ]
  },
  {
   "cell_type": "markdown",
   "metadata": {},
   "source": [
    "Load and split into training and testing data the full dataset"
   ]
  },
  {
   "cell_type": "code",
   "execution_count": 80,
   "metadata": {},
   "outputs": [],
   "source": [
    "root = \"/Users/thepoetoftwilight/Documents/UCLA Classes/XIII - Winter 2022/Physics 180M/Final Project/eeg_full/\""
   ]
  },
  {
   "cell_type": "code",
   "execution_count": 81,
   "metadata": {},
   "outputs": [],
   "source": [
    "patient_list = list_patient_names(root)"
   ]
  },
  {
   "cell_type": "code",
   "execution_count": 82,
   "metadata": {},
   "outputs": [],
   "source": [
    "df = pd.read_csv(root+'S2_nonmatch_patient_summary.csv')\n",
    "hf = h5py.File(root+'S2_nonmatch.h5', 'r')"
   ]
  },
  {
   "cell_type": "code",
   "execution_count": 83,
   "metadata": {},
   "outputs": [],
   "source": [
    "df['Type'] = df['Type'].replace({'c':0, 'a':1})"
   ]
  },
  {
   "cell_type": "code",
   "execution_count": 84,
   "metadata": {},
   "outputs": [],
   "source": [
    "dat_tensor = np.zeros((len(df), 64, 256))"
   ]
  },
  {
   "cell_type": "code",
   "execution_count": 85,
   "metadata": {},
   "outputs": [],
   "source": [
    "dat_targets = np.zeros(len(df))"
   ]
  },
  {
   "cell_type": "code",
   "execution_count": 86,
   "metadata": {},
   "outputs": [],
   "source": [
    "for i in range(len(df)):\n",
    "    \n",
    "    pat = df.iloc[i]['Patient']\n",
    "    tri = '%03d'%df.iloc[i]['Trial']\n",
    "    \n",
    "    fname = pat+'.rd.'+tri\n",
    "    \n",
    "    dat = np.array(hf.get(fname))\n",
    "    \n",
    "    dat_tensor[i] = dat\n",
    "    dat_targets[i] = df.iloc[i]['Type']"
   ]
  },
  {
   "cell_type": "code",
   "execution_count": 87,
   "metadata": {},
   "outputs": [],
   "source": [
    "from sklearn.model_selection import train_test_split"
   ]
  },
  {
   "cell_type": "code",
   "execution_count": 88,
   "metadata": {},
   "outputs": [],
   "source": [
    "train_tensor_full, test_tensor_full, train_target_full, test_target_full = train_test_split(\n",
    "                                            dat_tensor, dat_targets, test_size=0.2, random_state=0)"
   ]
  },
  {
   "cell_type": "markdown",
   "metadata": {},
   "source": [
    "Evaluate performance over full dataset"
   ]
  },
  {
   "cell_type": "code",
   "execution_count": 89,
   "metadata": {},
   "outputs": [],
   "source": [
    "test_target_probs = model.predict(test_tensor_full).flatten()"
   ]
  },
  {
   "cell_type": "code",
   "execution_count": 90,
   "metadata": {},
   "outputs": [],
   "source": [
    "# Computing the accuracies\n",
    "accuracies = np.ones(len(c_range))\n",
    "\n",
    "for i in range(len(c_range)):\n",
    "    c = c_range[i]\n",
    "    # Compute accuracy as before but with threshold c\n",
    "    accuracies[i] = np.sum(1*(test_target_probs>c)\n",
    "                           ==test_target_full)/len(test_target_full)"
   ]
  },
  {
   "cell_type": "code",
   "execution_count": 91,
   "metadata": {},
   "outputs": [
    {
     "data": {
      "text/plain": [
       "Text(0, 0.5, 'Accuracy')"
      ]
     },
     "execution_count": 91,
     "metadata": {},
     "output_type": "execute_result"
    },
    {
     "data": {
      "image/png": "[encoded data removed]",
      "text/plain": [
       "<Figure size 432x288 with 1 Axes>"
      ]
     },
     "metadata": {
      "needs_background": "light"
     },
     "output_type": "display_data"
    }
   ],
   "source": [
    "fig, ax = plt.subplots(1)\n",
    "ax.plot(c_range, accuracies)\n",
    "ax.set_xlabel('Threshold')\n",
    "ax.set_ylabel('Accuracy')"
   ]
  },
  {
   "cell_type": "code",
   "execution_count": 92,
   "metadata": {},
   "outputs": [],
   "source": [
    "preds = np.float_(test_target_probs>c_range[np.argmax(accuracies)])"
   ]
  },
  {
   "cell_type": "code",
   "execution_count": 93,
   "metadata": {},
   "outputs": [
    {
     "data": {
      "text/plain": [
       "([<matplotlib.axis.YTick at 0x7ffdfbb37370>,\n",
       "  <matplotlib.axis.YTick at 0x7ffdfbb37b80>],\n",
       " [Text(0, 0, 'Control'), Text(0, 1, 'Alcoholic')])"
      ]
     },
     "execution_count": 93,
     "metadata": {},
     "output_type": "execute_result"
    },
    {
     "data": {
      "image/png": "[encoded data removed]",
      "text/plain": [
       "<Figure size 432x288 with 2 Axes>"
      ]
     },
     "metadata": {
      "needs_background": "light"
     },
     "output_type": "display_data"
    }
   ],
   "source": [
    "# Obtain the confusion matrix\n",
    "cm = confusion_matrix(y_true = test_target_full, \n",
    "                      y_pred = preds,normalize='true')\n",
    "\n",
    "# Plot it!\n",
    "disp = ConfusionMatrixDisplay(confusion_matrix=cm)\n",
    "\n",
    "disp.plot()\n",
    "\n",
    "#fig_path = model_path+'S1-conf_mat.png'\n",
    "#plt.savefig(fig_path)\n",
    "\n",
    "plt.xticks(ticks = [0,1], labels=['Control','Alcoholic'])\n",
    "plt.yticks(ticks = [0,1], labels=['Control','Alcoholic'])"
   ]
  },
  {
   "cell_type": "code",
   "execution_count": null,
   "metadata": {},
   "outputs": [],
   "source": []
  }
 ],
 "metadata": {
  "kernelspec": {
   "display_name": "Python 3",
   "language": "python",
   "name": "python3"
  },
  "language_info": {
   "codemirror_mode": {
    "name": "ipython",
    "version": 3
   },
   "file_extension": ".py",
   "mimetype": "text/x-python",
   "name": "python",
   "nbconvert_exporter": "python",
   "pygments_lexer": "ipython3",
   "version": "3.8.5"
  }
 },
 "nbformat": 4,
 "nbformat_minor": 4
}
